{
 "cells": [
  {
   "cell_type": "markdown",
   "id": "5a4d3ec7",
   "metadata": {},
   "source": [
    "## Appendix: Python Code"
   ]
  },
  {
   "cell_type": "code",
   "execution_count": 58,
   "id": "27efb3c8",
   "metadata": {},
   "outputs": [],
   "source": [
    "import warnings\n",
    "import pandas as pd\n",
    "import numpy as np\n",
    "import cleaning_tools as ct\n",
    "from scipy import stats\n",
    "import matplotlib.pyplot as plt\n",
    "from sklearn.preprocessing import StandardScaler\n",
    "warnings.filterwarnings(\"ignore\")"
   ]
  },
  {
   "cell_type": "code",
   "execution_count": 2,
   "id": "d142fd8c",
   "metadata": {},
   "outputs": [],
   "source": [
    "df = pd.read_csv('/Volumes/GoogleDrive/我的雲端硬碟/Python on cloud/FIM590-001/HW2/all_currencies.csv')\n",
    "# df = pd.read_csv('C:/Users/jessi/Python/FIM590-001/HW2/all_currencies.csv')"
   ]
  },
  {
   "cell_type": "code",
   "execution_count": 3,
   "id": "5d3dcecc",
   "metadata": {},
   "outputs": [
    {
     "data": {
      "text/html": [
       "<div>\n",
       "<style scoped>\n",
       "    .dataframe tbody tr th:only-of-type {\n",
       "        vertical-align: middle;\n",
       "    }\n",
       "\n",
       "    .dataframe tbody tr th {\n",
       "        vertical-align: top;\n",
       "    }\n",
       "\n",
       "    .dataframe thead th {\n",
       "        text-align: right;\n",
       "    }\n",
       "</style>\n",
       "<table border=\"1\" class=\"dataframe\">\n",
       "  <thead>\n",
       "    <tr style=\"text-align: right;\">\n",
       "      <th></th>\n",
       "      <th>Unnamed: 0</th>\n",
       "      <th>Date</th>\n",
       "      <th>Symbol</th>\n",
       "      <th>Open</th>\n",
       "      <th>High</th>\n",
       "      <th>Low</th>\n",
       "      <th>Close</th>\n",
       "      <th>Volume</th>\n",
       "      <th>Market Cap</th>\n",
       "    </tr>\n",
       "  </thead>\n",
       "  <tbody>\n",
       "    <tr>\n",
       "      <th>0</th>\n",
       "      <td>0</td>\n",
       "      <td>2015-11-12</td>\n",
       "      <td>$$$</td>\n",
       "      <td>0.000013</td>\n",
       "      <td>0.000017</td>\n",
       "      <td>0.000013</td>\n",
       "      <td>0.000017</td>\n",
       "      <td>142.0</td>\n",
       "      <td>NaN</td>\n",
       "    </tr>\n",
       "    <tr>\n",
       "      <th>1</th>\n",
       "      <td>1</td>\n",
       "      <td>2015-11-13</td>\n",
       "      <td>$$$</td>\n",
       "      <td>0.000017</td>\n",
       "      <td>0.000033</td>\n",
       "      <td>0.000016</td>\n",
       "      <td>0.000024</td>\n",
       "      <td>85.0</td>\n",
       "      <td>NaN</td>\n",
       "    </tr>\n",
       "    <tr>\n",
       "      <th>2</th>\n",
       "      <td>2</td>\n",
       "      <td>2015-11-14</td>\n",
       "      <td>$$$</td>\n",
       "      <td>0.000024</td>\n",
       "      <td>0.000053</td>\n",
       "      <td>0.000023</td>\n",
       "      <td>0.000030</td>\n",
       "      <td>131.0</td>\n",
       "      <td>NaN</td>\n",
       "    </tr>\n",
       "    <tr>\n",
       "      <th>3</th>\n",
       "      <td>3</td>\n",
       "      <td>2015-11-15</td>\n",
       "      <td>$$$</td>\n",
       "      <td>0.000030</td>\n",
       "      <td>0.000063</td>\n",
       "      <td>0.000022</td>\n",
       "      <td>0.000035</td>\n",
       "      <td>132.0</td>\n",
       "      <td>NaN</td>\n",
       "    </tr>\n",
       "    <tr>\n",
       "      <th>4</th>\n",
       "      <td>4</td>\n",
       "      <td>2015-11-16</td>\n",
       "      <td>$$$</td>\n",
       "      <td>0.000035</td>\n",
       "      <td>0.000046</td>\n",
       "      <td>0.000032</td>\n",
       "      <td>0.000036</td>\n",
       "      <td>280.0</td>\n",
       "      <td>NaN</td>\n",
       "    </tr>\n",
       "  </tbody>\n",
       "</table>\n",
       "</div>"
      ],
      "text/plain": [
       "   Unnamed: 0        Date Symbol      Open      High       Low     Close  \\\n",
       "0           0  2015-11-12    $$$  0.000013  0.000017  0.000013  0.000017   \n",
       "1           1  2015-11-13    $$$  0.000017  0.000033  0.000016  0.000024   \n",
       "2           2  2015-11-14    $$$  0.000024  0.000053  0.000023  0.000030   \n",
       "3           3  2015-11-15    $$$  0.000030  0.000063  0.000022  0.000035   \n",
       "4           4  2015-11-16    $$$  0.000035  0.000046  0.000032  0.000036   \n",
       "\n",
       "   Volume  Market Cap  \n",
       "0   142.0         NaN  \n",
       "1    85.0         NaN  \n",
       "2   131.0         NaN  \n",
       "3   132.0         NaN  \n",
       "4   280.0         NaN  "
      ]
     },
     "execution_count": 3,
     "metadata": {},
     "output_type": "execute_result"
    }
   ],
   "source": [
    "df.head()"
   ]
  },
  {
   "cell_type": "code",
   "execution_count": 4,
   "id": "6e19f59a",
   "metadata": {},
   "outputs": [],
   "source": [
    "# 887 coins\n",
    "coinsAll = ct.unique(df['Symbol'])\n",
    "# 1020 trading days\n",
    "datesAll = ct.unique(df['Date'])"
   ]
  },
  {
   "cell_type": "markdown",
   "id": "20193715",
   "metadata": {},
   "source": [
    "## Load Numpy Arrays with Prices and Caps"
   ]
  },
  {
   "cell_type": "code",
   "execution_count": 5,
   "id": "69249712",
   "metadata": {},
   "outputs": [],
   "source": [
    "T=len(datesAll) # 1020 trading days\n",
    "N=len(coinsAll) # 887 coins\n",
    "\n",
    "timeCoins = np.zeros(N)\n",
    "endDate = []\n",
    "    \n",
    "T = 1020 ### this is a good number to pick\n",
    "Pall = np.zeros((N,T))*np.nan\n",
    "CAPall = np.zeros((N,T))*np.nan\n",
    "\n",
    "for i in range(N):\n",
    "    ind_coin = np.where(df['Symbol']==coinsAll[i])[0] # find the all cover row number of each coin\n",
    "    if len(ind_coin)>=T:\n",
    "        dates=df['Date'][ind_coin[-T:]]\n",
    "        dates=dates.reset_index()\n",
    "        \n",
    "        ##### make sure all time series start at same time\n",
    "        #if dates['Date'][0][0:7] == '2015-12':  ## start Dec. 2015\n",
    "        if dates['Date'][0] == '2015-12-13': ## start 13th Dec. 2015\n",
    "            Pall[i,]=df['Close'][ind_coin[-T:]]\n",
    "            CAPall[i,]=df['Market Cap'][ind_coin[-T:]]"
   ]
  },
  {
   "cell_type": "markdown",
   "id": "b7b5898d",
   "metadata": {},
   "source": [
    "## Clean the Data of Incomplete/Empty Rows"
   ]
  },
  {
   "cell_type": "code",
   "execution_count": 6,
   "id": "74b6f9c1",
   "metadata": {},
   "outputs": [],
   "source": [
    "ind_complete_cases = np.where(ct.complete_cases(Pall))[0]\n",
    "P = Pall[ind_complete_cases,:]\n",
    "CAP = CAPall[ind_complete_cases,:]\n",
    "coins = [coinsAll[i] for i in ind_complete_cases]\n",
    "\n",
    "ind_complete_cases = np.where(ct.complete_cases(CAP))[0]\n",
    "P = P[ind_complete_cases,:]\n",
    "CAP = CAP[ind_complete_cases,:]\n",
    "coins = [coins[i] for i in ind_complete_cases]\n",
    "\n",
    "R = np.diff(P,axis=1)/P[:,0:-1]\n",
    "\n",
    "N,T = R.shape"
   ]
  },
  {
   "cell_type": "markdown",
   "id": "0f8ec4a7",
   "metadata": {},
   "source": [
    "##  Principal Component Analysis"
   ]
  },
  {
   "cell_type": "code",
   "execution_count": 7,
   "id": "de902753",
   "metadata": {},
   "outputs": [],
   "source": [
    "##### eigenportfolio estimation:\n",
    "sigma = np.std(R,axis=1)\n",
    "\n",
    "Rsort_norm = StandardScaler().fit_transform(R.T).T \n",
    "u,s,v = np.linalg.svd(Rsort_norm) # u is Unitary matrix; s is eigenvalues matrix; v is eigenvector matrix. RV=US\n"
   ]
  },
  {
   "cell_type": "code",
   "execution_count": 51,
   "id": "710f978e",
   "metadata": {},
   "outputs": [
    {
     "data": {
      "text/plain": [
       "array([15.20584906,  2.1200872 ,  1.97917869,  1.76018088,  1.68140299,\n",
       "        1.56576686,  1.52870628,  1.46632179,  1.44173348,  1.41328669,\n",
       "        1.37655208,  1.3710361 ,  1.3588825 ,  1.33342294,  1.3157015 ,\n",
       "        1.30430844,  1.2769411 ,  1.25688272,  1.24932958,  1.2283552 ,\n",
       "        1.19413919,  1.17599926,  1.16465323,  1.14576725,  1.1369111 ,\n",
       "        1.12445671,  1.11145334,  1.09344481,  1.08161892,  1.06003019,\n",
       "        1.04200448,  1.03333575,  1.00872559,  1.00307765,  0.99107986,\n",
       "        0.98623387,  0.96925957,  0.96229727,  0.94345022,  0.93408061,\n",
       "        0.92440402,  0.90808119,  0.90231278,  0.88002486,  0.86799613,\n",
       "        0.86316195,  0.85702163,  0.8410462 ,  0.83316311,  0.82847939,\n",
       "        0.81545517,  0.80957434,  0.78975589,  0.78284198,  0.77460757,\n",
       "        0.7654911 ,  0.75012842,  0.73159896,  0.72603234,  0.71801739,\n",
       "        0.71576826,  0.69732082,  0.69326786,  0.68523478,  0.67854583,\n",
       "        0.6681274 ,  0.65079044,  0.64132381,  0.63388641,  0.62269919,\n",
       "        0.61175402,  0.60860154,  0.59215885,  0.58689184,  0.58321869,\n",
       "        0.55952518,  0.55440404,  0.5372937 ,  0.53309278,  0.52512117,\n",
       "        0.51151985,  0.50115937,  0.49324283,  0.49020773,  0.47428022,\n",
       "        0.46547825,  0.46098273,  0.44794893,  0.43159647,  0.42654796,\n",
       "        0.41484273,  0.4026259 ,  0.38504287,  0.37288041,  0.36338237,\n",
       "        0.35227316,  0.34907245,  0.34019399,  0.32450343,  0.30351817,\n",
       "        0.28873554,  0.25579867])"
      ]
     },
     "execution_count": 51,
     "metadata": {},
     "output_type": "execute_result"
    }
   ],
   "source": [
    "s**2/T"
   ]
  },
  {
   "cell_type": "code",
   "execution_count": 8,
   "id": "225b0895",
   "metadata": {},
   "outputs": [
    {
     "data": {
      "image/png": "[encoded data removed]",
      "text/plain": [
       "<Figure size 432x288 with 1 Axes>"
      ]
     },
     "metadata": {
      "needs_background": "light"
     },
     "output_type": "display_data"
    }
   ],
   "source": [
    "plt.hist(s**2/T,bins=50)\n",
    "plt.show()"
   ]
  },
  {
   "cell_type": "markdown",
   "id": "d1bdf747",
   "metadata": {},
   "source": [
    "## Principal Eigenportfolio"
   ]
  },
  {
   "cell_type": "code",
   "execution_count": 9,
   "id": "5b4513e9",
   "metadata": {
    "scrolled": true
   },
   "outputs": [
    {
     "name": "stdout",
     "output_type": "stream",
     "text": [
      "[ 7.47906980e-04  1.11784302e-02  3.23348342e-06  5.94667788e-03\n",
      "  7.21129774e-03  8.76741285e-03  1.27133673e-02  7.13158902e-03\n",
      "  4.46629694e-03  2.24281982e-02  7.31716940e-03  1.99750930e-03\n",
      "  3.48174804e-04  4.12218100e-03  5.64529918e-02  4.68265918e-03\n",
      "  2.25288481e-02  2.25784610e-05  1.49376256e-02  1.10212252e-02\n",
      "  8.05742358e-03  4.81716946e-03  2.56471935e-02  4.35866753e-03\n",
      "  7.50768613e-03  6.77744109e-03  2.50493827e-02  2.76237809e-03\n",
      "  1.18395118e-02  3.00891577e-03  1.65227294e-02  2.69277785e-02\n",
      "  3.59208698e-03  1.25709629e-02  1.23349439e-02  7.36215197e-03\n",
      "  1.08299135e-02  2.44393601e-02  3.12003908e-04  6.74342758e-03\n",
      "  1.53396339e-02  1.43837012e-03  1.21718911e-02  9.79321293e-03\n",
      "  1.67155613e-02  3.92624204e-03  1.45803904e-02  4.86993084e-03\n",
      "  3.72638971e-03  5.58887421e-03  8.24071390e-04  1.45246009e-02\n",
      "  2.96855490e-02  2.45786896e-03  1.16305624e-02  1.70171322e-03\n",
      "  2.91795750e-03  2.96063315e-03  1.19328960e-02  1.51059735e-02\n",
      "  4.58084166e-03  1.47165728e-02  8.05224517e-03  2.07184179e-02\n",
      "  3.08028363e-03  8.51551881e-06  2.72919132e-03  6.77996525e-03\n",
      " -4.92194284e-07  4.68546770e-04  1.24777734e-02  2.67320210e-02\n",
      "  1.30916140e-02  1.73869214e-03  7.09312499e-03  8.47937917e-03\n",
      "  6.94312659e-03  9.39776217e-03  7.75358698e-03  1.31283076e-02\n",
      "  1.48854086e-02  1.07091726e-03  1.68454858e-04  6.90839163e-04\n",
      "  6.88110151e-03  1.40475292e-02  1.25727659e-02  1.13331976e-02\n",
      "  1.38568410e-02  6.83271260e-03  1.42804315e-02  1.17069635e-02\n",
      "  1.35457542e-02  1.57155050e-02  9.70566916e-03  2.14334972e-02\n",
      "  9.73073503e-03  1.81870615e-02  1.32266643e-02  5.35687422e-03\n",
      "  6.17945668e-03  3.24331973e-03]\n"
     ]
    }
   ],
   "source": [
    "c=np.dot(1/sigma,u[:,0]) # c is the product sum of 1/sigma & first eigenvector\n",
    "pi=1/sigma*u[:,0]/c \n",
    "print(pi)"
   ]
  },
  {
   "cell_type": "code",
   "execution_count": 10,
   "id": "c08ecb82",
   "metadata": {
    "scrolled": true
   },
   "outputs": [],
   "source": [
    "rank = np.argsort(-pi) # from big to small\n",
    "pi_sorted=pi[rank]"
   ]
  },
  {
   "cell_type": "code",
   "execution_count": 11,
   "id": "0f3c54f3",
   "metadata": {},
   "outputs": [],
   "source": [
    "mean_CAP=np.mean(CAP,axis=1)\n",
    "cap_rank=np.argsort(-mean_CAP) # from big to small"
   ]
  },
  {
   "cell_type": "code",
   "execution_count": 12,
   "id": "8233771a",
   "metadata": {},
   "outputs": [
    {
     "data": {
      "image/png": "[encoded data removed]",
      "text/plain": [
       "<Figure size 432x288 with 1 Axes>"
      ]
     },
     "metadata": {
      "needs_background": "light"
     },
     "output_type": "display_data"
    }
   ],
   "source": [
    "plt.plot(pi_sorted,label='eigenportfolio')\n",
    "plt.plot(mean_CAP[rank]/np.sum(mean_CAP),linestyle='--',label='cap-weighted portfolio')\n",
    "plt.title('Compare weights')\n",
    "plt.legend()\n",
    "plt.show()"
   ]
  },
  {
   "cell_type": "code",
   "execution_count": 13,
   "id": "34d1fc89",
   "metadata": {},
   "outputs": [
    {
     "name": "stderr",
     "output_type": "stream",
     "text": [
      "/var/folders/5q/ht1339qj6fd2nxwc37wh01s40000gn/T/ipykernel_2629/2675547213.py:1: RuntimeWarning: invalid value encountered in log\n",
      "  plt.plot(np.log(pi_sorted),label='eigenportfolio')\n"
     ]
    },
    {
     "data": {
      "image/png": "[encoded data removed]",
      "text/plain": [
       "<Figure size 432x288 with 1 Axes>"
      ]
     },
     "metadata": {
      "needs_background": "light"
     },
     "output_type": "display_data"
    }
   ],
   "source": [
    "plt.plot(np.log(pi_sorted),label='eigenportfolio')\n",
    "plt.plot(np.log(mean_CAP[rank]/np.sum(mean_CAP)),linestyle='--',label='cap-weighted portfolio')\n",
    "plt.title('Log Compare weights')\n",
    "plt.legend()\n",
    "plt.show()"
   ]
  },
  {
   "cell_type": "code",
   "execution_count": 14,
   "id": "0dd2b7ed",
   "metadata": {},
   "outputs": [
    {
     "data": {
      "text/html": [
       "<div>\n",
       "<style scoped>\n",
       "    .dataframe tbody tr th:only-of-type {\n",
       "        vertical-align: middle;\n",
       "    }\n",
       "\n",
       "    .dataframe tbody tr th {\n",
       "        vertical-align: top;\n",
       "    }\n",
       "\n",
       "    .dataframe thead th {\n",
       "        text-align: right;\n",
       "    }\n",
       "</style>\n",
       "<table border=\"1\" class=\"dataframe\">\n",
       "  <thead>\n",
       "    <tr style=\"text-align: right;\">\n",
       "      <th></th>\n",
       "      <th>symbol</th>\n",
       "      <th>eigenportfolio_weight</th>\n",
       "      <th>eigenportfolio_rank</th>\n",
       "      <th>capitalization</th>\n",
       "    </tr>\n",
       "  </thead>\n",
       "  <tbody>\n",
       "    <tr>\n",
       "      <th>0</th>\n",
       "      <td>BTC</td>\n",
       "      <td>5.645299e-02</td>\n",
       "      <td>1</td>\n",
       "      <td>6.478321e+10</td>\n",
       "    </tr>\n",
       "    <tr>\n",
       "      <th>1</th>\n",
       "      <td>LTC</td>\n",
       "      <td>2.968555e-02</td>\n",
       "      <td>2</td>\n",
       "      <td>2.917656e+09</td>\n",
       "    </tr>\n",
       "    <tr>\n",
       "      <th>2</th>\n",
       "      <td>DOGE</td>\n",
       "      <td>2.692778e-02</td>\n",
       "      <td>3</td>\n",
       "      <td>2.133390e+08</td>\n",
       "    </tr>\n",
       "    <tr>\n",
       "      <th>3</th>\n",
       "      <td>PPC</td>\n",
       "      <td>2.673202e-02</td>\n",
       "      <td>4</td>\n",
       "      <td>3.279894e+07</td>\n",
       "    </tr>\n",
       "    <tr>\n",
       "      <th>4</th>\n",
       "      <td>CLAM</td>\n",
       "      <td>2.564719e-02</td>\n",
       "      <td>5</td>\n",
       "      <td>7.899399e+06</td>\n",
       "    </tr>\n",
       "    <tr>\n",
       "      <th>5</th>\n",
       "      <td>DASH</td>\n",
       "      <td>2.504938e-02</td>\n",
       "      <td>6</td>\n",
       "      <td>1.564551e+09</td>\n",
       "    </tr>\n",
       "    <tr>\n",
       "      <th>6</th>\n",
       "      <td>ETH</td>\n",
       "      <td>2.443936e-02</td>\n",
       "      <td>7</td>\n",
       "      <td>2.343666e+10</td>\n",
       "    </tr>\n",
       "    <tr>\n",
       "      <th>7</th>\n",
       "      <td>BTS</td>\n",
       "      <td>2.252885e-02</td>\n",
       "      <td>8</td>\n",
       "      <td>2.616549e+08</td>\n",
       "    </tr>\n",
       "    <tr>\n",
       "      <th>8</th>\n",
       "      <td>BLK</td>\n",
       "      <td>2.242820e-02</td>\n",
       "      <td>9</td>\n",
       "      <td>1.194293e+07</td>\n",
       "    </tr>\n",
       "    <tr>\n",
       "      <th>9</th>\n",
       "      <td>XMR</td>\n",
       "      <td>2.143350e-02</td>\n",
       "      <td>10</td>\n",
       "      <td>1.262994e+09</td>\n",
       "    </tr>\n",
       "    <tr>\n",
       "      <th>10</th>\n",
       "      <td>NXT</td>\n",
       "      <td>2.071842e-02</td>\n",
       "      <td>11</td>\n",
       "      <td>9.478813e+07</td>\n",
       "    </tr>\n",
       "    <tr>\n",
       "      <th>11</th>\n",
       "      <td>XPM</td>\n",
       "      <td>1.818706e-02</td>\n",
       "      <td>12</td>\n",
       "      <td>9.551512e+06</td>\n",
       "    </tr>\n",
       "    <tr>\n",
       "      <th>12</th>\n",
       "      <td>GAME</td>\n",
       "      <td>1.671556e-02</td>\n",
       "      <td>13</td>\n",
       "      <td>6.660655e+07</td>\n",
       "    </tr>\n",
       "    <tr>\n",
       "      <th>13</th>\n",
       "      <td>DMD</td>\n",
       "      <td>1.652273e-02</td>\n",
       "      <td>14</td>\n",
       "      <td>9.814124e+06</td>\n",
       "    </tr>\n",
       "    <tr>\n",
       "      <th>14</th>\n",
       "      <td>XLM</td>\n",
       "      <td>1.571550e-02</td>\n",
       "      <td>15</td>\n",
       "      <td>1.727231e+09</td>\n",
       "    </tr>\n",
       "    <tr>\n",
       "      <th>15</th>\n",
       "      <td>FCT</td>\n",
       "      <td>1.533963e-02</td>\n",
       "      <td>16</td>\n",
       "      <td>1.027862e+08</td>\n",
       "    </tr>\n",
       "    <tr>\n",
       "      <th>16</th>\n",
       "      <td>NMC</td>\n",
       "      <td>1.510597e-02</td>\n",
       "      <td>17</td>\n",
       "      <td>1.826443e+07</td>\n",
       "    </tr>\n",
       "    <tr>\n",
       "      <th>17</th>\n",
       "      <td>BURST</td>\n",
       "      <td>1.493763e-02</td>\n",
       "      <td>18</td>\n",
       "      <td>1.777729e+07</td>\n",
       "    </tr>\n",
       "    <tr>\n",
       "      <th>18</th>\n",
       "      <td>SYS</td>\n",
       "      <td>1.488541e-02</td>\n",
       "      <td>19</td>\n",
       "      <td>7.891366e+07</td>\n",
       "    </tr>\n",
       "    <tr>\n",
       "      <th>19</th>\n",
       "      <td>NVC</td>\n",
       "      <td>1.471657e-02</td>\n",
       "      <td>20</td>\n",
       "      <td>5.097252e+06</td>\n",
       "    </tr>\n",
       "    <tr>\n",
       "      <th>20</th>\n",
       "      <td>GRC</td>\n",
       "      <td>1.458039e-02</td>\n",
       "      <td>21</td>\n",
       "      <td>1.068586e+07</td>\n",
       "    </tr>\n",
       "    <tr>\n",
       "      <th>21</th>\n",
       "      <td>IOC</td>\n",
       "      <td>1.452460e-02</td>\n",
       "      <td>22</td>\n",
       "      <td>1.604968e+07</td>\n",
       "    </tr>\n",
       "    <tr>\n",
       "      <th>22</th>\n",
       "      <td>XCP</td>\n",
       "      <td>1.428043e-02</td>\n",
       "      <td>23</td>\n",
       "      <td>2.408412e+07</td>\n",
       "    </tr>\n",
       "    <tr>\n",
       "      <th>23</th>\n",
       "      <td>UNO</td>\n",
       "      <td>1.404753e-02</td>\n",
       "      <td>24</td>\n",
       "      <td>1.015416e+07</td>\n",
       "    </tr>\n",
       "    <tr>\n",
       "      <th>24</th>\n",
       "      <td>VTC</td>\n",
       "      <td>1.385684e-02</td>\n",
       "      <td>25</td>\n",
       "      <td>4.781580e+07</td>\n",
       "    </tr>\n",
       "    <tr>\n",
       "      <th>25</th>\n",
       "      <td>XEM</td>\n",
       "      <td>1.354575e-02</td>\n",
       "      <td>26</td>\n",
       "      <td>1.475735e+09</td>\n",
       "    </tr>\n",
       "    <tr>\n",
       "      <th>26</th>\n",
       "      <td>XRP</td>\n",
       "      <td>1.322666e-02</td>\n",
       "      <td>27</td>\n",
       "      <td>1.064520e+10</td>\n",
       "    </tr>\n",
       "    <tr>\n",
       "      <th>27</th>\n",
       "      <td>START</td>\n",
       "      <td>1.312831e-02</td>\n",
       "      <td>28</td>\n",
       "      <td>1.557604e+06</td>\n",
       "    </tr>\n",
       "    <tr>\n",
       "      <th>28</th>\n",
       "      <td>PTC</td>\n",
       "      <td>1.309161e-02</td>\n",
       "      <td>29</td>\n",
       "      <td>2.427893e+06</td>\n",
       "    </tr>\n",
       "    <tr>\n",
       "      <th>29</th>\n",
       "      <td>BAY</td>\n",
       "      <td>1.271337e-02</td>\n",
       "      <td>30</td>\n",
       "      <td>2.595352e+07</td>\n",
       "    </tr>\n",
       "    <tr>\n",
       "      <th>30</th>\n",
       "      <td>VIA</td>\n",
       "      <td>1.257277e-02</td>\n",
       "      <td>31</td>\n",
       "      <td>1.968797e+07</td>\n",
       "    </tr>\n",
       "    <tr>\n",
       "      <th>31</th>\n",
       "      <td>EFL</td>\n",
       "      <td>1.257096e-02</td>\n",
       "      <td>32</td>\n",
       "      <td>1.197059e+06</td>\n",
       "    </tr>\n",
       "    <tr>\n",
       "      <th>32</th>\n",
       "      <td>POT</td>\n",
       "      <td>1.247777e-02</td>\n",
       "      <td>33</td>\n",
       "      <td>1.433558e+07</td>\n",
       "    </tr>\n",
       "    <tr>\n",
       "      <th>33</th>\n",
       "      <td>EMC</td>\n",
       "      <td>1.233494e-02</td>\n",
       "      <td>34</td>\n",
       "      <td>4.952104e+07</td>\n",
       "    </tr>\n",
       "    <tr>\n",
       "      <th>34</th>\n",
       "      <td>FLO</td>\n",
       "      <td>1.217189e-02</td>\n",
       "      <td>35</td>\n",
       "      <td>6.380458e+06</td>\n",
       "    </tr>\n",
       "    <tr>\n",
       "      <th>35</th>\n",
       "      <td>NLG</td>\n",
       "      <td>1.193290e-02</td>\n",
       "      <td>36</td>\n",
       "      <td>2.188265e+07</td>\n",
       "    </tr>\n",
       "    <tr>\n",
       "      <th>36</th>\n",
       "      <td>DGB</td>\n",
       "      <td>1.183951e-02</td>\n",
       "      <td>37</td>\n",
       "      <td>1.389843e+08</td>\n",
       "    </tr>\n",
       "    <tr>\n",
       "      <th>37</th>\n",
       "      <td>XDN</td>\n",
       "      <td>1.170696e-02</td>\n",
       "      <td>38</td>\n",
       "      <td>2.980508e+07</td>\n",
       "    </tr>\n",
       "    <tr>\n",
       "      <th>38</th>\n",
       "      <td>MONA</td>\n",
       "      <td>1.163056e-02</td>\n",
       "      <td>39</td>\n",
       "      <td>9.074610e+07</td>\n",
       "    </tr>\n",
       "    <tr>\n",
       "      <th>39</th>\n",
       "      <td>VRC</td>\n",
       "      <td>1.133320e-02</td>\n",
       "      <td>40</td>\n",
       "      <td>8.339097e+06</td>\n",
       "    </tr>\n",
       "    <tr>\n",
       "      <th>40</th>\n",
       "      <td>ABY</td>\n",
       "      <td>1.117843e-02</td>\n",
       "      <td>41</td>\n",
       "      <td>3.266353e+06</td>\n",
       "    </tr>\n",
       "    <tr>\n",
       "      <th>41</th>\n",
       "      <td>BYC</td>\n",
       "      <td>1.102123e-02</td>\n",
       "      <td>42</td>\n",
       "      <td>6.365657e+05</td>\n",
       "    </tr>\n",
       "    <tr>\n",
       "      <th>42</th>\n",
       "      <td>ENRG</td>\n",
       "      <td>1.082991e-02</td>\n",
       "      <td>43</td>\n",
       "      <td>6.031829e+06</td>\n",
       "    </tr>\n",
       "    <tr>\n",
       "      <th>43</th>\n",
       "      <td>FTC</td>\n",
       "      <td>9.793213e-03</td>\n",
       "      <td>44</td>\n",
       "      <td>1.447758e+07</td>\n",
       "    </tr>\n",
       "    <tr>\n",
       "      <th>44</th>\n",
       "      <td>XMY</td>\n",
       "      <td>9.730735e-03</td>\n",
       "      <td>45</td>\n",
       "      <td>5.011498e+06</td>\n",
       "    </tr>\n",
       "    <tr>\n",
       "      <th>45</th>\n",
       "      <td>XMG</td>\n",
       "      <td>9.705669e-03</td>\n",
       "      <td>46</td>\n",
       "      <td>1.177284e+06</td>\n",
       "    </tr>\n",
       "    <tr>\n",
       "      <th>46</th>\n",
       "      <td>SIB</td>\n",
       "      <td>9.397762e-03</td>\n",
       "      <td>47</td>\n",
       "      <td>1.044487e+07</td>\n",
       "    </tr>\n",
       "    <tr>\n",
       "      <th>47</th>\n",
       "      <td>AUR</td>\n",
       "      <td>8.767413e-03</td>\n",
       "      <td>48</td>\n",
       "      <td>4.167051e+06</td>\n",
       "    </tr>\n",
       "    <tr>\n",
       "      <th>48</th>\n",
       "      <td>RBY</td>\n",
       "      <td>8.479379e-03</td>\n",
       "      <td>49</td>\n",
       "      <td>9.492211e+06</td>\n",
       "    </tr>\n",
       "    <tr>\n",
       "      <th>49</th>\n",
       "      <td>CANN</td>\n",
       "      <td>8.057424e-03</td>\n",
       "      <td>50</td>\n",
       "      <td>1.892063e+06</td>\n",
       "    </tr>\n",
       "    <tr>\n",
       "      <th>50</th>\n",
       "      <td>NXS</td>\n",
       "      <td>8.052245e-03</td>\n",
       "      <td>51</td>\n",
       "      <td>5.575029e+07</td>\n",
       "    </tr>\n",
       "    <tr>\n",
       "      <th>51</th>\n",
       "      <td>SLR</td>\n",
       "      <td>7.753587e-03</td>\n",
       "      <td>52</td>\n",
       "      <td>7.737622e+06</td>\n",
       "    </tr>\n",
       "    <tr>\n",
       "      <th>52</th>\n",
       "      <td>CPC</td>\n",
       "      <td>7.507686e-03</td>\n",
       "      <td>53</td>\n",
       "      <td>7.978860e+05</td>\n",
       "    </tr>\n",
       "    <tr>\n",
       "      <th>53</th>\n",
       "      <td>EMC2</td>\n",
       "      <td>7.362152e-03</td>\n",
       "      <td>54</td>\n",
       "      <td>2.708649e+07</td>\n",
       "    </tr>\n",
       "    <tr>\n",
       "      <th>54</th>\n",
       "      <td>BLOCK</td>\n",
       "      <td>7.317169e-03</td>\n",
       "      <td>55</td>\n",
       "      <td>4.368562e+07</td>\n",
       "    </tr>\n",
       "    <tr>\n",
       "      <th>55</th>\n",
       "      <td>AEON</td>\n",
       "      <td>7.211298e-03</td>\n",
       "      <td>56</td>\n",
       "      <td>1.421560e+07</td>\n",
       "    </tr>\n",
       "    <tr>\n",
       "      <th>56</th>\n",
       "      <td>BITB</td>\n",
       "      <td>7.131589e-03</td>\n",
       "      <td>57</td>\n",
       "      <td>7.233684e+06</td>\n",
       "    </tr>\n",
       "    <tr>\n",
       "      <th>57</th>\n",
       "      <td>QTL</td>\n",
       "      <td>7.093125e-03</td>\n",
       "      <td>58</td>\n",
       "      <td>1.275616e+05</td>\n",
       "    </tr>\n",
       "    <tr>\n",
       "      <th>58</th>\n",
       "      <td>RDD</td>\n",
       "      <td>6.943127e-03</td>\n",
       "      <td>59</td>\n",
       "      <td>6.360109e+07</td>\n",
       "    </tr>\n",
       "    <tr>\n",
       "      <th>59</th>\n",
       "      <td>TX</td>\n",
       "      <td>6.881102e-03</td>\n",
       "      <td>60</td>\n",
       "      <td>3.446742e+06</td>\n",
       "    </tr>\n",
       "    <tr>\n",
       "      <th>60</th>\n",
       "      <td>WDC</td>\n",
       "      <td>6.832713e-03</td>\n",
       "      <td>61</td>\n",
       "      <td>2.169550e+06</td>\n",
       "    </tr>\n",
       "    <tr>\n",
       "      <th>61</th>\n",
       "      <td>ORB</td>\n",
       "      <td>6.779965e-03</td>\n",
       "      <td>62</td>\n",
       "      <td>5.566436e+05</td>\n",
       "    </tr>\n",
       "    <tr>\n",
       "      <th>62</th>\n",
       "      <td>CURE</td>\n",
       "      <td>6.777441e-03</td>\n",
       "      <td>63</td>\n",
       "      <td>3.886737e+06</td>\n",
       "    </tr>\n",
       "    <tr>\n",
       "      <th>63</th>\n",
       "      <td>FAIR</td>\n",
       "      <td>6.743428e-03</td>\n",
       "      <td>64</td>\n",
       "      <td>1.374043e+07</td>\n",
       "    </tr>\n",
       "    <tr>\n",
       "      <th>64</th>\n",
       "      <td>XVG</td>\n",
       "      <td>6.179457e-03</td>\n",
       "      <td>65</td>\n",
       "      <td>2.385538e+08</td>\n",
       "    </tr>\n",
       "    <tr>\n",
       "      <th>65</th>\n",
       "      <td>ADC</td>\n",
       "      <td>5.946678e-03</td>\n",
       "      <td>66</td>\n",
       "      <td>1.604809e+06</td>\n",
       "    </tr>\n",
       "    <tr>\n",
       "      <th>66</th>\n",
       "      <td>HYP</td>\n",
       "      <td>5.588874e-03</td>\n",
       "      <td>67</td>\n",
       "      <td>1.764404e+06</td>\n",
       "    </tr>\n",
       "    <tr>\n",
       "      <th>67</th>\n",
       "      <td>XST</td>\n",
       "      <td>5.356874e-03</td>\n",
       "      <td>68</td>\n",
       "      <td>3.807899e+06</td>\n",
       "    </tr>\n",
       "    <tr>\n",
       "      <th>68</th>\n",
       "      <td>GRS</td>\n",
       "      <td>4.869931e-03</td>\n",
       "      <td>69</td>\n",
       "      <td>2.091115e+07</td>\n",
       "    </tr>\n",
       "    <tr>\n",
       "      <th>69</th>\n",
       "      <td>CDN</td>\n",
       "      <td>4.817169e-03</td>\n",
       "      <td>70</td>\n",
       "      <td>5.999034e+05</td>\n",
       "    </tr>\n",
       "    <tr>\n",
       "      <th>70</th>\n",
       "      <td>BTCD</td>\n",
       "      <td>4.682659e-03</td>\n",
       "      <td>71</td>\n",
       "      <td>5.815909e+07</td>\n",
       "    </tr>\n",
       "    <tr>\n",
       "      <th>71</th>\n",
       "      <td>NOBL</td>\n",
       "      <td>4.580842e-03</td>\n",
       "      <td>72</td>\n",
       "      <td>8.641671e+05</td>\n",
       "    </tr>\n",
       "    <tr>\n",
       "      <th>72</th>\n",
       "      <td>BLC</td>\n",
       "      <td>4.466297e-03</td>\n",
       "      <td>73</td>\n",
       "      <td>1.499125e+05</td>\n",
       "    </tr>\n",
       "    <tr>\n",
       "      <th>73</th>\n",
       "      <td>CLOAK</td>\n",
       "      <td>4.358668e-03</td>\n",
       "      <td>74</td>\n",
       "      <td>1.915027e+07</td>\n",
       "    </tr>\n",
       "    <tr>\n",
       "      <th>74</th>\n",
       "      <td>BTA</td>\n",
       "      <td>4.122181e-03</td>\n",
       "      <td>75</td>\n",
       "      <td>8.246802e+05</td>\n",
       "    </tr>\n",
       "    <tr>\n",
       "      <th>75</th>\n",
       "      <td>GLD</td>\n",
       "      <td>3.926242e-03</td>\n",
       "      <td>76</td>\n",
       "      <td>2.921747e+06</td>\n",
       "    </tr>\n",
       "    <tr>\n",
       "      <th>76</th>\n",
       "      <td>GUN</td>\n",
       "      <td>3.726390e-03</td>\n",
       "      <td>77</td>\n",
       "      <td>2.529920e+05</td>\n",
       "    </tr>\n",
       "    <tr>\n",
       "      <th>77</th>\n",
       "      <td>DSH</td>\n",
       "      <td>3.592087e-03</td>\n",
       "      <td>78</td>\n",
       "      <td>2.815894e+05</td>\n",
       "    </tr>\n",
       "    <tr>\n",
       "      <th>78</th>\n",
       "      <td>ZET</td>\n",
       "      <td>3.243320e-03</td>\n",
       "      <td>79</td>\n",
       "      <td>1.097826e+06</td>\n",
       "    </tr>\n",
       "    <tr>\n",
       "      <th>79</th>\n",
       "      <td>NYAN</td>\n",
       "      <td>3.080284e-03</td>\n",
       "      <td>80</td>\n",
       "      <td>2.171610e+05</td>\n",
       "    </tr>\n",
       "    <tr>\n",
       "      <th>80</th>\n",
       "      <td>DGC</td>\n",
       "      <td>3.008916e-03</td>\n",
       "      <td>81</td>\n",
       "      <td>8.316422e+05</td>\n",
       "    </tr>\n",
       "    <tr>\n",
       "      <th>81</th>\n",
       "      <td>NEOS</td>\n",
       "      <td>2.960633e-03</td>\n",
       "      <td>82</td>\n",
       "      <td>6.449924e+06</td>\n",
       "    </tr>\n",
       "    <tr>\n",
       "      <th>82</th>\n",
       "      <td>NAV</td>\n",
       "      <td>2.917957e-03</td>\n",
       "      <td>83</td>\n",
       "      <td>3.177175e+07</td>\n",
       "    </tr>\n",
       "    <tr>\n",
       "      <th>83</th>\n",
       "      <td>DEM</td>\n",
       "      <td>2.762378e-03</td>\n",
       "      <td>84</td>\n",
       "      <td>3.983969e+05</td>\n",
       "    </tr>\n",
       "    <tr>\n",
       "      <th>84</th>\n",
       "      <td>OK</td>\n",
       "      <td>2.729191e-03</td>\n",
       "      <td>85</td>\n",
       "      <td>7.405923e+06</td>\n",
       "    </tr>\n",
       "    <tr>\n",
       "      <th>85</th>\n",
       "      <td>MINT</td>\n",
       "      <td>2.457869e-03</td>\n",
       "      <td>86</td>\n",
       "      <td>4.559561e+06</td>\n",
       "    </tr>\n",
       "    <tr>\n",
       "      <th>86</th>\n",
       "      <td>BSD</td>\n",
       "      <td>1.997509e-03</td>\n",
       "      <td>87</td>\n",
       "      <td>5.064566e+06</td>\n",
       "    </tr>\n",
       "    <tr>\n",
       "      <th>87</th>\n",
       "      <td>PXI</td>\n",
       "      <td>1.738692e-03</td>\n",
       "      <td>88</td>\n",
       "      <td>8.960660e+04</td>\n",
       "    </tr>\n",
       "    <tr>\n",
       "      <th>88</th>\n",
       "      <td>MUE</td>\n",
       "      <td>1.701713e-03</td>\n",
       "      <td>89</td>\n",
       "      <td>8.095892e+06</td>\n",
       "    </tr>\n",
       "    <tr>\n",
       "      <th>89</th>\n",
       "      <td>FJC</td>\n",
       "      <td>1.438370e-03</td>\n",
       "      <td>90</td>\n",
       "      <td>5.322324e+05</td>\n",
       "    </tr>\n",
       "    <tr>\n",
       "      <th>90</th>\n",
       "      <td>TEK</td>\n",
       "      <td>1.070917e-03</td>\n",
       "      <td>91</td>\n",
       "      <td>1.527569e+05</td>\n",
       "    </tr>\n",
       "    <tr>\n",
       "      <th>91</th>\n",
       "      <td>INFX</td>\n",
       "      <td>8.240714e-04</td>\n",
       "      <td>92</td>\n",
       "      <td>4.164024e+05</td>\n",
       "    </tr>\n",
       "    <tr>\n",
       "      <th>92</th>\n",
       "      <td>1337</td>\n",
       "      <td>7.479070e-04</td>\n",
       "      <td>93</td>\n",
       "      <td>1.724289e+06</td>\n",
       "    </tr>\n",
       "    <tr>\n",
       "      <th>93</th>\n",
       "      <td>TRC</td>\n",
       "      <td>6.908392e-04</td>\n",
       "      <td>94</td>\n",
       "      <td>1.601021e+06</td>\n",
       "    </tr>\n",
       "    <tr>\n",
       "      <th>94</th>\n",
       "      <td>PND</td>\n",
       "      <td>4.685468e-04</td>\n",
       "      <td>95</td>\n",
       "      <td>3.048759e+06</td>\n",
       "    </tr>\n",
       "    <tr>\n",
       "      <th>95</th>\n",
       "      <td>BSTY</td>\n",
       "      <td>3.481748e-04</td>\n",
       "      <td>96</td>\n",
       "      <td>1.129365e+05</td>\n",
       "    </tr>\n",
       "    <tr>\n",
       "      <th>96</th>\n",
       "      <td>EXP</td>\n",
       "      <td>3.120039e-04</td>\n",
       "      <td>97</td>\n",
       "      <td>9.511447e+06</td>\n",
       "    </tr>\n",
       "    <tr>\n",
       "      <th>97</th>\n",
       "      <td>TIPS</td>\n",
       "      <td>1.684549e-04</td>\n",
       "      <td>98</td>\n",
       "      <td>6.144425e+06</td>\n",
       "    </tr>\n",
       "    <tr>\n",
       "      <th>98</th>\n",
       "      <td>BUN</td>\n",
       "      <td>2.257846e-05</td>\n",
       "      <td>99</td>\n",
       "      <td>1.084926e+06</td>\n",
       "    </tr>\n",
       "    <tr>\n",
       "      <th>99</th>\n",
       "      <td>NYC</td>\n",
       "      <td>8.515519e-06</td>\n",
       "      <td>100</td>\n",
       "      <td>4.088721e+06</td>\n",
       "    </tr>\n",
       "    <tr>\n",
       "      <th>100</th>\n",
       "      <td>ACP</td>\n",
       "      <td>3.233483e-06</td>\n",
       "      <td>101</td>\n",
       "      <td>3.230966e+04</td>\n",
       "    </tr>\n",
       "    <tr>\n",
       "      <th>101</th>\n",
       "      <td>PIGGY</td>\n",
       "      <td>-4.921943e-07</td>\n",
       "      <td>102</td>\n",
       "      <td>3.522724e+05</td>\n",
       "    </tr>\n",
       "  </tbody>\n",
       "</table>\n",
       "</div>"
      ],
      "text/plain": [
       "    symbol  eigenportfolio_weight  eigenportfolio_rank  capitalization\n",
       "0      BTC           5.645299e-02                    1    6.478321e+10\n",
       "1      LTC           2.968555e-02                    2    2.917656e+09\n",
       "2     DOGE           2.692778e-02                    3    2.133390e+08\n",
       "3      PPC           2.673202e-02                    4    3.279894e+07\n",
       "4     CLAM           2.564719e-02                    5    7.899399e+06\n",
       "5     DASH           2.504938e-02                    6    1.564551e+09\n",
       "6      ETH           2.443936e-02                    7    2.343666e+10\n",
       "7      BTS           2.252885e-02                    8    2.616549e+08\n",
       "8      BLK           2.242820e-02                    9    1.194293e+07\n",
       "9      XMR           2.143350e-02                   10    1.262994e+09\n",
       "10     NXT           2.071842e-02                   11    9.478813e+07\n",
       "11     XPM           1.818706e-02                   12    9.551512e+06\n",
       "12    GAME           1.671556e-02                   13    6.660655e+07\n",
       "13     DMD           1.652273e-02                   14    9.814124e+06\n",
       "14     XLM           1.571550e-02                   15    1.727231e+09\n",
       "15     FCT           1.533963e-02                   16    1.027862e+08\n",
       "16     NMC           1.510597e-02                   17    1.826443e+07\n",
       "17   BURST           1.493763e-02                   18    1.777729e+07\n",
       "18     SYS           1.488541e-02                   19    7.891366e+07\n",
       "19     NVC           1.471657e-02                   20    5.097252e+06\n",
       "20     GRC           1.458039e-02                   21    1.068586e+07\n",
       "21     IOC           1.452460e-02                   22    1.604968e+07\n",
       "22     XCP           1.428043e-02                   23    2.408412e+07\n",
       "23     UNO           1.404753e-02                   24    1.015416e+07\n",
       "24     VTC           1.385684e-02                   25    4.781580e+07\n",
       "25     XEM           1.354575e-02                   26    1.475735e+09\n",
       "26     XRP           1.322666e-02                   27    1.064520e+10\n",
       "27   START           1.312831e-02                   28    1.557604e+06\n",
       "28     PTC           1.309161e-02                   29    2.427893e+06\n",
       "29     BAY           1.271337e-02                   30    2.595352e+07\n",
       "30     VIA           1.257277e-02                   31    1.968797e+07\n",
       "31     EFL           1.257096e-02                   32    1.197059e+06\n",
       "32     POT           1.247777e-02                   33    1.433558e+07\n",
       "33     EMC           1.233494e-02                   34    4.952104e+07\n",
       "34     FLO           1.217189e-02                   35    6.380458e+06\n",
       "35     NLG           1.193290e-02                   36    2.188265e+07\n",
       "36     DGB           1.183951e-02                   37    1.389843e+08\n",
       "37     XDN           1.170696e-02                   38    2.980508e+07\n",
       "38    MONA           1.163056e-02                   39    9.074610e+07\n",
       "39     VRC           1.133320e-02                   40    8.339097e+06\n",
       "40     ABY           1.117843e-02                   41    3.266353e+06\n",
       "41     BYC           1.102123e-02                   42    6.365657e+05\n",
       "42    ENRG           1.082991e-02                   43    6.031829e+06\n",
       "43     FTC           9.793213e-03                   44    1.447758e+07\n",
       "44     XMY           9.730735e-03                   45    5.011498e+06\n",
       "45     XMG           9.705669e-03                   46    1.177284e+06\n",
       "46     SIB           9.397762e-03                   47    1.044487e+07\n",
       "47     AUR           8.767413e-03                   48    4.167051e+06\n",
       "48     RBY           8.479379e-03                   49    9.492211e+06\n",
       "49    CANN           8.057424e-03                   50    1.892063e+06\n",
       "50     NXS           8.052245e-03                   51    5.575029e+07\n",
       "51     SLR           7.753587e-03                   52    7.737622e+06\n",
       "52     CPC           7.507686e-03                   53    7.978860e+05\n",
       "53    EMC2           7.362152e-03                   54    2.708649e+07\n",
       "54   BLOCK           7.317169e-03                   55    4.368562e+07\n",
       "55    AEON           7.211298e-03                   56    1.421560e+07\n",
       "56    BITB           7.131589e-03                   57    7.233684e+06\n",
       "57     QTL           7.093125e-03                   58    1.275616e+05\n",
       "58     RDD           6.943127e-03                   59    6.360109e+07\n",
       "59      TX           6.881102e-03                   60    3.446742e+06\n",
       "60     WDC           6.832713e-03                   61    2.169550e+06\n",
       "61     ORB           6.779965e-03                   62    5.566436e+05\n",
       "62    CURE           6.777441e-03                   63    3.886737e+06\n",
       "63    FAIR           6.743428e-03                   64    1.374043e+07\n",
       "64     XVG           6.179457e-03                   65    2.385538e+08\n",
       "65     ADC           5.946678e-03                   66    1.604809e+06\n",
       "66     HYP           5.588874e-03                   67    1.764404e+06\n",
       "67     XST           5.356874e-03                   68    3.807899e+06\n",
       "68     GRS           4.869931e-03                   69    2.091115e+07\n",
       "69     CDN           4.817169e-03                   70    5.999034e+05\n",
       "70    BTCD           4.682659e-03                   71    5.815909e+07\n",
       "71    NOBL           4.580842e-03                   72    8.641671e+05\n",
       "72     BLC           4.466297e-03                   73    1.499125e+05\n",
       "73   CLOAK           4.358668e-03                   74    1.915027e+07\n",
       "74     BTA           4.122181e-03                   75    8.246802e+05\n",
       "75     GLD           3.926242e-03                   76    2.921747e+06\n",
       "76     GUN           3.726390e-03                   77    2.529920e+05\n",
       "77     DSH           3.592087e-03                   78    2.815894e+05\n",
       "78     ZET           3.243320e-03                   79    1.097826e+06\n",
       "79    NYAN           3.080284e-03                   80    2.171610e+05\n",
       "80     DGC           3.008916e-03                   81    8.316422e+05\n",
       "81    NEOS           2.960633e-03                   82    6.449924e+06\n",
       "82     NAV           2.917957e-03                   83    3.177175e+07\n",
       "83     DEM           2.762378e-03                   84    3.983969e+05\n",
       "84      OK           2.729191e-03                   85    7.405923e+06\n",
       "85    MINT           2.457869e-03                   86    4.559561e+06\n",
       "86     BSD           1.997509e-03                   87    5.064566e+06\n",
       "87     PXI           1.738692e-03                   88    8.960660e+04\n",
       "88     MUE           1.701713e-03                   89    8.095892e+06\n",
       "89     FJC           1.438370e-03                   90    5.322324e+05\n",
       "90     TEK           1.070917e-03                   91    1.527569e+05\n",
       "91    INFX           8.240714e-04                   92    4.164024e+05\n",
       "92    1337           7.479070e-04                   93    1.724289e+06\n",
       "93     TRC           6.908392e-04                   94    1.601021e+06\n",
       "94     PND           4.685468e-04                   95    3.048759e+06\n",
       "95    BSTY           3.481748e-04                   96    1.129365e+05\n",
       "96     EXP           3.120039e-04                   97    9.511447e+06\n",
       "97    TIPS           1.684549e-04                   98    6.144425e+06\n",
       "98     BUN           2.257846e-05                   99    1.084926e+06\n",
       "99     NYC           8.515519e-06                  100    4.088721e+06\n",
       "100    ACP           3.233483e-06                  101    3.230966e+04\n",
       "101  PIGGY          -4.921943e-07                  102    3.522724e+05"
      ]
     },
     "execution_count": 14,
     "metadata": {},
     "output_type": "execute_result"
    }
   ],
   "source": [
    "cryptocurrencies=[coins[i] for i in rank]\n",
    "col1=pd.Series(cryptocurrencies,name='symbol')\n",
    "col2=pd.Series(pi_sorted,name='eigenportfolio_weight')\n",
    "col3=pd.Series(range(1,103),name='eigenportfolio_rank')\n",
    "col4=pd.Series(mean_CAP[rank],name='capitalization')\n",
    "output=pd.concat([col1,col2,col3,col4],axis=1)\n",
    "pd.set_option('display.max_rows',None)\n",
    "output"
   ]
  },
  {
   "cell_type": "code",
   "execution_count": 15,
   "id": "43238887",
   "metadata": {},
   "outputs": [
    {
     "name": "stdout",
     "output_type": "stream",
     "text": [
      "\n",
      "Top 6 coins in this eigenportfolio are: ['BTC', 'LTC', 'DOGE', 'PPC', 'CLAM', 'DASH']\n"
     ]
    }
   ],
   "source": [
    "# Top 6 cryptocurrencies in eigenportfolio\n",
    "\n",
    "print('\\nTop 6 coins in this eigenportfolio are: {}'.format(list(output.iloc[0:6,0])))"
   ]
  },
  {
   "cell_type": "markdown",
   "id": "5123d41c",
   "metadata": {},
   "source": [
    "## Compute Cap-Weighted Portfolio"
   ]
  },
  {
   "cell_type": "code",
   "execution_count": 16,
   "id": "0e24086c",
   "metadata": {},
   "outputs": [],
   "source": [
    "cap_weight=np.zeros((N,T))\n",
    "Rcap=np.zeros(T)\n",
    "Index_Rcap=np.ones(T+1)*100\n",
    "for i in range(T):\n",
    "    cap_weight[:,i]=CAP[:,i]/np.sum(CAP[:,i])\n",
    "    Rcap[i]=np.sum(cap_weight[:,i]*R[:,i])\n",
    "    Index_Rcap[i+1]=Index_Rcap[i]*(1+Rcap[i])"
   ]
  },
  {
   "cell_type": "code",
   "execution_count": 17,
   "id": "3e902e44",
   "metadata": {},
   "outputs": [
    {
     "data": {
      "text/plain": [
       "[<matplotlib.lines.Line2D at 0x7f8df9c5f550>]"
      ]
     },
     "execution_count": 17,
     "metadata": {},
     "output_type": "execute_result"
    },
    {
     "data": {
      "image/png": "[encoded data removed]",
      "text/plain": [
       "<Figure size 432x288 with 1 Axes>"
      ]
     },
     "metadata": {
      "needs_background": "light"
     },
     "output_type": "display_data"
    }
   ],
   "source": [
    "plt.plot(Index_Rcap)"
   ]
  },
  {
   "cell_type": "markdown",
   "id": "ccefdb4a",
   "metadata": {},
   "source": [
    "## Check for Co-Integration"
   ]
  },
  {
   "cell_type": "code",
   "execution_count": 20,
   "id": "4c6dfad5",
   "metadata": {},
   "outputs": [],
   "source": [
    "import statsmodels\n",
    "import statsmodels.api as stat\n",
    "import statsmodels.tsa.stattools as ts"
   ]
  },
  {
   "cell_type": "code",
   "execution_count": 21,
   "id": "f39de68d",
   "metadata": {},
   "outputs": [],
   "source": [
    "def ADF(N,start_time,end_time):\n",
    "    constant=np.ones(end_time-start_time)\n",
    "    t=np.arange(0,end_time-start_time)\n",
    "    X=np.array([constant,t,np.log(Index_Rcap[start_time:end_time])]).T\n",
    "    Z=np.zeros((N,end_time-start_time))\n",
    "    Pvalue_ADF=np.zeros(N)\n",
    "    alpha=np.zeros(N) # coefficient of t\n",
    "    beta=np.zeros(N) # coefficient of log price of market portfolio\n",
    "    for i in range(N):\n",
    "        Reg=stat.OLS(np.log(P[i,start_time:end_time]),X).fit()\n",
    "        alpha[i]=Reg.params[1]\n",
    "        beta[i]=Reg.params[2]\n",
    "        Z[i,:]=Reg.resid\n",
    "        ADF=ts.adfuller(Z[i,:],regression='ct') # The Augmented Dickey-Fuller test can be used to test for a unit root in a univariate process in the presence of serial correlation.\n",
    "        # In ADF: 1.t-value 2.P-value 3.lag 4.test time 5.CI\n",
    "        Pvalue_ADF[i]=ADF[1] # if P-value>0.01, can't reject null hypothesis,it is random walk or trend;Otherwise, reject null hypothesis,it is mean-reverted\n",
    "    return Z,Pvalue_ADF,alpha,beta"
   ]
  },
  {
   "cell_type": "code",
   "execution_count": 22,
   "id": "135a7e60",
   "metadata": {},
   "outputs": [],
   "source": [
    "Z,Pvalue_ADF,alpha,beta = ADF(N,0,T+1) # P-value"
   ]
  },
  {
   "cell_type": "code",
   "execution_count": 23,
   "id": "48c5c9b0",
   "metadata": {
    "scrolled": true
   },
   "outputs": [
    {
     "data": {
      "text/plain": [
       "array([5.60708838e-01, 8.64068818e-02, 1.23823231e-01, 5.52784776e-04,\n",
       "       4.07973073e-01, 2.01303499e-01, 1.00151220e-01, 1.21707515e-01,\n",
       "       6.74493880e-03, 1.65379068e-01, 1.20222708e-01, 1.16501791e-01,\n",
       "       1.61678424e-02, 1.56206712e-01, 1.72785011e-01, 1.35573747e-01,\n",
       "       3.76809358e-01, 1.50237554e-01, 1.38202342e-01, 7.64447318e-03,\n",
       "       4.92414769e-03, 6.12814574e-02, 5.65295487e-02, 3.33560506e-02,\n",
       "       1.81183217e-01, 2.52070151e-01, 2.48452989e-01, 1.84643506e-01,\n",
       "       2.60792630e-01, 2.17974070e-01, 4.46163092e-02, 5.12978373e-01,\n",
       "       8.93685703e-02, 8.09650205e-03, 1.07560500e-01, 1.79390157e-02,\n",
       "       5.24499848e-01, 4.07936962e-03, 1.38388637e-03, 3.36669531e-02,\n",
       "       2.49183218e-05, 6.27832559e-02, 1.52787854e-01, 7.70643394e-02,\n",
       "       7.73695307e-01, 2.60741305e-01, 2.10964674e-02, 2.36109813e-02,\n",
       "       1.43324164e-02, 5.68637157e-01, 3.36546604e-03, 6.24941714e-01,\n",
       "       5.79348044e-02, 1.67118662e-01, 3.18159182e-01, 6.91123326e-01,\n",
       "       4.38889989e-01, 7.03666249e-01, 9.21672695e-01, 4.53797272e-01,\n",
       "       1.21631628e-02, 2.31056735e-01, 5.50944093e-01, 1.18998446e-01,\n",
       "       1.50237167e-01, 5.96287573e-01, 2.69176028e-02, 1.18743265e-02,\n",
       "       6.30510446e-02, 1.54619681e-01, 9.25333113e-01, 3.19467326e-01,\n",
       "       8.16842612e-02, 1.24028303e-03, 3.97938084e-01, 4.69844555e-02,\n",
       "       1.82608187e-01, 6.33370050e-01, 1.73478796e-01, 8.72116729e-03,\n",
       "       9.98352435e-02, 6.78169261e-01, 1.28736180e-01, 1.20879676e-02,\n",
       "       8.80694445e-02, 3.82168853e-01, 2.67564437e-01, 1.63114001e-02,\n",
       "       1.38929466e-02, 2.19351457e-01, 3.69600461e-01, 3.30803890e-02,\n",
       "       7.29651451e-02, 6.89432111e-01, 2.26605252e-02, 4.77293614e-01,\n",
       "       1.21407180e-02, 5.52615231e-01, 2.86348426e-01, 1.56774651e-01,\n",
       "       2.12414725e-01, 1.71522534e-01])"
      ]
     },
     "execution_count": 23,
     "metadata": {},
     "output_type": "execute_result"
    }
   ],
   "source": [
    "Pvalue_ADF"
   ]
  },
  {
   "cell_type": "code",
   "execution_count": 24,
   "id": "01319de8",
   "metadata": {
    "scrolled": false
   },
   "outputs": [
    {
     "name": "stdout",
     "output_type": "stream",
     "text": [
      "\n",
      "There are 11 coins over 102 have an ADF p-value that is less than .01\n"
     ]
    }
   ],
   "source": [
    "print('\\nThere are {} coins over {} have an ADF p-value that is less than .01'.format(np.sum([Pvalue_ADF<0.01]),N))"
   ]
  },
  {
   "cell_type": "markdown",
   "id": "67290492",
   "metadata": {},
   "source": [
    "## PLOT THE TIME SERIES of CO-INTEGRATED RESIDUALS"
   ]
  },
  {
   "cell_type": "code",
   "execution_count": 25,
   "id": "3fc51e81",
   "metadata": {},
   "outputs": [
    {
     "data": {
      "image/png": "[encoded data removed]",
      "text/plain": [
       "<Figure size 432x288 with 1 Axes>"
      ]
     },
     "metadata": {
      "needs_background": "light"
     },
     "output_type": "display_data"
    }
   ],
   "source": [
    "target_coins=np.where(Pvalue_ADF<0.01)[0]\n",
    "plt.plot(Z[target_coins,:].T)\n",
    "plt.xlabel('Days')\n",
    "plt.ylabel('Residuals')\n",
    "plt.title('ADF Residual')\n",
    "plt.show()"
   ]
  },
  {
   "cell_type": "code",
   "execution_count": 26,
   "id": "edb9f56f",
   "metadata": {},
   "outputs": [],
   "source": [
    "def FindTau(target_coins,Z):\n",
    "    theta=np.zeros(len(target_coins))\n",
    "    kappa=np.zeros(len(target_coins))\n",
    "    sigma=np.zeros(len(target_coins))\n",
    "    for i in range(len(target_coins)):\n",
    "        theta[i]=np.mean(Z[target_coins[i],:]) # mean-reversion\n",
    "        #kappa[i]=-np.log(np.corrcoef(Z[target_coins[i],1:],Z[target_coins[i],0:-1])[1,0])*252 # compare Zt and Zt-1 find corr.\n",
    "        kappa[i]=(1-np.sum((Z[target_coins[i],1:]-theta[i])*(Z[target_coins[i],:-1]-theta[i]))/(np.sum((Z[target_coins[i],:-1]-theta[i])**2)))*252\n",
    "        sigma[i]=np.std(Z[target_coins[i],:])\n",
    "    Tau=252/kappa\n",
    "    return Tau,sigma"
   ]
  },
  {
   "cell_type": "code",
   "execution_count": 27,
   "id": "860cf5f2",
   "metadata": {},
   "outputs": [],
   "source": [
    "target_coins=np.where(Pvalue_ADF<0.01)[0]\n",
    "Tau,sigma = FindTau(target_coins,Z)"
   ]
  },
  {
   "cell_type": "code",
   "execution_count": 28,
   "id": "617c1b8f",
   "metadata": {},
   "outputs": [
    {
     "data": {
      "image/png": "[encoded data removed]",
      "text/plain": [
       "<Figure size 432x288 with 1 Axes>"
      ]
     },
     "metadata": {
      "needs_background": "light"
     },
     "output_type": "display_data"
    }
   ],
   "source": [
    "plt.hist(Tau,bins=30)\n",
    "plt.xlabel('Days')\n",
    "plt.title('Average time to mean reversion (Tau)')\n",
    "plt.show()"
   ]
  },
  {
   "cell_type": "code",
   "execution_count": 57,
   "id": "59ea0ee7",
   "metadata": {},
   "outputs": [
    {
     "data": {
      "text/plain": [
       "array([14.4246629 , 15.72974544, 22.58506098, 16.3755668 , 17.83826463,\n",
       "       90.21168633, 38.44666917, 32.05869644, 19.29971264, 11.01360976,\n",
       "       27.96021562])"
      ]
     },
     "execution_count": 57,
     "metadata": {},
     "output_type": "execute_result"
    }
   ],
   "source": [
    "Tau"
   ]
  },
  {
   "cell_type": "code",
   "execution_count": 56,
   "id": "0f909273",
   "metadata": {},
   "outputs": [
    {
     "data": {
      "text/plain": [
       "array([1.60480933e+06, 1.49912492e+05, 6.36565706e+05, 1.89206285e+06,\n",
       "       1.19705910e+06, 2.34366617e+10, 9.51144737e+06, 1.02786153e+08,\n",
       "       4.16402375e+05, 8.96065961e+04, 1.55760376e+06])"
      ]
     },
     "execution_count": 56,
     "metadata": {},
     "output_type": "execute_result"
    }
   ],
   "source": [
    "mean_CAP[target_coins]"
   ]
  },
  {
   "cell_type": "code",
   "execution_count": 29,
   "id": "15b0dc3d",
   "metadata": {
    "scrolled": true
   },
   "outputs": [
    {
     "data": {
      "text/html": [
       "<div>\n",
       "<style scoped>\n",
       "    .dataframe tbody tr th:only-of-type {\n",
       "        vertical-align: middle;\n",
       "    }\n",
       "\n",
       "    .dataframe tbody tr th {\n",
       "        vertical-align: top;\n",
       "    }\n",
       "\n",
       "    .dataframe thead th {\n",
       "        text-align: right;\n",
       "    }\n",
       "</style>\n",
       "<table border=\"1\" class=\"dataframe\">\n",
       "  <thead>\n",
       "    <tr style=\"text-align: right;\">\n",
       "      <th></th>\n",
       "      <th>symbol</th>\n",
       "      <th>Tau</th>\n",
       "      <th>Std(Tau)</th>\n",
       "      <th>capitalization</th>\n",
       "    </tr>\n",
       "  </thead>\n",
       "  <tbody>\n",
       "    <tr>\n",
       "      <th>0</th>\n",
       "      <td>ADC</td>\n",
       "      <td>14.42</td>\n",
       "      <td>0.17</td>\n",
       "      <td>1.604809e+06</td>\n",
       "    </tr>\n",
       "    <tr>\n",
       "      <th>1</th>\n",
       "      <td>BLC</td>\n",
       "      <td>15.73</td>\n",
       "      <td>0.18</td>\n",
       "      <td>1.499125e+05</td>\n",
       "    </tr>\n",
       "    <tr>\n",
       "      <th>2</th>\n",
       "      <td>BYC</td>\n",
       "      <td>22.59</td>\n",
       "      <td>0.21</td>\n",
       "      <td>6.365657e+05</td>\n",
       "    </tr>\n",
       "    <tr>\n",
       "      <th>3</th>\n",
       "      <td>CANN</td>\n",
       "      <td>16.38</td>\n",
       "      <td>0.18</td>\n",
       "      <td>1.892063e+06</td>\n",
       "    </tr>\n",
       "    <tr>\n",
       "      <th>4</th>\n",
       "      <td>EFL</td>\n",
       "      <td>17.84</td>\n",
       "      <td>0.19</td>\n",
       "      <td>1.197059e+06</td>\n",
       "    </tr>\n",
       "    <tr>\n",
       "      <th>5</th>\n",
       "      <td>INFX</td>\n",
       "      <td>19.30</td>\n",
       "      <td>0.19</td>\n",
       "      <td>4.164024e+05</td>\n",
       "    </tr>\n",
       "    <tr>\n",
       "      <th>6</th>\n",
       "      <td>PXI</td>\n",
       "      <td>11.01</td>\n",
       "      <td>0.15</td>\n",
       "      <td>8.960660e+04</td>\n",
       "    </tr>\n",
       "  </tbody>\n",
       "</table>\n",
       "</div>"
      ],
      "text/plain": [
       "  symbol    Tau  Std(Tau)  capitalization\n",
       "0    ADC  14.42      0.17    1.604809e+06\n",
       "1    BLC  15.73      0.18    1.499125e+05\n",
       "2    BYC  22.59      0.21    6.365657e+05\n",
       "3   CANN  16.38      0.18    1.892063e+06\n",
       "4    EFL  17.84      0.19    1.197059e+06\n",
       "5   INFX  19.30      0.19    4.164024e+05\n",
       "6    PXI  11.01      0.15    8.960660e+04"
      ]
     },
     "execution_count": 29,
     "metadata": {},
     "output_type": "execute_result"
    }
   ],
   "source": [
    "index=np.where(Tau<=24)[0] # Average time to mean reversion (Tau) faster than 24 Days would be good!\n",
    "coins_cointegrated=[coins[i] for i in target_coins[index]]\n",
    "Tau_target=[round(Tau[i],2) for i in index]\n",
    "sigma_target=[round(np.sqrt(2*Tau[i]/T),2) for i in index]\n",
    "# sigma_target can be improved!\n",
    "cap_target=[mean_CAP[i] for i in target_coins[index]]\n",
    "col1=pd.Series(coins_cointegrated,name='symbol')\n",
    "col2=pd.Series(Tau_target,name='Tau')\n",
    "col3=pd.Series(sigma_target,name='Std(Tau)')\n",
    "col4=pd.Series(cap_target,name='capitalization')\n",
    "output=pd.concat([col1,col2,col3,col4],axis=1)\n",
    "pd.set_option('display.max_rows',None)\n",
    "output"
   ]
  },
  {
   "cell_type": "markdown",
   "id": "76f2a491",
   "metadata": {},
   "source": [
    "## Back-Testing a Trading Signal"
   ]
  },
  {
   "cell_type": "code",
   "execution_count": 30,
   "id": "a7af2e84",
   "metadata": {},
   "outputs": [],
   "source": [
    "from scipy import optimize\n",
    "def pairtrading(sliding_window,training_window,TC):\n",
    "    Time_period=np.arange(training_window,T,sliding_window)\n",
    "    W=np.zeros(len(Time_period)+1)\n",
    "    W[0]=100\n",
    "    count=0\n",
    "    ret_window = np.zeros((len(Time_period),sliding_window))\n",
    "\n",
    "    for t0 in Time_period:\n",
    "        # ADF\n",
    "        Z,Pvalue_ADF,alpha,beta = ADF(N,t0-training_window,t0) # P-value\n",
    "        \n",
    "        # OU process parameters:\n",
    "        target_coins=np.where(Pvalue_ADF<0.01)[0] \n",
    "        Tau,sigma = FindTau(target_coins,Z)\n",
    "        index=np.where(Tau<=24)[0] # Average time to mean reversion (Tau) faster than 24 Days would be good!\n",
    "        \n",
    "        # # Out of sample:\n",
    "\n",
    "        if len(index)>1:\n",
    "            Z_out=Z[target_coins[index],-1] # Use last of Z in windows to determine buy/sell\n",
    "            sign_q=np.zeros(len(Z_out))\n",
    "            ind_q_minus1=np.where((Z_out-np.mean(Z[target_coins[index],:-1],axis=1))/sigma[index]>1.2) \n",
    "            ind_q_plus1=np.where((Z_out-np.mean(Z[target_coins[index],:-1],axis=1))/sigma[index]<-1.2)\n",
    "            sign_q[ind_q_minus1]=-1\n",
    "            sign_q[ind_q_plus1]=1\n",
    "            W[count+1]=W[count]\n",
    "            sign_q1=sign_q ###\n",
    "            # print('\\n{}.'.format(count+1))\n",
    "            # print('\\nTime period is from {} to {}'.format((t0-training_window),t0))\n",
    "            # print('\\nW is {}'.format(W[count]))\n",
    "            # print('\\nThere are {} coins over {} have an PP p-value that is less than .01'.format(len(target_coins),N))\n",
    "\n",
    "            j=0\n",
    "            # all_sign=np.zeros((len(range(t0,min(t0+sliding_window,T))),len(sign_q))) ## trading_counts\n",
    "            for t in range(t0,min(t0+sliding_window,T)):\n",
    "                A = np.ones((3,len(index)))\n",
    "                b = np.zeros(3)\n",
    "                A[0,:]=beta[target_coins[index]]*sign_q # market neutral\n",
    "                # This beta is a bit of incorrect\n",
    "                A[1,:]=sign_q # dollar-neutral\n",
    "                b[2] = min(W[count+1],10000) # leverage \n",
    "                res=optimize.linprog(-np.abs(Z_out),\\\n",
    "                                    A_eq=A,b_eq=b,options={'maxiter': 4})\n",
    "                q=sign_q*res.x \n",
    "\n",
    "                #compute return\n",
    "                dlogP=np.log(P[target_coins[index],t+1]/P[target_coins[index],t])\n",
    "                dlogPm=np.log(Index_Rcap[t+1]/Index_Rcap[t])\n",
    "                dP_over_P=(P[target_coins[index],t+1]/P[target_coins[index],t])-1\n",
    "                dPm_over_Pm=(Index_Rcap[t+1]/Index_Rcap[t])-1\n",
    "\n",
    "                if t==t0: # Considering first-building transaction fee\n",
    "                    W[count+1]+= np.sum(q*dP_over_P)-np.sum(np.abs(q-0)*TC) # value\n",
    "                else:\n",
    "                    W[count+1]+= np.sum(q*dP_over_P) # value\n",
    "                \n",
    "                ret_window[np.where(Time_period==t0)[0][0],j] = (W[count+1]/W[count])-1 # return\n",
    "\n",
    "                # exit conditions\n",
    "                dZ=dlogP-alpha[target_coins[index]]-beta[target_coins[index]]*dlogPm\n",
    "                Z_out+=dZ\n",
    "                # all_sign[np.where(np.arange(t0,min(t0+sliding_window,T))==t)[0][0],:]=sign_q ## trading_counts\n",
    "                exit_sign=np.where(np.abs((Z_out-np.mean(Z[target_coins[index],:-1],axis=1))/sigma[index])<0.5)[0]\n",
    "                ADJ=-np.sum(np.abs(q[exit_sign]-0)*TC) ##\n",
    "                W[count+1]+=ADJ ##\n",
    "                q[exit_sign]=0\n",
    "                sign_q=np.sign(q)\n",
    "                j+=1\n",
    "            count+=1\n",
    "    return W,ret_window"
   ]
  },
  {
   "cell_type": "code",
   "execution_count": 31,
   "id": "eb5abc3b",
   "metadata": {
    "scrolled": false
   },
   "outputs": [],
   "source": [
    "def CumRet_chart(sliding_window,training_window,W):\n",
    "    t = np.arange(training_window,T,sliding_window)\n",
    "    t = np.append(t,min(T,t[-1]+sliding_window))\n",
    "    plt.plot(t,W,label='W')\n",
    "    plt.legend()\n",
    "    plt.title('Pair Portfolio Value')\n",
    "    locs, label=plt.xticks() # Get the current locations and labels\n",
    "    t_sub=np.arange(t[0],t[-1], step=len(t))\n",
    "    plt.xticks(t_sub,dates['Date'][t_sub],rotation=90) # Set text labels and properties\n",
    "    plt.show()"
   ]
  },
  {
   "cell_type": "code",
   "execution_count": 32,
   "id": "4ca6db13",
   "metadata": {},
   "outputs": [],
   "source": [
    "def annualized_profit_chart(sliding_window,W):\n",
    "    # calculate return for each window\n",
    "    Ret=np.zeros(len(W)-1)\n",
    "    for i in range(len(W)-1):\n",
    "        Ret[i]=W[i+1]/W[i]-1\n",
    "    Annualized_Ret=Ret*252/sliding_window\n",
    "    plt.hist(Annualized_Ret,label='Annualized Return')\n",
    "    plt.legend()\n",
    "    plt.title('Histogram of Profit(Annualized Return)')\n",
    "    plt.xlabel('\\nAnnualized Return\\n', fontsize = 10)\n",
    "    plt.ylabel('\\nFrequency\\n', fontsize = 10 )\n",
    "    plt.show()\n",
    "    return Ret,Annualized_Ret"
   ]
  },
  {
   "cell_type": "code",
   "execution_count": 34,
   "id": "bff03b8a",
   "metadata": {},
   "outputs": [],
   "source": [
    "def sharpe_ratio(sliding_window,Ret,ret_window):\n",
    "    # calculate sharpe ratio for each window\n",
    "    annual_rf_rate = 0.02\n",
    "    sharpe_ratio=np.zeros(len(Ret))\n",
    "    for i in range(len(Ret)):\n",
    "        index=np.where(ret_window[i,:]!=0)[0]\n",
    "        std=np.std(ret_window[i,:][index])\n",
    "        if std!=0:\n",
    "            #sharpe_ratio[i]=((Ret[i]/sliding_window)-(annual_rf_rate/252))/std\n",
    "            sharpe_ratio[i]=(Ret[i]/sliding_window)/std\n",
    "        else:\n",
    "            sharpe_ratio[i]=np.nan\n",
    "    plt.hist(sharpe_ratio,label='Sharpe Ratio')\n",
    "    plt.legend()\n",
    "    plt.title('Histogram of Sharpe Ratio')\n",
    "    plt.xlabel('\\nSharpe Ratio\\n', fontsize = 10)\n",
    "    plt.ylabel('\\nFrequency\\n', fontsize = 10 )\n",
    "    plt.show()\n",
    "    return sharpe_ratio"
   ]
  },
  {
   "cell_type": "code",
   "execution_count": null,
   "id": "19544e8d",
   "metadata": {},
   "outputs": [],
   "source": [
    "# Problem 3 - Results:"
   ]
  },
  {
   "cell_type": "code",
   "execution_count": 49,
   "id": "ef19aa3a",
   "metadata": {},
   "outputs": [
    {
     "data": {
      "text/plain": [
       "array([ 100.        ,  100.00756416,  100.44918787,  113.64280974,\n",
       "        113.64282263,  113.64544357,  144.46305821,  144.46343167,\n",
       "        144.44840687,  144.44854938,  144.44854938,  144.44784157,\n",
       "        144.45087732,  144.44698517,  174.11986496,  294.45186989,\n",
       "        330.6774484 ,  332.07616813,  332.07382832,  332.04647309,\n",
       "        332.0465346 ,  332.04654186,  332.04654914,  332.04654914,\n",
       "        332.04657306,  332.04663805,  332.04673379,  332.04638555,\n",
       "        332.04311363,  380.51174063,  380.51174063,  448.99658006,\n",
       "        448.58147838,  766.67795067,  766.67795119,  706.66862397,\n",
       "        706.6572491 ,  706.6572491 ,  706.65704055,  749.94329932,\n",
       "        749.94329629,  964.47208249, 1294.24789664, 1416.22828142,\n",
       "       1416.09555779, 1416.06407809, 1416.12292532, 1427.38168742,\n",
       "       1427.38168765])"
      ]
     },
     "execution_count": 49,
     "metadata": {},
     "output_type": "execute_result"
    }
   ],
   "source": [
    "W1,ret_window1 = pairtrading(20,60,0)\n",
    "W1"
   ]
  },
  {
   "cell_type": "code",
   "execution_count": 50,
   "id": "4adf8a96",
   "metadata": {},
   "outputs": [
    {
     "data": {
      "image/png": "[encoded data removed]",
      "text/plain": [
       "<Figure size 432x288 with 1 Axes>"
      ]
     },
     "metadata": {
      "needs_background": "light"
     },
     "output_type": "display_data"
    }
   ],
   "source": [
    "CumRet_chart(20,60,W1)"
   ]
  },
  {
   "cell_type": "code",
   "execution_count": 36,
   "id": "8b64cabe",
   "metadata": {},
   "outputs": [
    {
     "data": {
      "image/png": "[encoded data removed]",
      "text/plain": [
       "<Figure size 432x288 with 1 Axes>"
      ]
     },
     "metadata": {
      "needs_background": "light"
     },
     "output_type": "display_data"
    },
    {
     "data": {
      "text/plain": [
       "array([ 9.53084750e-04,  5.56403781e-02,  1.65496247e+00,  1.42846109e-06,\n",
       "        2.90594083e-04,  3.41678410e+00,  3.25730478e-05, -1.31045238e-03,\n",
       "        1.24301286e-05,  0.00000000e+00, -6.17406354e-05,  2.64804583e-04,\n",
       "       -3.39499930e-04,  2.58834260e+00,  8.70769836e+00,  1.55014227e+00,\n",
       "        5.32962520e-02, -8.87796904e-05, -1.03794960e-03,  2.33401243e-06,\n",
       "        2.75407497e-07,  2.76341040e-07,  0.00000000e+00,  9.07878784e-07,\n",
       "        2.46595551e-06,  3.63284241e-06, -1.32142199e-05, -1.24158203e-04,\n",
       "        1.83923315e+00,  0.00000000e+00,  2.26775914e+00, -1.16488218e-02,\n",
       "        8.93486634e+00,  8.48200870e-09, -9.86225731e-01, -2.02815648e-04,\n",
       "        0.00000000e+00, -3.71847539e-06,  7.71812675e-01, -5.08949716e-08,\n",
       "        3.60435612e+00,  4.30823798e+00,  1.18752586e+00, -1.18082497e-03,\n",
       "       -2.80097085e-04,  5.23616912e-04,  1.00175204e-01,  2.00617722e-09])"
      ]
     },
     "execution_count": 36,
     "metadata": {},
     "output_type": "execute_result"
    }
   ],
   "source": [
    "Ret1,Annualized_Ret1=annualized_profit_chart(20,W1)\n",
    "Annualized_Ret1"
   ]
  },
  {
   "cell_type": "code",
   "execution_count": 59,
   "id": "0abc5bf3",
   "metadata": {},
   "outputs": [
    {
     "data": {
      "image/png": "[encoded data removed]",
      "text/plain": [
       "<Figure size 432x288 with 1 Axes>"
      ]
     },
     "metadata": {
      "needs_background": "light"
     },
     "output_type": "display_data"
    },
    {
     "data": {
      "text/plain": [
       "array([ 1.09255363e-01,  1.24367388e-01,  1.02040923e-01,  2.46654223e-02,\n",
       "        1.05335135e-01,  1.12366463e-01,  9.04195499e-02, -2.83480483e-01,\n",
       "        7.03096391e-02,             nan, -9.72106262e-02,  1.33300864e-01,\n",
       "       -1.17527518e-01,  4.03746893e+01,  2.25054344e-01,  1.14208418e-01,\n",
       "        4.10202347e+01, -1.10559829e-01, -3.25691030e-01,  1.16908886e-01,\n",
       "        1.15513598e-01,  6.84065011e-01,             nan,  1.16740942e-01,\n",
       "        1.65641380e-01,  1.82893861e-01, -7.91165622e-02, -1.66667474e-01,\n",
       "        1.23023313e+03,             nan,  1.08652993e-01, -2.82017861e+01,\n",
       "        1.95574478e+02,             nan, -1.73262840e-01, -2.60974834e-01,\n",
       "                   nan, -2.27444053e-01,  3.19897800e+03, -1.07277737e+00,\n",
       "        7.48801132e-01,  1.22334052e-01,  4.84131980e+02, -1.48410675e+00,\n",
       "       -3.28705386e-01,  1.11464406e-01,  4.73706373e-01,  3.90616126e-01])"
      ]
     },
     "execution_count": 59,
     "metadata": {},
     "output_type": "execute_result"
    }
   ],
   "source": [
    "sharpe_ratio1 = sharpe_ratio(20,Ret1,ret_window1)\n",
    "sharpe_ratio1"
   ]
  },
  {
   "cell_type": "code",
   "execution_count": 48,
   "id": "73bc9964",
   "metadata": {},
   "outputs": [
    {
     "data": {
      "text/plain": [
       "array([ 100.        ,  100.00755954,  100.44918285,  113.64280267,\n",
       "        113.64281555,  113.64543433,  144.38449943,  144.38487136,\n",
       "        144.36980712,  144.36994924,  144.36994924,  144.36923124,\n",
       "        144.37226255,  144.36837902,  173.99706564,  294.24416887,\n",
       "        330.4385483 ,  331.81551993,  331.81318062,  331.78599191,\n",
       "        331.7860533 ,  331.78606055,  331.78606543,  331.78606543,\n",
       "        331.78608925,  331.7861541 ,  331.78624967,  331.78590066,\n",
       "        331.78262921,  380.07613381,  380.07613381,  448.48680474,\n",
       "        448.07178007,  765.49958532,  765.49958583,  705.52240676,\n",
       "        705.51067672,  705.51067672,  705.51046803,  748.20753532,\n",
       "        748.2075298 ,  962.35458366, 1290.52558379, 1411.52044429,\n",
       "       1411.38747594, 1411.35564047, 1411.41432402, 1422.47458523,\n",
       "       1422.47458545])"
      ]
     },
     "execution_count": 48,
     "metadata": {},
     "output_type": "execute_result"
    }
   ],
   "source": [
    "# 5bps, 1bps = 0.01%\n",
    "W2,ret_window2 = pairtrading(20,60,0.0005)\n",
    "W2"
   ]
  },
  {
   "cell_type": "code",
   "execution_count": 46,
   "id": "49648ab1",
   "metadata": {},
   "outputs": [
    {
     "data": {
      "image/png": "[encoded data removed]",
      "text/plain": [
       "<Figure size 432x288 with 1 Axes>"
      ]
     },
     "metadata": {
      "needs_background": "light"
     },
     "output_type": "display_data"
    }
   ],
   "source": [
    "CumRet_chart(20,60,W2)"
   ]
  },
  {
   "cell_type": "code",
   "execution_count": 47,
   "id": "05a7e6e7",
   "metadata": {},
   "outputs": [
    {
     "data": {
      "image/png": "[encoded data removed]",
      "text/plain": [
       "<Figure size 432x288 with 1 Axes>"
      ]
     },
     "metadata": {
      "needs_background": "light"
     },
     "output_type": "display_data"
    },
    {
     "data": {
      "text/plain": [
       "array([ 9.52502371e-04,  5.56403304e-02,  1.65496229e+00,  1.42844992e-06,\n",
       "        2.90353198e-04,  3.40807550e+00,  3.24571493e-05, -1.31460775e-03,\n",
       "        1.24039442e-05,  0.00000000e+00, -6.26641208e-05,  2.64561541e-04,\n",
       "       -3.38933129e-04,  2.58589487e+00,  8.70769570e+00,  1.54990049e+00,\n",
       "        5.25055041e-02, -8.88302221e-05, -1.03244170e-03,  2.33131187e-06,\n",
       "        2.75277507e-07,  1.85435051e-07,  0.00000000e+00,  9.04769824e-07,\n",
       "        2.46263471e-06,  3.62951667e-06, -1.32541085e-05, -1.24237769e-04,\n",
       "        1.83402657e+00,  0.00000000e+00,  2.26789945e+00, -1.16598990e-02,\n",
       "        8.92622683e+00,  8.44515378e-09, -9.87214716e-01, -2.09488076e-04,\n",
       "        0.00000000e+00, -3.72699695e-06,  7.62544388e-01, -9.29616891e-08,\n",
       "        3.60628939e+00,  4.29670588e+00,  1.18132896e+00, -1.18694790e-03,\n",
       "       -2.84207434e-04,  5.23902465e-04,  9.87373366e-02,  1.99324597e-09])"
      ]
     },
     "execution_count": 47,
     "metadata": {},
     "output_type": "execute_result"
    }
   ],
   "source": [
    "Ret2,Annualized_Ret2=annualized_profit_chart(20,W2)\n",
    "Annualized_Ret2"
   ]
  },
  {
   "cell_type": "code",
   "execution_count": 60,
   "id": "1965df44",
   "metadata": {},
   "outputs": [
    {
     "data": {
      "image/png": "[encoded data removed]",
      "text/plain": [
       "<Figure size 432x288 with 1 Axes>"
      ]
     },
     "metadata": {
      "needs_background": "light"
     },
     "output_type": "display_data"
    },
    {
     "data": {
      "text/plain": [
       "array([ 1.09249730e-01,  1.24367282e-01,  1.02040916e-01,  2.46652314e-02,\n",
       "        1.05296930e-01,  1.12149030e-01,  9.03498568e-02, -2.85213206e-01,\n",
       "        7.02625463e-02,             nan, -9.87668061e-02,  1.33349250e-01,\n",
       "       -1.17545861e-01,  4.03862264e+01,  2.25054940e-01,  1.14201796e-01,\n",
       "        4.24119338e+01, -1.10574205e-01, -3.25076276e-01,  1.16905350e-01,\n",
       "        1.15511848e-01,  4.94995934e-01,             nan,  1.16737907e-01,\n",
       "        1.65638703e-01,  1.82874580e-01, -7.93040868e-02, -1.66667485e-01,\n",
       "        1.23018149e+03,             nan,  1.08652062e-01, -2.83877796e+01,\n",
       "        2.08977275e+02,  1.68532572e+02, -1.73527753e-01, -2.72083617e-01,\n",
       "                   nan, -2.27514635e-01,  4.79411320e+01, -1.96264168e+00,\n",
       "        7.50044827e-01,  1.22173744e-01,  4.83622143e+02, -1.50585298e+00,\n",
       "       -3.31279373e-01,  1.11286781e-01,  4.66867754e-01,  3.90645124e-01])"
      ]
     },
     "execution_count": 60,
     "metadata": {},
     "output_type": "execute_result"
    }
   ],
   "source": [
    "sharpe_ratio2 = sharpe_ratio(20,Ret2,ret_window2)\n",
    "sharpe_ratio2"
   ]
  },
  {
   "cell_type": "code",
   "execution_count": 42,
   "id": "567b4574",
   "metadata": {},
   "outputs": [
    {
     "data": {
      "text/plain": [
       "array([ 100.        ,  100.0075503 ,  100.44917281,  113.64278853,\n",
       "        113.64280141,  113.64541584,  144.22725948,  144.22762835,\n",
       "        144.21248541,  144.21262678,  144.21262678,  144.21188853,\n",
       "        144.21491154,  144.21104523,  173.75139976,  293.82865533,\n",
       "        329.96066712,  331.29838647,  331.29604817,  331.26919466,\n",
       "        331.26925581,  331.26926304,  331.26926312,  331.26926312,\n",
       "        331.26928675,  331.26935132,  331.26944657,  331.26909602,\n",
       "        331.26582551,  379.21009443,  379.21009443,  447.4733173 ,\n",
       "        447.05844624,  763.1552866 ,  763.1552871 ,  703.24187797,\n",
       "        703.22944002,  703.22944002,  703.22923106,  744.75392535,\n",
       "        744.75391483,  958.14157481, 1283.1191831 , 1402.15740575,\n",
       "       1402.02398313, 1401.99139634, 1402.04975465, 1412.71663179,\n",
       "       1412.71663201])"
      ]
     },
     "execution_count": 42,
     "metadata": {},
     "output_type": "execute_result"
    }
   ],
   "source": [
    "# 15bps, 1bps = 0.01%\n",
    "W3,ret_window3 = pairtrading(20,60,0.0015)\n",
    "W3"
   ]
  },
  {
   "cell_type": "code",
   "execution_count": 43,
   "id": "b1780907",
   "metadata": {},
   "outputs": [
    {
     "data": {
      "image/png": "[encoded data removed]",
      "text/plain": [
       "<Figure size 432x288 with 1 Axes>"
      ]
     },
     "metadata": {
      "needs_background": "light"
     },
     "output_type": "display_data"
    }
   ],
   "source": [
    "CumRet_chart(20,60,W3)"
   ]
  },
  {
   "cell_type": "code",
   "execution_count": 44,
   "id": "711c3ddb",
   "metadata": {},
   "outputs": [
    {
     "data": {
      "image/png": "[encoded data removed]",
      "text/plain": [
       "<Figure size 432x288 with 1 Axes>"
      ]
     },
     "metadata": {
      "needs_background": "light"
     },
     "output_type": "display_data"
    },
    {
     "data": {
      "text/plain": [
       "array([ 9.51337614e-04,  5.56402352e-02,  1.65496194e+00,  1.42842756e-06,\n",
       "        2.89871429e-04,  3.39064473e+00,  3.22256303e-05, -1.32291596e-03,\n",
       "        1.23515325e-05,  0.00000000e+00, -6.45015127e-05,  2.64124215e-04,\n",
       "       -3.37797994e-04,  2.58099833e+00,  8.70769054e+00,  1.54941780e+00,\n",
       "        5.10826454e-02, -8.89306415e-05, -1.02130474e-03,  2.32594492e-06,\n",
       "        2.75018457e-07,  3.15729962e-09,  0.00000000e+00,  8.98611169e-07,\n",
       "        2.45604035e-06,  3.62291767e-06, -1.33332947e-05, -1.24395588e-04,\n",
       "        1.82360431e+00,  0.00000000e+00,  2.26817962e+00, -1.16819823e-02,\n",
       "        8.90894741e+00,  8.37145513e-09, -9.89194425e-01, -2.22851027e-04,\n",
       "        0.00000000e+00, -3.74402064e-06,  7.44012230e-01, -1.77941286e-07,\n",
       "        3.61016500e+00,  4.27360421e+00,  1.16893397e+00, -1.19895599e-03,\n",
       "       -2.92857700e-04,  5.24478779e-04,  9.58615423e-02,  1.96675956e-09])"
      ]
     },
     "execution_count": 44,
     "metadata": {},
     "output_type": "execute_result"
    }
   ],
   "source": [
    "Ret3,Annualized_Ret3=annualized_profit_chart(20,W3)\n",
    "Annualized_Ret3"
   ]
  },
  {
   "cell_type": "code",
   "execution_count": 61,
   "id": "286e17c3",
   "metadata": {},
   "outputs": [
    {
     "data": {
      "image/png": "[encoded data removed]",
      "text/plain": [
       "<Figure size 432x288 with 1 Axes>"
      ]
     },
     "metadata": {
      "needs_background": "light"
     },
     "output_type": "display_data"
    },
    {
     "data": {
      "text/plain": [
       "array([ 1.09238419e-01,  1.24367071e-01,  1.02040903e-01,  2.46648495e-02,\n",
       "        1.05220332e-01,  1.11713107e-01,  9.02092104e-02, -2.88706209e-01,\n",
       "        7.01679370e-02,             nan, -1.01874128e-01,  1.33459890e-01,\n",
       "       -1.17582458e-01,  4.04103928e+01,  2.25056138e-01,  1.14188587e-01,\n",
       "        2.51564001e+01, -1.10602892e-01, -3.23765684e-01,  1.16898270e-01,\n",
       "        1.15508346e-01,  1.00046225e-02,             nan,  1.16731757e-01,\n",
       "        1.65633347e-01,  1.82835637e-01, -7.96757027e-02, -1.66667505e-01,\n",
       "        1.23002017e+03,             nan,  1.08650220e-01, -2.87625944e+01,\n",
       "        2.01904445e+02,  5.57143958e+01, -1.74058437e-01, -2.94893502e-01,\n",
       "                   nan, -2.27655279e-01,  1.55872240e+01, -3.76896689e+00,\n",
       "        7.52560082e-01,  1.21851089e-01,  4.82593542e+02, -1.54994157e+00,\n",
       "       -3.35745811e-01,  1.10935103e-01,  4.53203769e-01,  3.90577595e-01])"
      ]
     },
     "execution_count": 61,
     "metadata": {},
     "output_type": "execute_result"
    }
   ],
   "source": [
    "sharpe_ratio3 = sharpe_ratio(20,Ret3,ret_window3)\n",
    "sharpe_ratio3"
   ]
  },
  {
   "cell_type": "code",
   "execution_count": null,
   "id": "2196a883",
   "metadata": {},
   "outputs": [],
   "source": []
  }
 ],
 "metadata": {
  "kernelspec": {
   "display_name": "Python 3 (ipykernel)",
   "language": "python",
   "name": "python3"
  },
  "language_info": {
   "codemirror_mode": {
    "name": "ipython",
    "version": 3
   },
   "file_extension": ".py",
   "mimetype": "text/x-python",
   "name": "python",
   "nbconvert_exporter": "python",
   "pygments_lexer": "ipython3",
   "version": "3.9.7"
  }
 },
 "nbformat": 4,
 "nbformat_minor": 5
}
