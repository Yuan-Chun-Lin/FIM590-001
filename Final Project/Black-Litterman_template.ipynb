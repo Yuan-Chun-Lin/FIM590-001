{
 "cells": [
  {
   "cell_type": "markdown",
   "id": "104e47be",
   "metadata": {
    "id": "104e47be"
   },
   "source": [
    "Numpy treats a column vector differently from a 1 dimensional array. \\\n",
    "In order to consistently use column vectors, the following helper function takes either a numpy array or a numpy one-column\n",
    "matrix(i.e. a column vector) and returns the data as a column vector."
   ]
  },
  {
   "cell_type": "code",
   "execution_count": 1,
   "id": "4fe98adf",
   "metadata": {
    "executionInfo": {
     "elapsed": 714,
     "status": "ok",
     "timestamp": 1649186858264,
     "user": {
      "displayName": "Yi-Siou Feng",
      "userId": "04750312349484942434"
     },
     "user_tz": 240
    },
    "id": "4fe98adf"
   },
   "outputs": [],
   "source": [
    "import numpy as np\n",
    "import pandas as pd"
   ]
  },
  {
   "cell_type": "code",
   "execution_count": 2,
   "id": "76c62643",
   "metadata": {
    "executionInfo": {
     "elapsed": 9,
     "status": "ok",
     "timestamp": 1649186858265,
     "user": {
      "displayName": "Yi-Siou Feng",
      "userId": "04750312349484942434"
     },
     "user_tz": 240
    },
    "id": "76c62643"
   },
   "outputs": [],
   "source": [
    "def as_colvec(x):\n",
    "    if(x.ndim==2):\n",
    "        return x\n",
    "    else:\n",
    "        return np.expand_dims(x,axis=1)"
   ]
  },
  {
   "cell_type": "code",
   "execution_count": 3,
   "id": "073bbeda",
   "metadata": {
    "colab": {
     "base_uri": "https://localhost:8080/"
    },
    "executionInfo": {
     "elapsed": 8,
     "status": "ok",
     "timestamp": 1649186858265,
     "user": {
      "displayName": "Yi-Siou Feng",
      "userId": "04750312349484942434"
     },
     "user_tz": 240
    },
    "id": "073bbeda",
    "outputId": "c9d607fb-f6bf-442d-c143-e5b9e8db7d32"
   },
   "outputs": [
    {
     "data": {
      "text/plain": [
       "array([0, 1, 2, 3])"
      ]
     },
     "execution_count": 3,
     "metadata": {},
     "output_type": "execute_result"
    }
   ],
   "source": [
    "np.arange(4)"
   ]
  },
  {
   "cell_type": "code",
   "execution_count": 4,
   "id": "54292ce1",
   "metadata": {
    "colab": {
     "base_uri": "https://localhost:8080/"
    },
    "executionInfo": {
     "elapsed": 6,
     "status": "ok",
     "timestamp": 1649186858265,
     "user": {
      "displayName": "Yi-Siou Feng",
      "userId": "04750312349484942434"
     },
     "user_tz": 240
    },
    "id": "54292ce1",
    "outputId": "54b7a63c-0b91-44e4-b452-f6f70f48f44d",
    "scrolled": true
   },
   "outputs": [
    {
     "data": {
      "text/plain": [
       "array([[0],\n",
       "       [1],\n",
       "       [2],\n",
       "       [3]])"
      ]
     },
     "execution_count": 4,
     "metadata": {},
     "output_type": "execute_result"
    }
   ],
   "source": [
    "as_colvec(np.arange(4))"
   ]
  },
  {
   "cell_type": "markdown",
   "id": "0c0e2377",
   "metadata": {
    "id": "0c0e2377"
   },
   "source": [
    "Recall that the first step in the BL procedure was to reverse engineer the implied returns vector $\\pi$ from a set of portfolio weights $w$ \n",
    "$$ $$\n",
    "$$ \\pi = \\sigma \\sum {w}   $$\n",
    "$$ $$\n",
    "This is performed by the following code"
   ]
  },
  {
   "cell_type": "code",
   "execution_count": 5,
   "id": "4da86e19",
   "metadata": {
    "executionInfo": {
     "elapsed": 5,
     "status": "ok",
     "timestamp": 1649186858265,
     "user": {
      "displayName": "Yi-Siou Feng",
      "userId": "04750312349484942434"
     },
     "user_tz": 240
    },
    "id": "4da86e19"
   },
   "outputs": [],
   "source": [
    "def implied_returns(delta,sigma,w):\n",
    "    '''\n",
    "Obtain the implied expected returns by reverse engineering the weights\n",
    "Inputs:\n",
    "delta: Risk Aversion Coefficient (scalar)\n",
    "sigma: Variance-Covariance Matrix (N x N) as DataFrame\n",
    "    W: Portfolio weights (N x 1) as Series\n",
    "\n",
    "Returns an N x 1 vector of Returns as Series \n",
    "    '''\n",
    "    ir = delta * sigma.dot(w).squeeze() \n",
    "    # to get a series from a 1-column dataframe\n",
    "    ir.name = 'Implied Returns'\n",
    "    return ir"
   ]
  },
  {
   "cell_type": "markdown",
   "id": "765a7610",
   "metadata": {
    "id": "765a7610"
   },
   "source": [
    "If the investor does not have a specific way to explicitly quantify the uncertaintly associated with the view in the $\\Omega$ matrix, one could make the simplifying assumption that $\\Omega$ is proportional to the variance of the prior.\n",
    "$$ $$\n",
    "$$ \\Omega = diag(P(\\tau \\Sigma)P^{T}) $$"
   ]
  },
  {
   "cell_type": "code",
   "execution_count": 6,
   "id": "63ac57b0",
   "metadata": {
    "executionInfo": {
     "elapsed": 5,
     "status": "ok",
     "timestamp": 1649186858266,
     "user": {
      "displayName": "Yi-Siou Feng",
      "userId": "04750312349484942434"
     },
     "user_tz": 240
    },
    "id": "63ac57b0"
   },
   "outputs": [],
   "source": [
    "# Assumes that Omega is proportional to the variance of the prior\n",
    "def proportional_prior(sigma,tau,p):\n",
    "    '''\n",
    "Returns that He-Litterman simplified Omega\n",
    "Inputs:\n",
    "sigma: N x N Covariance Matrix as DataFrame\n",
    "tau  : a scalar\n",
    "p    : a K x N DataFrame Linking Q and Assests\n",
    "returns a P x P DataFrame, a Matrix representing Prior Uncertainties\n",
    "    '''\n",
    "    helit_omega = p.dot(tau*sigma).dot(p.T)\n",
    "    # make a diag matrix from the diag elements of Omega\n",
    "    return pd.DataFrame(np.diag(np.diag(helit_omega.values)),index=p.index,columns=p.index)\n",
    "    "
   ]
  },
  {
   "cell_type": "code",
   "execution_count": 7,
   "id": "207ffe71",
   "metadata": {
    "executionInfo": {
     "elapsed": 5,
     "status": "ok",
     "timestamp": 1649186858266,
     "user": {
      "displayName": "Yi-Siou Feng",
      "userId": "04750312349484942434"
     },
     "user_tz": 240
    },
    "id": "207ffe71"
   },
   "outputs": [],
   "source": [
    "from numpy.linalg import inv\n",
    "\n",
    "def bl(w_prior, sigma_prior, p, q, omega=None,delta=2.5,tau=0.02):\n",
    "    '''\n",
    "Computes the posterior expected returns based on the original black litterman reference model\n",
    "\n",
    "W.prior must be an N x 1 vector of weights, a Series\n",
    "Sigma.prior is an N x N covariance matrix, a DataFrame\n",
    "P must be a K x N matrix linking Q and the Assests, a DataFrame\n",
    "Q must be a K x 1 vector of views, a Series\n",
    "Omega must be a K x K matrix a DataFrame, or None\n",
    "if Omega is None, we assume it is\n",
    "    proportional to variance of the prior\n",
    "delta and tau are scalars    \n",
    "    '''\n",
    "    if omega is None:\n",
    "        omega = proportional_prior(sigma_prior, tau, p)\n",
    "    # Force w.prior and Q to be column vector\n",
    "    # How many assets do we have?\n",
    "    N = w_prior.shape[0]\n",
    "    \n",
    "    # How many views?\n",
    "    K = q.shape[0]\n",
    "    \n",
    "    # First, reverse-engineer the weights to get pi\n",
    "    pi = implied_returns(delta, sigma_prior, w_prior)\n",
    "    \n",
    "    # Adjust (scale) Sigma by the uncertainty scaling factor\n",
    "    sigma_prior_scaled = tau * sigma_prior\n",
    "    \n",
    "    # posterior estimate of the mean, use the \"Master Formula\"\n",
    "    # we use the versions that do not require Omega to be inverted\n",
    "    # this is easier to read if we use '@' for matrixmult instead of .dot()\n",
    "    #    mu_bl = pi + sigma_prior_scaled @ p.T @ inv(p @ sigma_prior_scaled @ p.T + omega) @ (q - p @ pi)\n",
    "    mu_bl = pi + sigma_prior_scaled.dot(p.T).dot(inv(p.dot(sigma_prior_scaled).dot(p.T)+omega).dot(q-p.dot(pi).values))\n",
    "    # posterior estimate of uncertainty of mu.bl\n",
    "    #   sigma_bl = sigma_prior + sigma_prior_scaled - sigma_prior_scaled @ p.T @ inv(p @ sigma_prior_scaled @ p.T + omega) @ p @ sigma_prior_scaled\n",
    "    sigma_bl = sigma_prior + sigma_prior_scaled - sigma_prior_scaled.dot(p.T).dot(inv(p.dot(sigma_prior_scaled).dot(p.T)+omega)).dot(p).dot(sigma_prior_scaled)\n",
    "    return (mu_bl,sigma_bl)"
   ]
  },
  {
   "cell_type": "markdown",
   "id": "3bab268f",
   "metadata": {
    "id": "3bab268f"
   },
   "source": [
    "## Example\n",
    "\n",
    "Consider the portfolio consisting of just two stocks : Intel (INTC) and Pfizer(PFE)\n",
    "\n",
    "The Covariance matrix:\n",
    "\n",
    "|  |  |  |\n",
    "| :-----| ----: | :----: |\n",
    "| INTC | 46.0 | 1.06 |\n",
    "| PFE | 1.06 | 5.33 |\n",
    "\n",
    "Assume that Intel has a market capitalization of approximately USD 80 Billion\n",
    "and Pfizer is approximately USD 100 Billions.\n"
   ]
  },
  {
   "cell_type": "code",
   "execution_count": 8,
   "id": "fc731608",
   "metadata": {
    "executionInfo": {
     "elapsed": 312,
     "status": "ok",
     "timestamp": 1649186858574,
     "user": {
      "displayName": "Yi-Siou Feng",
      "userId": "04750312349484942434"
     },
     "user_tz": 240
    },
    "id": "fc731608"
   },
   "outputs": [],
   "source": [
    "tickers = ['INTC','PFE']\n",
    "weights = pd.Series([80/(80+100),100/(80+100)],index=tickers)\n",
    "\n",
    "s = pd.DataFrame([[46,1.06],[1.06, 5.33]],index=tickers,columns=tickers)* 10E-4\n",
    "pi = implied_returns(delta=2.5,sigma=s,w=weights)"
   ]
  },
  {
   "cell_type": "code",
   "execution_count": 9,
   "id": "0d1a7631",
   "metadata": {
    "colab": {
     "base_uri": "https://localhost:8080/"
    },
    "executionInfo": {
     "elapsed": 14,
     "status": "ok",
     "timestamp": 1649186858574,
     "user": {
      "displayName": "Yi-Siou Feng",
      "userId": "04750312349484942434"
     },
     "user_tz": 240
    },
    "id": "0d1a7631",
    "outputId": "4627e3b2-47cc-4b37-d53a-09e19b8c3fd6",
    "scrolled": true
   },
   "outputs": [
    {
     "data": {
      "text/plain": [
       "INTC    0.052583\n",
       "PFE     0.008581\n",
       "Name: Implied Returns, dtype: float64"
      ]
     },
     "execution_count": 9,
     "metadata": {},
     "output_type": "execute_result"
    }
   ],
   "source": [
    "pi"
   ]
  },
  {
   "cell_type": "markdown",
   "id": "db1dd392",
   "metadata": {
    "id": "db1dd392"
   },
   "source": [
    "Thus the equilibrium implied returns for Intel are 5.25% and 0.86% for PFE\n",
    "\n",
    "Let's assume the investors thinks that Intel will return 2% and that Pfizer will be rebounce to 4%.\n",
    "\n",
    "We can now examine the optimal weights according to the Markowitz precedure.\n",
    "\n",
    "What would happen if we used these expected returns to compute the Optimal Max Sharpe Ratio Portfolio?\n",
    "\n",
    "The Max Sharpe Ratio(MSR) Portfolio weights are easily computed in explicit form if there are no constraints on the weights.\n",
    "$$ W_{MSR} = \\frac{\\Sigma^{-1} u_{e}}{1^T\\Sigma^{-1}u_e} $$\n",
    "where $u_e$ is the vector of expected excess returns and $\\Sigma$ is the variance-covariance matrix.\n"
   ]
  },
  {
   "cell_type": "code",
   "execution_count": 10,
   "id": "62df28af",
   "metadata": {
    "executionInfo": {
     "elapsed": 14,
     "status": "ok",
     "timestamp": 1649186858575,
     "user": {
      "displayName": "Yi-Siou Feng",
      "userId": "04750312349484942434"
     },
     "user_tz": 240
    },
    "id": "62df28af"
   },
   "outputs": [],
   "source": [
    "# for convenience and readability, define the inverse of a dataframe\n",
    "def inverse(d):\n",
    "    '''\n",
    "    Invert the dataframe by inverting the underlying matrix\n",
    "    '''\n",
    "    return pd.DataFrame(inv(d.values), index= d.columns, columns=d.index)"
   ]
  },
  {
   "cell_type": "code",
   "execution_count": 11,
   "id": "0433016a",
   "metadata": {
    "executionInfo": {
     "elapsed": 14,
     "status": "ok",
     "timestamp": 1649186858575,
     "user": {
      "displayName": "Yi-Siou Feng",
      "userId": "04750312349484942434"
     },
     "user_tz": 240
    },
    "id": "0433016a"
   },
   "outputs": [],
   "source": [
    "def w_msr(sigma,mu,scale=True):\n",
    "    '''\n",
    "    Optimal (Tangent/Max Sharpe Ratio) Portfolio weights\n",
    "    by using the Markowitz Optimization Procedure \n",
    "    Mu is the vector of Excess expected Returns\n",
    "    Sigma must be an N x N martix as DataFrmae and Mu a column vector as a Series\n",
    "    '''\n",
    "    w = inverse(sigma).dot(mu)\n",
    "    if scale:\n",
    "        w = w/sum(w)\n",
    "    return w"
   ]
  },
  {
   "cell_type": "markdown",
   "id": "6db005f1",
   "metadata": {
    "id": "6db005f1"
   },
   "source": [
    "Recall that the investor expects that Intel will drop to 2% and Pfizer will return 4%.\n",
    "\n",
    "We can now examine the optimal weights obtained by naively implementing the Markowitz procedure with these expected returns."
   ]
  },
  {
   "cell_type": "code",
   "execution_count": 12,
   "id": "532c9d16",
   "metadata": {
    "colab": {
     "base_uri": "https://localhost:8080/"
    },
    "executionInfo": {
     "elapsed": 14,
     "status": "ok",
     "timestamp": 1649186858576,
     "user": {
      "displayName": "Yi-Siou Feng",
      "userId": "04750312349484942434"
     },
     "user_tz": 240
    },
    "id": "532c9d16",
    "outputId": "b33cadb4-4622-4d46-f345-4aaeb6adba33"
   },
   "outputs": [
    {
     "data": {
      "text/plain": [
       "INTC     3.41\n",
       "PFE     96.59\n",
       "dtype: float64"
      ]
     },
     "execution_count": 12,
     "metadata": {},
     "output_type": "execute_result"
    }
   ],
   "source": [
    "mu_exp = pd.Series([.02, .04],index=tickers)\n",
    "np.round(w_msr(s,mu_exp)*100,2)"
   ]
  },
  {
   "cell_type": "markdown",
   "id": "71b1a5a3",
   "metadata": {
    "id": "71b1a5a3"
   },
   "source": [
    "We can see that Markowitz procedure places an unrealistic weight of more than 96% in Pfizerand less than 4% in Intel.  \n",
    "But this is completely impractical and no rational investor would make such dramatic bets.\n",
    "\n",
    "In contrast, let us now find the weights that the Black Litterman procedure would place.\n",
    "\n",
    "We allow $\\Omega$ to be computed automatically, and are willing to use all the other defaults.  \n",
    "We find the BL weights as follows:"
   ]
  },
  {
   "cell_type": "code",
   "execution_count": 13,
   "id": "ba04195a",
   "metadata": {
    "executionInfo": {
     "elapsed": 14,
     "status": "ok",
     "timestamp": 1649186858577,
     "user": {
      "displayName": "Yi-Siou Feng",
      "userId": "04750312349484942434"
     },
     "user_tz": 240
    },
    "id": "ba04195a"
   },
   "outputs": [],
   "source": [
    "# Absolute view 1 : INTC will return 2%\n",
    "# Absolute view 2 : PFE  will return 4%\n",
    "q = pd.Series({'INTC':0.02,'PFE':0.04})\n",
    "\n",
    "# The Pick Matrix\n",
    "# For View 2, it is for PFE\n",
    "p = pd.DataFrame([\n",
    "    {'INTC':1,'PFE':0},\n",
    "    {'INTC':0,'PFE':1}\n",
    "    ])\n",
    "\n",
    "#Find the Black Litterman Expected Returns\n",
    "bl_mu , bl_sigma = bl(w_prior=pd.Series({'INTC':.44,'PFE':.56}),sigma_prior=s,p=p,q=q)"
   ]
  },
  {
   "cell_type": "code",
   "execution_count": 14,
   "id": "9a8bc951",
   "metadata": {
    "colab": {
     "base_uri": "https://localhost:8080/"
    },
    "executionInfo": {
     "elapsed": 14,
     "status": "ok",
     "timestamp": 1649186858577,
     "user": {
      "displayName": "Yi-Siou Feng",
      "userId": "04750312349484942434"
     },
     "user_tz": 240
    },
    "id": "9a8bc951",
    "outputId": "deaeb09a-4be2-45e7-8229-60c721ae3836"
   },
   "outputs": [
    {
     "data": {
      "text/plain": [
       "INTC    0.037622\n",
       "PFE     0.024111\n",
       "dtype: float64"
      ]
     },
     "execution_count": 14,
     "metadata": {},
     "output_type": "execute_result"
    }
   ],
   "source": [
    "bl_mu"
   ]
  },
  {
   "cell_type": "markdown",
   "id": "ee1629ac",
   "metadata": {
    "id": "ee1629ac"
   },
   "source": [
    "The posterior returns returned by the procedure are clearly weighted between that of the equilibrium implied expected returns (in the range of 5% and 1%) and that of the investor (2% and 4%).  \n",
    "The question is are these weights likely to yield more realistic portfolios?  \n",
    "To answer that question we supply the BL expected returns and covariance martix to the optimizer"
   ]
  },
  {
   "cell_type": "code",
   "execution_count": 15,
   "id": "cb6a8056",
   "metadata": {
    "colab": {
     "base_uri": "https://localhost:8080/",
     "height": 112
    },
    "executionInfo": {
     "elapsed": 14,
     "status": "ok",
     "timestamp": 1649186858578,
     "user": {
      "displayName": "Yi-Siou Feng",
      "userId": "04750312349484942434"
     },
     "user_tz": 240
    },
    "id": "cb6a8056",
    "outputId": "6974ce64-3df7-4e29-90f2-8502d194c065"
   },
   "outputs": [
    {
     "data": {
      "text/html": [
       "\n",
       "  <div id=\"df-a24f5db7-5273-4eb0-a748-778a56f66bcd\">\n",
       "    <div class=\"colab-df-container\">\n",
       "      <div>\n",
       "<style scoped>\n",
       "    .dataframe tbody tr th:only-of-type {\n",
       "        vertical-align: middle;\n",
       "    }\n",
       "\n",
       "    .dataframe tbody tr th {\n",
       "        vertical-align: top;\n",
       "    }\n",
       "\n",
       "    .dataframe thead th {\n",
       "        text-align: right;\n",
       "    }\n",
       "</style>\n",
       "<table border=\"1\" class=\"dataframe\">\n",
       "  <thead>\n",
       "    <tr style=\"text-align: right;\">\n",
       "      <th></th>\n",
       "      <th>INTC</th>\n",
       "      <th>PFE</th>\n",
       "    </tr>\n",
       "  </thead>\n",
       "  <tbody>\n",
       "    <tr>\n",
       "      <th>INTC</th>\n",
       "      <td>0.046459</td>\n",
       "      <td>0.001065</td>\n",
       "    </tr>\n",
       "    <tr>\n",
       "      <th>PFE</th>\n",
       "      <td>0.001065</td>\n",
       "      <td>0.005383</td>\n",
       "    </tr>\n",
       "  </tbody>\n",
       "</table>\n",
       "</div>\n",
       "      <button class=\"colab-df-convert\" onclick=\"convertToInteractive('df-a24f5db7-5273-4eb0-a748-778a56f66bcd')\"\n",
       "              title=\"Convert this dataframe to an interactive table.\"\n",
       "              style=\"display:none;\">\n",
       "        \n",
       "  <svg xmlns=\"http://www.w3.org/2000/svg\" height=\"24px\"viewBox=\"0 0 24 24\"\n",
       "       width=\"24px\">\n",
       "    <path d=\"M0 0h24v24H0V0z\" fill=\"none\"/>\n",
       "    <path d=\"M18.56 5.44l.94 2.06.94-2.06 2.06-.94-2.06-.94-.94-2.06-.94 2.06-2.06.94zm-11 1L8.5 8.5l.94-2.06 2.06-.94-2.06-.94L8.5 2.5l-.94 2.06-2.06.94zm10 10l.94 2.06.94-2.06 2.06-.94-2.06-.94-.94-2.06-.94 2.06-2.06.94z\"/><path d=\"M17.41 7.96l-1.37-1.37c-.4-.4-.92-.59-1.43-.59-.52 0-1.04.2-1.43.59L10.3 9.45l-7.72 7.72c-.78.78-.78 2.05 0 2.83L4 21.41c.39.39.9.59 1.41.59.51 0 1.02-.2 1.41-.59l7.78-7.78 2.81-2.81c.8-.78.8-2.07 0-2.86zM5.41 20L4 18.59l7.72-7.72 1.47 1.35L5.41 20z\"/>\n",
       "  </svg>\n",
       "      </button>\n",
       "      \n",
       "  <style>\n",
       "    .colab-df-container {\n",
       "      display:flex;\n",
       "      flex-wrap:wrap;\n",
       "      gap: 12px;\n",
       "    }\n",
       "\n",
       "    .colab-df-convert {\n",
       "      background-color: #E8F0FE;\n",
       "      border: none;\n",
       "      border-radius: 50%;\n",
       "      cursor: pointer;\n",
       "      display: none;\n",
       "      fill: #1967D2;\n",
       "      height: 32px;\n",
       "      padding: 0 0 0 0;\n",
       "      width: 32px;\n",
       "    }\n",
       "\n",
       "    .colab-df-convert:hover {\n",
       "      background-color: #E2EBFA;\n",
       "      box-shadow: 0px 1px 2px rgba(60, 64, 67, 0.3), 0px 1px 3px 1px rgba(60, 64, 67, 0.15);\n",
       "      fill: #174EA6;\n",
       "    }\n",
       "\n",
       "    [theme=dark] .colab-df-convert {\n",
       "      background-color: #3B4455;\n",
       "      fill: #D2E3FC;\n",
       "    }\n",
       "\n",
       "    [theme=dark] .colab-df-convert:hover {\n",
       "      background-color: #434B5C;\n",
       "      box-shadow: 0px 1px 3px 1px rgba(0, 0, 0, 0.15);\n",
       "      filter: drop-shadow(0px 1px 2px rgba(0, 0, 0, 0.3));\n",
       "      fill: #FFFFFF;\n",
       "    }\n",
       "  </style>\n",
       "\n",
       "      <script>\n",
       "        const buttonEl =\n",
       "          document.querySelector('#df-a24f5db7-5273-4eb0-a748-778a56f66bcd button.colab-df-convert');\n",
       "        buttonEl.style.display =\n",
       "          google.colab.kernel.accessAllowed ? 'block' : 'none';\n",
       "\n",
       "        async function convertToInteractive(key) {\n",
       "          const element = document.querySelector('#df-a24f5db7-5273-4eb0-a748-778a56f66bcd');\n",
       "          const dataTable =\n",
       "            await google.colab.kernel.invokeFunction('convertToInteractive',\n",
       "                                                     [key], {});\n",
       "          if (!dataTable) return;\n",
       "\n",
       "          const docLinkHtml = 'Like what you see? Visit the ' +\n",
       "            '<a target=\"_blank\" href=https://colab.research.google.com/notebooks/data_table.ipynb>data table notebook</a>'\n",
       "            + ' to learn more about interactive tables.';\n",
       "          element.innerHTML = '';\n",
       "          dataTable['output_type'] = 'display_data';\n",
       "          await google.colab.output.renderOutput(dataTable, element);\n",
       "          const docLink = document.createElement('div');\n",
       "          docLink.innerHTML = docLinkHtml;\n",
       "          element.appendChild(docLink);\n",
       "        }\n",
       "      </script>\n",
       "    </div>\n",
       "  </div>\n",
       "  "
      ],
      "text/plain": [
       "          INTC       PFE\n",
       "INTC  0.046459  0.001065\n",
       "PFE   0.001065  0.005383"
      ]
     },
     "execution_count": 15,
     "metadata": {},
     "output_type": "execute_result"
    }
   ],
   "source": [
    "bl_sigma"
   ]
  },
  {
   "cell_type": "code",
   "execution_count": 16,
   "id": "dbb8cdaf",
   "metadata": {
    "colab": {
     "base_uri": "https://localhost:8080/"
    },
    "executionInfo": {
     "elapsed": 13,
     "status": "ok",
     "timestamp": 1649186858578,
     "user": {
      "displayName": "Yi-Siou Feng",
      "userId": "04750312349484942434"
     },
     "user_tz": 240
    },
    "id": "dbb8cdaf",
    "outputId": "9b3a9d9d-b85d-48df-805b-455982336050"
   },
   "outputs": [
    {
     "data": {
      "text/plain": [
       "INTC    0.140692\n",
       "PFE     0.859308\n",
       "dtype: float64"
      ]
     },
     "execution_count": 16,
     "metadata": {},
     "output_type": "execute_result"
    }
   ],
   "source": [
    "# Use the Black Litterman expected returns to get the Optimal Markowitz weights\n",
    "w_msr(bl_sigma,bl_mu)"
   ]
  },
  {
   "cell_type": "markdown",
   "id": "334a1730",
   "metadata": {
    "id": "334a1730"
   },
   "source": [
    "We see that we get much more reasonable weights than we did with naive optimization."
   ]
  },
  {
   "cell_type": "markdown",
   "id": "6ddc3879",
   "metadata": {
    "id": "6ddc3879"
   },
   "source": [
    "## A Simple Example : Relative Views"
   ]
  },
  {
   "cell_type": "markdown",
   "id": "65f1a6d6",
   "metadata": {
    "id": "65f1a6d6"
   },
   "source": [
    "In this example, we examine rlative views. We stick with our simple 2 stock example.  \n",
    "Recall that the Cap-Weighted implied expected returns are:"
   ]
  },
  {
   "cell_type": "code",
   "execution_count": 17,
   "id": "3542f3c2",
   "metadata": {
    "colab": {
     "base_uri": "https://localhost:8080/"
    },
    "executionInfo": {
     "elapsed": 12,
     "status": "ok",
     "timestamp": 1649186858579,
     "user": {
      "displayName": "Yi-Siou Feng",
      "userId": "04750312349484942434"
     },
     "user_tz": 240
    },
    "id": "3542f3c2",
    "outputId": "237f920e-c796-46d6-87fa-43cff2b09af3"
   },
   "outputs": [
    {
     "data": {
      "text/plain": [
       "INTC    0.052583\n",
       "PFE     0.008581\n",
       "Name: Implied Returns, dtype: float64"
      ]
     },
     "execution_count": 17,
     "metadata": {},
     "output_type": "execute_result"
    }
   ],
   "source": [
    "# Expected returns inferred from the cap-weights\n",
    "pi"
   ]
  },
  {
   "cell_type": "markdown",
   "id": "611fa23b",
   "metadata": {
    "id": "611fa23b"
   },
   "source": [
    "Recall also that the cap-weighted portfolio is approximately a 45-55 mix of Intel and Pfizer.  \n",
    "\n",
    "Assume instead that the investor feels that the <font color=#FF0000>Intel will ourperform Pfizer by only 2%."
   ]
  },
  {
   "cell_type": "code",
   "execution_count": 18,
   "id": "54c2c917",
   "metadata": {
    "executionInfo": {
     "elapsed": 11,
     "status": "ok",
     "timestamp": 1649186858579,
     "user": {
      "displayName": "Yi-Siou Feng",
      "userId": "04750312349484942434"
     },
     "user_tz": 240
    },
    "id": "54c2c917"
   },
   "outputs": [],
   "source": [
    "# Relative View 1: INTC will outperform PFE by 2%\n",
    "q = pd.Series([\n",
    "    0.02\n",
    "])\n",
    "\n",
    "# The Pick Matrix\n",
    "p = pd.DataFrame([\n",
    "    # For View 1, this is for INTC outperforming PFE\n",
    "    {'INTC':+1, 'PFE':-1}\n",
    "])\n",
    "\n",
    "# Find the Black Litterman Expected Returns\n",
    "bl_mu , bl_sigma = bl(w_prior=pd.Series({'INTC':.44,'PFE':.56}),sigma_prior=s,p=p,q=q)"
   ]
  },
  {
   "cell_type": "code",
   "execution_count": 19,
   "id": "9ad43cb6",
   "metadata": {
    "colab": {
     "base_uri": "https://localhost:8080/"
    },
    "executionInfo": {
     "elapsed": 12,
     "status": "ok",
     "timestamp": 1649186858580,
     "user": {
      "displayName": "Yi-Siou Feng",
      "userId": "04750312349484942434"
     },
     "user_tz": 240
    },
    "id": "9ad43cb6",
    "outputId": "7a29a42e-7b0f-4f36-ac16-c83b30b13ad4"
   },
   "outputs": [
    {
     "data": {
      "text/plain": [
       "INTC    0.041374\n",
       "PFE     0.009646\n",
       "dtype: float64"
      ]
     },
     "execution_count": 19,
     "metadata": {},
     "output_type": "execute_result"
    }
   ],
   "source": [
    "# New set of BL return\n",
    "bl_mu"
   ]
  },
  {
   "cell_type": "code",
   "execution_count": 20,
   "id": "ba6fba7d",
   "metadata": {
    "colab": {
     "base_uri": "https://localhost:8080/"
    },
    "executionInfo": {
     "elapsed": 11,
     "status": "ok",
     "timestamp": 1649186858580,
     "user": {
      "displayName": "Yi-Siou Feng",
      "userId": "04750312349484942434"
     },
     "user_tz": 240
    },
    "id": "ba6fba7d",
    "outputId": "7ed7269b-b8ce-4030-af75-fb6a13ae80f5"
   },
   "outputs": [
    {
     "data": {
      "text/plain": [
       "0.04400277777777777"
      ]
     },
     "execution_count": 20,
     "metadata": {},
     "output_type": "execute_result"
    }
   ],
   "source": [
    "# The outperformance of Intel in the implied returns is:\n",
    "pi[0]-pi[1]"
   ]
  },
  {
   "cell_type": "code",
   "execution_count": 21,
   "id": "98ac0575",
   "metadata": {
    "colab": {
     "base_uri": "https://localhost:8080/"
    },
    "executionInfo": {
     "elapsed": 217,
     "status": "ok",
     "timestamp": 1649186858786,
     "user": {
      "displayName": "Yi-Siou Feng",
      "userId": "04750312349484942434"
     },
     "user_tz": 240
    },
    "id": "98ac0575",
    "outputId": "894ffe09-f4a8-431f-c18e-dfdb20047174"
   },
   "outputs": [
    {
     "data": {
      "text/plain": [
       "0.031728"
      ]
     },
     "execution_count": 21,
     "metadata": {},
     "output_type": "execute_result"
    }
   ],
   "source": [
    "# In contrast, the investor felt it only would be 2%.\n",
    "# The expected returns returned by the BL show a spread\n",
    "# that is a blend between the cap-weight implied returns and that of the investor:\n",
    "bl_mu[0]-bl_mu[1]"
   ]
  },
  {
   "cell_type": "markdown",
   "id": "f3a195f6",
   "metadata": {
    "id": "f3a195f6"
   },
   "source": [
    "And the weights in the Optimized portfolio when we use these expected returns are:"
   ]
  },
  {
   "cell_type": "code",
   "execution_count": 22,
   "id": "3d094638",
   "metadata": {
    "colab": {
     "base_uri": "https://localhost:8080/"
    },
    "executionInfo": {
     "elapsed": 3,
     "status": "ok",
     "timestamp": 1649186858786,
     "user": {
      "displayName": "Yi-Siou Feng",
      "userId": "04750312349484942434"
     },
     "user_tz": 240
    },
    "id": "3d094638",
    "outputId": "d05d198c-fb87-436a-cf1d-2da8a51ad325"
   },
   "outputs": [
    {
     "data": {
      "text/plain": [
       "INTC    0.347223\n",
       "PFE     0.652777\n",
       "dtype: float64"
      ]
     },
     "execution_count": 22,
     "metadata": {},
     "output_type": "execute_result"
    }
   ],
   "source": [
    "# Use the Black Litterman expected returns and covariance matrix\n",
    "w_msr(bl_sigma, bl_mu)"
   ]
  },
  {
   "cell_type": "markdown",
   "id": "943f8058",
   "metadata": {
    "id": "943f8058"
   },
   "source": [
    "These seem like more reasonable weights compared to the orignial one.  \n",
    "\n",
    "In constrast, consider the weights we would get if we implemented the same view without BL.  \n",
    "We set<font color=#0000FF> the returns of Intel and Pfizer to be 3% and 1% respectively</font>."
   ]
  },
  {
   "cell_type": "code",
   "execution_count": 23,
   "id": "bbcd797b",
   "metadata": {
    "colab": {
     "base_uri": "https://localhost:8080/"
    },
    "executionInfo": {
     "elapsed": 2,
     "status": "ok",
     "timestamp": 1649186858786,
     "user": {
      "displayName": "Yi-Siou Feng",
      "userId": "04750312349484942434"
     },
     "user_tz": 240
    },
    "id": "bbcd797b",
    "outputId": "0dcb2fce-f127-454f-ae1e-e76a70b6f861"
   },
   "outputs": [
    {
     "data": {
      "text/plain": [
       "INTC    0.258528\n",
       "PFE     0.741472\n",
       "dtype: float64"
      ]
     },
     "execution_count": 23,
     "metadata": {},
     "output_type": "execute_result"
    }
   ],
   "source": [
    "w_msr(s,[0.03,0.01])"
   ]
  },
  {
   "cell_type": "markdown",
   "id": "9c8c30b0",
   "metadata": {
    "id": "9c8c30b0"
   },
   "source": [
    "The weights are significantly more dramatic than one might be willing to implement, and are likely unwarranted given the realtively weak view.  \n",
    "In fact, if the same view were implemented as <font color=#0000FF>Intel and Pfizer retruning 2% and 0%</font>, the results are even more extreme:"
   ]
  },
  {
   "cell_type": "code",
   "execution_count": 24,
   "id": "c805c102",
   "metadata": {
    "colab": {
     "base_uri": "https://localhost:8080/"
    },
    "executionInfo": {
     "elapsed": 238,
     "status": "ok",
     "timestamp": 1649186859022,
     "user": {
      "displayName": "Yi-Siou Feng",
      "userId": "04750312349484942434"
     },
     "user_tz": 240
    },
    "id": "c805c102",
    "outputId": "ab24429b-6e1e-495d-b374-726adbb9244d",
    "scrolled": true
   },
   "outputs": [
    {
     "data": {
      "text/plain": [
       "INTC    1.248244\n",
       "PFE    -0.248244\n",
       "dtype: float64"
      ]
     },
     "execution_count": 24,
     "metadata": {},
     "output_type": "execute_result"
    }
   ],
   "source": [
    "w_msr(s,[0.02,0.0])"
   ]
  },
  {
   "cell_type": "markdown",
   "id": "e583a10d",
   "metadata": {
    "id": "e583a10d"
   },
   "source": [
    "In this case, the Markowitz recommends<font color=#0000FF> shorting Pfizer to 24.8% </font>of the portfolio and <font color=#0000FF>leveraging Intel to almost 125%</font>.   \n",
    "\n",
    "Clearly this is not a sound allocation based on the simple view expressed above."
   ]
  },
  {
   "cell_type": "markdown",
   "id": "c4388f9f",
   "metadata": {
    "id": "c4388f9f"
   },
   "source": [
    "## He-Litterman \n",
    "\n",
    "The He-Litterman example involves an international allocation between 7 countries:"
   ]
  },
  {
   "cell_type": "markdown",
   "id": "6738facd",
   "metadata": {
    "id": "6738facd"
   },
   "source": [
    "![EX1.jpeg](attachment:EX1.jpeg)"
   ]
  },
  {
   "cell_type": "code",
   "execution_count": 25,
   "id": "59f905e9",
   "metadata": {
    "colab": {
     "base_uri": "https://localhost:8080/"
    },
    "executionInfo": {
     "elapsed": 7,
     "status": "ok",
     "timestamp": 1649186859022,
     "user": {
      "displayName": "Yi-Siou Feng",
      "userId": "04750312349484942434"
     },
     "user_tz": 240
    },
    "id": "59f905e9",
    "outputId": "488c2e91-0f29-40a7-e15d-aa5c27fec6a4",
    "scrolled": true
   },
   "outputs": [
    {
     "data": {
      "text/plain": [
       "AU    0.039\n",
       "CA    0.069\n",
       "FR    0.084\n",
       "DE    0.090\n",
       "JP    0.043\n",
       "UK    0.068\n",
       "US    0.076\n",
       "Name: Implied Returns, dtype: float64"
      ]
     },
     "execution_count": 25,
     "metadata": {},
     "output_type": "execute_result"
    }
   ],
   "source": [
    "# The 7 countries\n",
    "countries = ['AU','CA','FR','DE','JP','UK','US']\n",
    "\n",
    "# Correlation Matrix\n",
    "rho = pd.DataFrame([\n",
    "    [1.000,0.488,0.478,0.515,0.439,0.512,0.491],\n",
    "    [0.488,1.000,0.644,0.655,0.310,0.608,0.779],\n",
    "    [0.478,0.664,1.000,0.861,0.355,0.783,0.668],\n",
    "    [0.515,0.655,0.861,1.000,0.354,0.777,0.653],\n",
    "    [0.439,0.310,0.355,0.354,1.000,0.405,0.306],\n",
    "    [0.512,0.608,0.783,0.777,0.405,1.000,0.652],\n",
    "    [0.491,0.779,0.668,0.653,0.306,0.652,1.000]\n",
    "], index=countries,columns=countries)\n",
    "\n",
    "# Volatilities\n",
    "vols = pd.DataFrame([0.160,0.203,0.248,0.271,0.210,0.200,0.187],index=countries,columns=['vol'])\n",
    "\n",
    "# Cap-Weights\n",
    "w_eq = pd.DataFrame([0.016,0.022,0.052,0.055,0.116,0.124,0.615], index=countries, columns=['CapWeight'])\n",
    "\n",
    "# Compute the Covariance Matrix\n",
    "sigma_prior = vols.dot(vols.T)*rho\n",
    "\n",
    "# Compute Pi and compare:\n",
    "pi = implied_returns(delta=2.5, sigma=sigma_prior, w=w_eq)\n",
    "pi.round(3)"
   ]
  },
  {
   "cell_type": "markdown",
   "id": "125b6192",
   "metadata": {
    "id": "125b6192"
   },
   "source": [
    "![Ex2.jpeg](attachment:Ex2.jpeg)"
   ]
  },
  {
   "cell_type": "markdown",
   "id": "5bc61386",
   "metadata": {
    "id": "5bc61386"
   },
   "source": [
    "### View 1: Germany vs Rest of Europe\n",
    "\n",
    "Next, we impose the view that <font color=#0000FF>German equities will outperform the rest of Europes equities by 5%  \n",
    "\n",
    "The other European equities are France and the UK. We split the outperformance proportional to the Market Caps of France and the UK."
   ]
  },
  {
   "cell_type": "code",
   "execution_count": 26,
   "id": "3947e347",
   "metadata": {
    "colab": {
     "base_uri": "https://localhost:8080/",
     "height": 81
    },
    "executionInfo": {
     "elapsed": 6,
     "status": "ok",
     "timestamp": 1649186859022,
     "user": {
      "displayName": "Yi-Siou Feng",
      "userId": "04750312349484942434"
     },
     "user_tz": 240
    },
    "id": "3947e347",
    "outputId": "b3944415-8afe-4dba-c26c-1151a2bc4c4f"
   },
   "outputs": [
    {
     "data": {
      "text/html": [
       "\n",
       "  <div id=\"df-f9b7bdd3-9f5d-4dc7-8d76-ea2f91543ba2\">\n",
       "    <div class=\"colab-df-container\">\n",
       "      <div>\n",
       "<style scoped>\n",
       "    .dataframe tbody tr th:only-of-type {\n",
       "        vertical-align: middle;\n",
       "    }\n",
       "\n",
       "    .dataframe tbody tr th {\n",
       "        vertical-align: top;\n",
       "    }\n",
       "\n",
       "    .dataframe thead th {\n",
       "        text-align: right;\n",
       "    }\n",
       "</style>\n",
       "<table border=\"1\" class=\"dataframe\">\n",
       "  <thead>\n",
       "    <tr style=\"text-align: right;\">\n",
       "      <th></th>\n",
       "      <th>AU</th>\n",
       "      <th>CA</th>\n",
       "      <th>FR</th>\n",
       "      <th>DE</th>\n",
       "      <th>JP</th>\n",
       "      <th>UK</th>\n",
       "      <th>US</th>\n",
       "    </tr>\n",
       "  </thead>\n",
       "  <tbody>\n",
       "    <tr>\n",
       "      <th>0</th>\n",
       "      <td>0.0</td>\n",
       "      <td>0.0</td>\n",
       "      <td>-29.5</td>\n",
       "      <td>100.0</td>\n",
       "      <td>0.0</td>\n",
       "      <td>-70.5</td>\n",
       "      <td>0.0</td>\n",
       "    </tr>\n",
       "  </tbody>\n",
       "</table>\n",
       "</div>\n",
       "      <button class=\"colab-df-convert\" onclick=\"convertToInteractive('df-f9b7bdd3-9f5d-4dc7-8d76-ea2f91543ba2')\"\n",
       "              title=\"Convert this dataframe to an interactive table.\"\n",
       "              style=\"display:none;\">\n",
       "        \n",
       "  <svg xmlns=\"http://www.w3.org/2000/svg\" height=\"24px\"viewBox=\"0 0 24 24\"\n",
       "       width=\"24px\">\n",
       "    <path d=\"M0 0h24v24H0V0z\" fill=\"none\"/>\n",
       "    <path d=\"M18.56 5.44l.94 2.06.94-2.06 2.06-.94-2.06-.94-.94-2.06-.94 2.06-2.06.94zm-11 1L8.5 8.5l.94-2.06 2.06-.94-2.06-.94L8.5 2.5l-.94 2.06-2.06.94zm10 10l.94 2.06.94-2.06 2.06-.94-2.06-.94-.94-2.06-.94 2.06-2.06.94z\"/><path d=\"M17.41 7.96l-1.37-1.37c-.4-.4-.92-.59-1.43-.59-.52 0-1.04.2-1.43.59L10.3 9.45l-7.72 7.72c-.78.78-.78 2.05 0 2.83L4 21.41c.39.39.9.59 1.41.59.51 0 1.02-.2 1.41-.59l7.78-7.78 2.81-2.81c.8-.78.8-2.07 0-2.86zM5.41 20L4 18.59l7.72-7.72 1.47 1.35L5.41 20z\"/>\n",
       "  </svg>\n",
       "      </button>\n",
       "      \n",
       "  <style>\n",
       "    .colab-df-container {\n",
       "      display:flex;\n",
       "      flex-wrap:wrap;\n",
       "      gap: 12px;\n",
       "    }\n",
       "\n",
       "    .colab-df-convert {\n",
       "      background-color: #E8F0FE;\n",
       "      border: none;\n",
       "      border-radius: 50%;\n",
       "      cursor: pointer;\n",
       "      display: none;\n",
       "      fill: #1967D2;\n",
       "      height: 32px;\n",
       "      padding: 0 0 0 0;\n",
       "      width: 32px;\n",
       "    }\n",
       "\n",
       "    .colab-df-convert:hover {\n",
       "      background-color: #E2EBFA;\n",
       "      box-shadow: 0px 1px 2px rgba(60, 64, 67, 0.3), 0px 1px 3px 1px rgba(60, 64, 67, 0.15);\n",
       "      fill: #174EA6;\n",
       "    }\n",
       "\n",
       "    [theme=dark] .colab-df-convert {\n",
       "      background-color: #3B4455;\n",
       "      fill: #D2E3FC;\n",
       "    }\n",
       "\n",
       "    [theme=dark] .colab-df-convert:hover {\n",
       "      background-color: #434B5C;\n",
       "      box-shadow: 0px 1px 3px 1px rgba(0, 0, 0, 0.15);\n",
       "      filter: drop-shadow(0px 1px 2px rgba(0, 0, 0, 0.3));\n",
       "      fill: #FFFFFF;\n",
       "    }\n",
       "  </style>\n",
       "\n",
       "      <script>\n",
       "        const buttonEl =\n",
       "          document.querySelector('#df-f9b7bdd3-9f5d-4dc7-8d76-ea2f91543ba2 button.colab-df-convert');\n",
       "        buttonEl.style.display =\n",
       "          google.colab.kernel.accessAllowed ? 'block' : 'none';\n",
       "\n",
       "        async function convertToInteractive(key) {\n",
       "          const element = document.querySelector('#df-f9b7bdd3-9f5d-4dc7-8d76-ea2f91543ba2');\n",
       "          const dataTable =\n",
       "            await google.colab.kernel.invokeFunction('convertToInteractive',\n",
       "                                                     [key], {});\n",
       "          if (!dataTable) return;\n",
       "\n",
       "          const docLinkHtml = 'Like what you see? Visit the ' +\n",
       "            '<a target=\"_blank\" href=https://colab.research.google.com/notebooks/data_table.ipynb>data table notebook</a>'\n",
       "            + ' to learn more about interactive tables.';\n",
       "          element.innerHTML = '';\n",
       "          dataTable['output_type'] = 'display_data';\n",
       "          await google.colab.output.renderOutput(dataTable, element);\n",
       "          const docLink = document.createElement('div');\n",
       "          docLink.innerHTML = docLinkHtml;\n",
       "          element.appendChild(docLink);\n",
       "        }\n",
       "      </script>\n",
       "    </div>\n",
       "  </div>\n",
       "  "
      ],
      "text/plain": [
       "    AU   CA    FR     DE   JP    UK   US\n",
       "0  0.0  0.0 -29.5  100.0  0.0 -70.5  0.0"
      ]
     },
     "execution_count": 26,
     "metadata": {},
     "output_type": "execute_result"
    }
   ],
   "source": [
    "# Germany will outperform other European Equities (i.e. FR and UK) by 5%\n",
    "q = pd.Series([.05])\n",
    "\n",
    "# Start with a single view, all zeors and overwrite the specific view\n",
    "p = pd.DataFrame([0.]*len(countries),index=countries).T\n",
    "\n",
    "# find the relative market caps of FR and UK to split the relative outperformance of DE\n",
    "w_fr = w_eq.loc['FR']/(w_eq.loc['FR']+w_eq.loc['UK'])\n",
    "w_uk = w_eq.loc['UK']/(w_eq.loc['FR']+w_eq.loc['UK'])\n",
    "p.iloc[0]['DE']= 1.0\n",
    "p.iloc[0]['FR']= -w_fr\n",
    "p.iloc[0]['UK']= -w_uk\n",
    "(p*100).round(1)"
   ]
  },
  {
   "cell_type": "code",
   "execution_count": 27,
   "id": "1cac95c4",
   "metadata": {
    "executionInfo": {
     "elapsed": 6,
     "status": "ok",
     "timestamp": 1649186859023,
     "user": {
      "displayName": "Yi-Siou Feng",
      "userId": "04750312349484942434"
     },
     "user_tz": 240
    },
    "id": "1cac95c4"
   },
   "outputs": [],
   "source": [
    "table3 = pd.DataFrame(index=pi.index)\n",
    "table3['p']=p.T.round(3)*100"
   ]
  },
  {
   "cell_type": "code",
   "execution_count": 28,
   "id": "44e2026a",
   "metadata": {
    "colab": {
     "base_uri": "https://localhost:8080/"
    },
    "executionInfo": {
     "elapsed": 6,
     "status": "ok",
     "timestamp": 1649186859023,
     "user": {
      "displayName": "Yi-Siou Feng",
      "userId": "04750312349484942434"
     },
     "user_tz": 240
    },
    "id": "44e2026a",
    "outputId": "ed634290-09bd-4ece-c82f-320924a4e2e7"
   },
   "outputs": [
    {
     "name": "stdout",
     "output_type": "stream",
     "text": [
      "AU     4.3\n",
      "CA     7.6\n",
      "FR     9.3\n",
      "DE    11.0\n",
      "JP     4.5\n",
      "UK     7.0\n",
      "US     8.1\n",
      "dtype: float64\n"
     ]
    }
   ],
   "source": [
    "# Figure out u_bl:\n",
    "delta = 2.5\n",
    "tau = 0.05\n",
    "\n",
    "bl_mu, bl_sigma = bl(w_eq, sigma_prior,p,q,tau=tau)\n",
    "print((bl_mu*100).round(1))\n",
    "table3['u_bar']=(bl_mu*100).round(1)"
   ]
  },
  {
   "cell_type": "code",
   "execution_count": 29,
   "id": "6df656b0",
   "metadata": {
    "colab": {
     "base_uri": "https://localhost:8080/"
    },
    "executionInfo": {
     "elapsed": 7,
     "status": "ok",
     "timestamp": 1649186859025,
     "user": {
      "displayName": "Yi-Siou Feng",
      "userId": "04750312349484942434"
     },
     "user_tz": 240
    },
    "id": "6df656b0",
    "outputId": "9a266e1a-0d8c-41bd-f5bb-28e50471fcb0"
   },
   "outputs": [
    {
     "name": "stdout",
     "output_type": "stream",
     "text": [
      "AU     1.5\n",
      "CA     2.1\n",
      "FR    -4.0\n",
      "DE    35.4\n",
      "JP    11.0\n",
      "UK    -9.5\n",
      "US    58.6\n",
      "dtype: float64\n"
     ]
    }
   ],
   "source": [
    "# Coumpute the optimal portfolio weights\n",
    "def w_star(delta, sigma, mu):\n",
    "    return(inverse(sigma).dot(mu))/delta\n",
    "\n",
    "wstar = w_star(delta=2.5, sigma=bl_sigma, mu=bl_mu)\n",
    "print((wstar*100).round(1))\n",
    "table3['w*']=(wstar*100).round(1)"
   ]
  },
  {
   "cell_type": "markdown",
   "id": "fda4cbf4",
   "metadata": {
    "id": "fda4cbf4"
   },
   "source": [
    "Show the difference between the optimal portfolio and the equilibrium portfolio"
   ]
  },
  {
   "cell_type": "code",
   "execution_count": 30,
   "id": "743b3945",
   "metadata": {
    "colab": {
     "base_uri": "https://localhost:8080/"
    },
    "executionInfo": {
     "elapsed": 7,
     "status": "ok",
     "timestamp": 1649186859025,
     "user": {
      "displayName": "Yi-Siou Feng",
      "userId": "04750312349484942434"
     },
     "user_tz": 240
    },
    "id": "743b3945",
    "outputId": "6cf08369-1149-470e-dbba-713dffd51380",
    "scrolled": false
   },
   "outputs": [
    {
     "name": "stdout",
     "output_type": "stream",
     "text": [
      "AU     0.0\n",
      "CA    -0.0\n",
      "FR    -8.9\n",
      "DE    30.2\n",
      "JP    -0.0\n",
      "UK   -21.3\n",
      "US    -0.0\n",
      "dtype: float64\n"
     ]
    }
   ],
   "source": [
    "w_eq = w_msr(delta*sigma_prior, pi, scale=False)\n",
    "\n",
    "# Display the difference in posterior and prior weights\n",
    "print(np.round(wstar-w_eq/(1+tau),3)*100)\n",
    "table3['w*-w_eq/(1+r)']=np.round(wstar-w_eq/(1+tau),3)*100"
   ]
  },
  {
   "cell_type": "code",
   "execution_count": 31,
   "id": "be4bc218",
   "metadata": {
    "colab": {
     "base_uri": "https://localhost:8080/",
     "height": 269
    },
    "executionInfo": {
     "elapsed": 203,
     "status": "ok",
     "timestamp": 1649186859221,
     "user": {
      "displayName": "Yi-Siou Feng",
      "userId": "04750312349484942434"
     },
     "user_tz": 240
    },
    "id": "be4bc218",
    "outputId": "f840f42b-ef81-46ca-dcf9-7d629edfcbea"
   },
   "outputs": [
    {
     "data": {
      "text/html": [
       "\n",
       "  <div id=\"df-f33d858b-6d89-4bf2-81ea-dd1f07960b7b\">\n",
       "    <div class=\"colab-df-container\">\n",
       "      <div>\n",
       "<style scoped>\n",
       "    .dataframe tbody tr th:only-of-type {\n",
       "        vertical-align: middle;\n",
       "    }\n",
       "\n",
       "    .dataframe tbody tr th {\n",
       "        vertical-align: top;\n",
       "    }\n",
       "\n",
       "    .dataframe thead th {\n",
       "        text-align: right;\n",
       "    }\n",
       "</style>\n",
       "<table border=\"1\" class=\"dataframe\">\n",
       "  <thead>\n",
       "    <tr style=\"text-align: right;\">\n",
       "      <th></th>\n",
       "      <th>p</th>\n",
       "      <th>u_bar</th>\n",
       "      <th>w*</th>\n",
       "      <th>w*-w_eq/(1+r)</th>\n",
       "    </tr>\n",
       "  </thead>\n",
       "  <tbody>\n",
       "    <tr>\n",
       "      <th>AU</th>\n",
       "      <td>0.0</td>\n",
       "      <td>4.3</td>\n",
       "      <td>1.5</td>\n",
       "      <td>0.0</td>\n",
       "    </tr>\n",
       "    <tr>\n",
       "      <th>CA</th>\n",
       "      <td>0.0</td>\n",
       "      <td>7.6</td>\n",
       "      <td>2.1</td>\n",
       "      <td>-0.0</td>\n",
       "    </tr>\n",
       "    <tr>\n",
       "      <th>FR</th>\n",
       "      <td>-29.5</td>\n",
       "      <td>9.3</td>\n",
       "      <td>-4.0</td>\n",
       "      <td>-8.9</td>\n",
       "    </tr>\n",
       "    <tr>\n",
       "      <th>DE</th>\n",
       "      <td>100.0</td>\n",
       "      <td>11.0</td>\n",
       "      <td>35.4</td>\n",
       "      <td>30.2</td>\n",
       "    </tr>\n",
       "    <tr>\n",
       "      <th>JP</th>\n",
       "      <td>0.0</td>\n",
       "      <td>4.5</td>\n",
       "      <td>11.0</td>\n",
       "      <td>-0.0</td>\n",
       "    </tr>\n",
       "    <tr>\n",
       "      <th>UK</th>\n",
       "      <td>-70.5</td>\n",
       "      <td>7.0</td>\n",
       "      <td>-9.5</td>\n",
       "      <td>-21.3</td>\n",
       "    </tr>\n",
       "    <tr>\n",
       "      <th>US</th>\n",
       "      <td>0.0</td>\n",
       "      <td>8.1</td>\n",
       "      <td>58.6</td>\n",
       "      <td>-0.0</td>\n",
       "    </tr>\n",
       "  </tbody>\n",
       "</table>\n",
       "</div>\n",
       "      <button class=\"colab-df-convert\" onclick=\"convertToInteractive('df-f33d858b-6d89-4bf2-81ea-dd1f07960b7b')\"\n",
       "              title=\"Convert this dataframe to an interactive table.\"\n",
       "              style=\"display:none;\">\n",
       "        \n",
       "  <svg xmlns=\"http://www.w3.org/2000/svg\" height=\"24px\"viewBox=\"0 0 24 24\"\n",
       "       width=\"24px\">\n",
       "    <path d=\"M0 0h24v24H0V0z\" fill=\"none\"/>\n",
       "    <path d=\"M18.56 5.44l.94 2.06.94-2.06 2.06-.94-2.06-.94-.94-2.06-.94 2.06-2.06.94zm-11 1L8.5 8.5l.94-2.06 2.06-.94-2.06-.94L8.5 2.5l-.94 2.06-2.06.94zm10 10l.94 2.06.94-2.06 2.06-.94-2.06-.94-.94-2.06-.94 2.06-2.06.94z\"/><path d=\"M17.41 7.96l-1.37-1.37c-.4-.4-.92-.59-1.43-.59-.52 0-1.04.2-1.43.59L10.3 9.45l-7.72 7.72c-.78.78-.78 2.05 0 2.83L4 21.41c.39.39.9.59 1.41.59.51 0 1.02-.2 1.41-.59l7.78-7.78 2.81-2.81c.8-.78.8-2.07 0-2.86zM5.41 20L4 18.59l7.72-7.72 1.47 1.35L5.41 20z\"/>\n",
       "  </svg>\n",
       "      </button>\n",
       "      \n",
       "  <style>\n",
       "    .colab-df-container {\n",
       "      display:flex;\n",
       "      flex-wrap:wrap;\n",
       "      gap: 12px;\n",
       "    }\n",
       "\n",
       "    .colab-df-convert {\n",
       "      background-color: #E8F0FE;\n",
       "      border: none;\n",
       "      border-radius: 50%;\n",
       "      cursor: pointer;\n",
       "      display: none;\n",
       "      fill: #1967D2;\n",
       "      height: 32px;\n",
       "      padding: 0 0 0 0;\n",
       "      width: 32px;\n",
       "    }\n",
       "\n",
       "    .colab-df-convert:hover {\n",
       "      background-color: #E2EBFA;\n",
       "      box-shadow: 0px 1px 2px rgba(60, 64, 67, 0.3), 0px 1px 3px 1px rgba(60, 64, 67, 0.15);\n",
       "      fill: #174EA6;\n",
       "    }\n",
       "\n",
       "    [theme=dark] .colab-df-convert {\n",
       "      background-color: #3B4455;\n",
       "      fill: #D2E3FC;\n",
       "    }\n",
       "\n",
       "    [theme=dark] .colab-df-convert:hover {\n",
       "      background-color: #434B5C;\n",
       "      box-shadow: 0px 1px 3px 1px rgba(0, 0, 0, 0.15);\n",
       "      filter: drop-shadow(0px 1px 2px rgba(0, 0, 0, 0.3));\n",
       "      fill: #FFFFFF;\n",
       "    }\n",
       "  </style>\n",
       "\n",
       "      <script>\n",
       "        const buttonEl =\n",
       "          document.querySelector('#df-f33d858b-6d89-4bf2-81ea-dd1f07960b7b button.colab-df-convert');\n",
       "        buttonEl.style.display =\n",
       "          google.colab.kernel.accessAllowed ? 'block' : 'none';\n",
       "\n",
       "        async function convertToInteractive(key) {\n",
       "          const element = document.querySelector('#df-f33d858b-6d89-4bf2-81ea-dd1f07960b7b');\n",
       "          const dataTable =\n",
       "            await google.colab.kernel.invokeFunction('convertToInteractive',\n",
       "                                                     [key], {});\n",
       "          if (!dataTable) return;\n",
       "\n",
       "          const docLinkHtml = 'Like what you see? Visit the ' +\n",
       "            '<a target=\"_blank\" href=https://colab.research.google.com/notebooks/data_table.ipynb>data table notebook</a>'\n",
       "            + ' to learn more about interactive tables.';\n",
       "          element.innerHTML = '';\n",
       "          dataTable['output_type'] = 'display_data';\n",
       "          await google.colab.output.renderOutput(dataTable, element);\n",
       "          const docLink = document.createElement('div');\n",
       "          docLink.innerHTML = docLinkHtml;\n",
       "          element.appendChild(docLink);\n",
       "        }\n",
       "      </script>\n",
       "    </div>\n",
       "  </div>\n",
       "  "
      ],
      "text/plain": [
       "        p  u_bar    w*  w*-w_eq/(1+r)\n",
       "AU    0.0    4.3   1.5            0.0\n",
       "CA    0.0    7.6   2.1           -0.0\n",
       "FR  -29.5    9.3  -4.0           -8.9\n",
       "DE  100.0   11.0  35.4           30.2\n",
       "JP    0.0    4.5  11.0           -0.0\n",
       "UK  -70.5    7.0  -9.5          -21.3\n",
       "US    0.0    8.1  58.6           -0.0"
      ]
     },
     "execution_count": 31,
     "metadata": {},
     "output_type": "execute_result"
    }
   ],
   "source": [
    "table3"
   ]
  },
  {
   "cell_type": "markdown",
   "id": "c11bcf26",
   "metadata": {
    "id": "c11bcf26"
   },
   "source": [
    "we can tell that those weights for assets that do not involve the view remain unchanged.  \n",
    "\n",
    "The two underperforming countires (according to the view) are underweighted,   \n",
    "while the overperforming country is overweighted."
   ]
  },
  {
   "cell_type": "markdown",
   "id": "83d9e62e",
   "metadata": {
    "id": "83d9e62e"
   },
   "source": [
    "![Ex4.jpeg](attachment:Ex4.jpeg)"
   ]
  },
  {
   "cell_type": "markdown",
   "id": "5fd41b1e",
   "metadata": {
    "id": "5fd41b1e"
   },
   "source": [
    "## View 2: Canada vs US\n",
    "\n",
    "For second case, He and Litterman implement the additional view that  \n",
    "<font color=#0000FF>Canadian Equities will outperform US Equities by 3%"
   ]
  },
  {
   "cell_type": "code",
   "execution_count": 32,
   "id": "ab0d2947",
   "metadata": {
    "executionInfo": {
     "elapsed": 9,
     "status": "ok",
     "timestamp": 1649186859224,
     "user": {
      "displayName": "Yi-Siou Feng",
      "userId": "04750312349484942434"
     },
     "user_tz": 240
    },
    "id": "ab0d2947"
   },
   "outputs": [],
   "source": [
    "table5=pd.DataFrame(index=countries)"
   ]
  },
  {
   "cell_type": "code",
   "execution_count": 33,
   "id": "00c505c1",
   "metadata": {
    "colab": {
     "base_uri": "https://localhost:8080/",
     "height": 269
    },
    "executionInfo": {
     "elapsed": 8,
     "status": "ok",
     "timestamp": 1649186859224,
     "user": {
      "displayName": "Yi-Siou Feng",
      "userId": "04750312349484942434"
     },
     "user_tz": 240
    },
    "id": "00c505c1",
    "outputId": "8d4bef05-25d3-4d40-9a98-9560b5a2c4bb",
    "scrolled": true
   },
   "outputs": [
    {
     "data": {
      "text/html": [
       "\n",
       "  <div id=\"df-9c801318-80e4-4285-af0c-c855a1022bf0\">\n",
       "    <div class=\"colab-df-container\">\n",
       "      <div>\n",
       "<style scoped>\n",
       "    .dataframe tbody tr th:only-of-type {\n",
       "        vertical-align: middle;\n",
       "    }\n",
       "\n",
       "    .dataframe tbody tr th {\n",
       "        vertical-align: top;\n",
       "    }\n",
       "\n",
       "    .dataframe thead th {\n",
       "        text-align: right;\n",
       "    }\n",
       "</style>\n",
       "<table border=\"1\" class=\"dataframe\">\n",
       "  <thead>\n",
       "    <tr style=\"text-align: right;\">\n",
       "      <th></th>\n",
       "      <th>0</th>\n",
       "      <th>1</th>\n",
       "    </tr>\n",
       "  </thead>\n",
       "  <tbody>\n",
       "    <tr>\n",
       "      <th>AU</th>\n",
       "      <td>0.0</td>\n",
       "      <td>0.0</td>\n",
       "    </tr>\n",
       "    <tr>\n",
       "      <th>CA</th>\n",
       "      <td>0.0</td>\n",
       "      <td>100.0</td>\n",
       "    </tr>\n",
       "    <tr>\n",
       "      <th>FR</th>\n",
       "      <td>-29.5</td>\n",
       "      <td>0.0</td>\n",
       "    </tr>\n",
       "    <tr>\n",
       "      <th>DE</th>\n",
       "      <td>100.0</td>\n",
       "      <td>0.0</td>\n",
       "    </tr>\n",
       "    <tr>\n",
       "      <th>JP</th>\n",
       "      <td>0.0</td>\n",
       "      <td>0.0</td>\n",
       "    </tr>\n",
       "    <tr>\n",
       "      <th>UK</th>\n",
       "      <td>-70.5</td>\n",
       "      <td>0.0</td>\n",
       "    </tr>\n",
       "    <tr>\n",
       "      <th>US</th>\n",
       "      <td>0.0</td>\n",
       "      <td>-100.0</td>\n",
       "    </tr>\n",
       "  </tbody>\n",
       "</table>\n",
       "</div>\n",
       "      <button class=\"colab-df-convert\" onclick=\"convertToInteractive('df-9c801318-80e4-4285-af0c-c855a1022bf0')\"\n",
       "              title=\"Convert this dataframe to an interactive table.\"\n",
       "              style=\"display:none;\">\n",
       "        \n",
       "  <svg xmlns=\"http://www.w3.org/2000/svg\" height=\"24px\"viewBox=\"0 0 24 24\"\n",
       "       width=\"24px\">\n",
       "    <path d=\"M0 0h24v24H0V0z\" fill=\"none\"/>\n",
       "    <path d=\"M18.56 5.44l.94 2.06.94-2.06 2.06-.94-2.06-.94-.94-2.06-.94 2.06-2.06.94zm-11 1L8.5 8.5l.94-2.06 2.06-.94-2.06-.94L8.5 2.5l-.94 2.06-2.06.94zm10 10l.94 2.06.94-2.06 2.06-.94-2.06-.94-.94-2.06-.94 2.06-2.06.94z\"/><path d=\"M17.41 7.96l-1.37-1.37c-.4-.4-.92-.59-1.43-.59-.52 0-1.04.2-1.43.59L10.3 9.45l-7.72 7.72c-.78.78-.78 2.05 0 2.83L4 21.41c.39.39.9.59 1.41.59.51 0 1.02-.2 1.41-.59l7.78-7.78 2.81-2.81c.8-.78.8-2.07 0-2.86zM5.41 20L4 18.59l7.72-7.72 1.47 1.35L5.41 20z\"/>\n",
       "  </svg>\n",
       "      </button>\n",
       "      \n",
       "  <style>\n",
       "    .colab-df-container {\n",
       "      display:flex;\n",
       "      flex-wrap:wrap;\n",
       "      gap: 12px;\n",
       "    }\n",
       "\n",
       "    .colab-df-convert {\n",
       "      background-color: #E8F0FE;\n",
       "      border: none;\n",
       "      border-radius: 50%;\n",
       "      cursor: pointer;\n",
       "      display: none;\n",
       "      fill: #1967D2;\n",
       "      height: 32px;\n",
       "      padding: 0 0 0 0;\n",
       "      width: 32px;\n",
       "    }\n",
       "\n",
       "    .colab-df-convert:hover {\n",
       "      background-color: #E2EBFA;\n",
       "      box-shadow: 0px 1px 2px rgba(60, 64, 67, 0.3), 0px 1px 3px 1px rgba(60, 64, 67, 0.15);\n",
       "      fill: #174EA6;\n",
       "    }\n",
       "\n",
       "    [theme=dark] .colab-df-convert {\n",
       "      background-color: #3B4455;\n",
       "      fill: #D2E3FC;\n",
       "    }\n",
       "\n",
       "    [theme=dark] .colab-df-convert:hover {\n",
       "      background-color: #434B5C;\n",
       "      box-shadow: 0px 1px 3px 1px rgba(0, 0, 0, 0.15);\n",
       "      filter: drop-shadow(0px 1px 2px rgba(0, 0, 0, 0.3));\n",
       "      fill: #FFFFFF;\n",
       "    }\n",
       "  </style>\n",
       "\n",
       "      <script>\n",
       "        const buttonEl =\n",
       "          document.querySelector('#df-9c801318-80e4-4285-af0c-c855a1022bf0 button.colab-df-convert');\n",
       "        buttonEl.style.display =\n",
       "          google.colab.kernel.accessAllowed ? 'block' : 'none';\n",
       "\n",
       "        async function convertToInteractive(key) {\n",
       "          const element = document.querySelector('#df-9c801318-80e4-4285-af0c-c855a1022bf0');\n",
       "          const dataTable =\n",
       "            await google.colab.kernel.invokeFunction('convertToInteractive',\n",
       "                                                     [key], {});\n",
       "          if (!dataTable) return;\n",
       "\n",
       "          const docLinkHtml = 'Like what you see? Visit the ' +\n",
       "            '<a target=\"_blank\" href=https://colab.research.google.com/notebooks/data_table.ipynb>data table notebook</a>'\n",
       "            + ' to learn more about interactive tables.';\n",
       "          element.innerHTML = '';\n",
       "          dataTable['output_type'] = 'display_data';\n",
       "          await google.colab.output.renderOutput(dataTable, element);\n",
       "          const docLink = document.createElement('div');\n",
       "          docLink.innerHTML = docLinkHtml;\n",
       "          element.appendChild(docLink);\n",
       "        }\n",
       "      </script>\n",
       "    </div>\n",
       "  </div>\n",
       "  "
      ],
      "text/plain": [
       "        0      1\n",
       "AU    0.0    0.0\n",
       "CA    0.0  100.0\n",
       "FR  -29.5    0.0\n",
       "DE  100.0    0.0\n",
       "JP    0.0    0.0\n",
       "UK  -70.5    0.0\n",
       "US    0.0 -100.0"
      ]
     },
     "execution_count": 33,
     "metadata": {},
     "output_type": "execute_result"
    }
   ],
   "source": [
    "view2 = pd.Series([.03], index=[1])\n",
    "q = q.append(view2)\n",
    "pick2 = pd.DataFrame([0.0]*len(countries), index=countries, columns=[1]).T\n",
    "p = p.append(pick2)\n",
    "p.iloc[1]['CA']=+1\n",
    "p.iloc[1]['US']=-1\n",
    "np.round(p.T,3)*100"
   ]
  },
  {
   "cell_type": "code",
   "execution_count": 34,
   "id": "a4d3662c",
   "metadata": {
    "executionInfo": {
     "elapsed": 181,
     "status": "ok",
     "timestamp": 1649186859398,
     "user": {
      "displayName": "Yi-Siou Feng",
      "userId": "04750312349484942434"
     },
     "user_tz": 240
    },
    "id": "a4d3662c"
   },
   "outputs": [],
   "source": [
    "table5['P']=p.iloc[0].round(3)*100\n",
    "table5['Confidence Level']=p.iloc[1]*100"
   ]
  },
  {
   "cell_type": "code",
   "execution_count": 35,
   "id": "efab637f",
   "metadata": {
    "colab": {
     "base_uri": "https://localhost:8080/"
    },
    "executionInfo": {
     "elapsed": 5,
     "status": "ok",
     "timestamp": 1649186859399,
     "user": {
      "displayName": "Yi-Siou Feng",
      "userId": "04750312349484942434"
     },
     "user_tz": 240
    },
    "id": "efab637f",
    "outputId": "240979eb-65ff-4849-acea-e65fffad9416"
   },
   "outputs": [
    {
     "name": "stdout",
     "output_type": "stream",
     "text": [
      "AU     4.4\n",
      "CA     8.7\n",
      "FR     9.5\n",
      "DE    11.2\n",
      "JP     4.6\n",
      "UK     7.0\n",
      "US     7.5\n",
      "dtype: float64\n"
     ]
    }
   ],
   "source": [
    "# now compute the BL weights\n",
    "bl_mu, bl_sigma = bl(w_eq, sigma_prior, p, q, tau=tau)\n",
    "print(np.round(bl_mu*100, 1))\n",
    "table5['u_bar']=np.round(bl_mu*100, 1)"
   ]
  },
  {
   "cell_type": "code",
   "execution_count": 36,
   "id": "d6f9f838",
   "metadata": {
    "colab": {
     "base_uri": "https://localhost:8080/"
    },
    "executionInfo": {
     "elapsed": 4,
     "status": "ok",
     "timestamp": 1649186859399,
     "user": {
      "displayName": "Yi-Siou Feng",
      "userId": "04750312349484942434"
     },
     "user_tz": 240
    },
    "id": "d6f9f838",
    "outputId": "091cc0d4-680f-41bb-beac-e1bfcdce6485",
    "scrolled": true
   },
   "outputs": [
    {
     "name": "stdout",
     "output_type": "stream",
     "text": [
      "AU     1.5\n",
      "CA    41.8\n",
      "FR    -3.4\n",
      "DE    33.6\n",
      "JP    11.0\n",
      "UK    -8.2\n",
      "US    18.9\n",
      "dtype: float64\n"
     ]
    }
   ],
   "source": [
    "wstar = w_star(delta=2.5, sigma=bl_sigma, mu=bl_mu)\n",
    "# display w*\n",
    "print((wstar*100).round(1))\n",
    "table5['w*']=(wstar*100).round(1)"
   ]
  },
  {
   "cell_type": "code",
   "execution_count": 37,
   "id": "e5735db8",
   "metadata": {
    "colab": {
     "base_uri": "https://localhost:8080/"
    },
    "executionInfo": {
     "elapsed": 3,
     "status": "ok",
     "timestamp": 1649186859399,
     "user": {
      "displayName": "Yi-Siou Feng",
      "userId": "04750312349484942434"
     },
     "user_tz": 240
    },
    "id": "e5735db8",
    "outputId": "34d018a3-19ec-45c1-fd18-c6e80b2122b9",
    "scrolled": true
   },
   "outputs": [
    {
     "name": "stdout",
     "output_type": "stream",
     "text": [
      "AU    -0.0\n",
      "CA    39.7\n",
      "FR    -8.4\n",
      "DE    28.4\n",
      "JP     0.0\n",
      "UK   -20.0\n",
      "US   -39.7\n",
      "dtype: float64\n"
     ]
    }
   ],
   "source": [
    "# Again, show the difference in posterior and prior weights\n",
    "w_eq = w_msr(delta*sigma_prior, pi, scale=False)\n",
    "print(np.round(wstar-w_eq/(1+tau), 3)*100)\n",
    "table5['w*-w_eq/(1+r)']=np.round(wstar-w_eq/(1+tau), 3)*100"
   ]
  },
  {
   "cell_type": "code",
   "execution_count": 38,
   "id": "1b7e0711",
   "metadata": {
    "colab": {
     "base_uri": "https://localhost:8080/",
     "height": 269
    },
    "executionInfo": {
     "elapsed": 235,
     "status": "ok",
     "timestamp": 1649186859631,
     "user": {
      "displayName": "Yi-Siou Feng",
      "userId": "04750312349484942434"
     },
     "user_tz": 240
    },
    "id": "1b7e0711",
    "outputId": "14ca7689-26a0-4290-c7b2-b056732f2039"
   },
   "outputs": [
    {
     "data": {
      "text/html": [
       "\n",
       "  <div id=\"df-25a5efe3-1244-4eff-af77-2745a0f70d27\">\n",
       "    <div class=\"colab-df-container\">\n",
       "      <div>\n",
       "<style scoped>\n",
       "    .dataframe tbody tr th:only-of-type {\n",
       "        vertical-align: middle;\n",
       "    }\n",
       "\n",
       "    .dataframe tbody tr th {\n",
       "        vertical-align: top;\n",
       "    }\n",
       "\n",
       "    .dataframe thead th {\n",
       "        text-align: right;\n",
       "    }\n",
       "</style>\n",
       "<table border=\"1\" class=\"dataframe\">\n",
       "  <thead>\n",
       "    <tr style=\"text-align: right;\">\n",
       "      <th></th>\n",
       "      <th>P</th>\n",
       "      <th>Confidence Level</th>\n",
       "      <th>u_bar</th>\n",
       "      <th>w*</th>\n",
       "      <th>w*-w_eq/(1+r)</th>\n",
       "    </tr>\n",
       "  </thead>\n",
       "  <tbody>\n",
       "    <tr>\n",
       "      <th>AU</th>\n",
       "      <td>0.0</td>\n",
       "      <td>0.0</td>\n",
       "      <td>4.4</td>\n",
       "      <td>1.5</td>\n",
       "      <td>-0.0</td>\n",
       "    </tr>\n",
       "    <tr>\n",
       "      <th>CA</th>\n",
       "      <td>0.0</td>\n",
       "      <td>100.0</td>\n",
       "      <td>8.7</td>\n",
       "      <td>41.8</td>\n",
       "      <td>39.7</td>\n",
       "    </tr>\n",
       "    <tr>\n",
       "      <th>FR</th>\n",
       "      <td>-29.5</td>\n",
       "      <td>0.0</td>\n",
       "      <td>9.5</td>\n",
       "      <td>-3.4</td>\n",
       "      <td>-8.4</td>\n",
       "    </tr>\n",
       "    <tr>\n",
       "      <th>DE</th>\n",
       "      <td>100.0</td>\n",
       "      <td>0.0</td>\n",
       "      <td>11.2</td>\n",
       "      <td>33.6</td>\n",
       "      <td>28.4</td>\n",
       "    </tr>\n",
       "    <tr>\n",
       "      <th>JP</th>\n",
       "      <td>0.0</td>\n",
       "      <td>0.0</td>\n",
       "      <td>4.6</td>\n",
       "      <td>11.0</td>\n",
       "      <td>0.0</td>\n",
       "    </tr>\n",
       "    <tr>\n",
       "      <th>UK</th>\n",
       "      <td>-70.5</td>\n",
       "      <td>0.0</td>\n",
       "      <td>7.0</td>\n",
       "      <td>-8.2</td>\n",
       "      <td>-20.0</td>\n",
       "    </tr>\n",
       "    <tr>\n",
       "      <th>US</th>\n",
       "      <td>0.0</td>\n",
       "      <td>-100.0</td>\n",
       "      <td>7.5</td>\n",
       "      <td>18.9</td>\n",
       "      <td>-39.7</td>\n",
       "    </tr>\n",
       "  </tbody>\n",
       "</table>\n",
       "</div>\n",
       "      <button class=\"colab-df-convert\" onclick=\"convertToInteractive('df-25a5efe3-1244-4eff-af77-2745a0f70d27')\"\n",
       "              title=\"Convert this dataframe to an interactive table.\"\n",
       "              style=\"display:none;\">\n",
       "        \n",
       "  <svg xmlns=\"http://www.w3.org/2000/svg\" height=\"24px\"viewBox=\"0 0 24 24\"\n",
       "       width=\"24px\">\n",
       "    <path d=\"M0 0h24v24H0V0z\" fill=\"none\"/>\n",
       "    <path d=\"M18.56 5.44l.94 2.06.94-2.06 2.06-.94-2.06-.94-.94-2.06-.94 2.06-2.06.94zm-11 1L8.5 8.5l.94-2.06 2.06-.94-2.06-.94L8.5 2.5l-.94 2.06-2.06.94zm10 10l.94 2.06.94-2.06 2.06-.94-2.06-.94-.94-2.06-.94 2.06-2.06.94z\"/><path d=\"M17.41 7.96l-1.37-1.37c-.4-.4-.92-.59-1.43-.59-.52 0-1.04.2-1.43.59L10.3 9.45l-7.72 7.72c-.78.78-.78 2.05 0 2.83L4 21.41c.39.39.9.59 1.41.59.51 0 1.02-.2 1.41-.59l7.78-7.78 2.81-2.81c.8-.78.8-2.07 0-2.86zM5.41 20L4 18.59l7.72-7.72 1.47 1.35L5.41 20z\"/>\n",
       "  </svg>\n",
       "      </button>\n",
       "      \n",
       "  <style>\n",
       "    .colab-df-container {\n",
       "      display:flex;\n",
       "      flex-wrap:wrap;\n",
       "      gap: 12px;\n",
       "    }\n",
       "\n",
       "    .colab-df-convert {\n",
       "      background-color: #E8F0FE;\n",
       "      border: none;\n",
       "      border-radius: 50%;\n",
       "      cursor: pointer;\n",
       "      display: none;\n",
       "      fill: #1967D2;\n",
       "      height: 32px;\n",
       "      padding: 0 0 0 0;\n",
       "      width: 32px;\n",
       "    }\n",
       "\n",
       "    .colab-df-convert:hover {\n",
       "      background-color: #E2EBFA;\n",
       "      box-shadow: 0px 1px 2px rgba(60, 64, 67, 0.3), 0px 1px 3px 1px rgba(60, 64, 67, 0.15);\n",
       "      fill: #174EA6;\n",
       "    }\n",
       "\n",
       "    [theme=dark] .colab-df-convert {\n",
       "      background-color: #3B4455;\n",
       "      fill: #D2E3FC;\n",
       "    }\n",
       "\n",
       "    [theme=dark] .colab-df-convert:hover {\n",
       "      background-color: #434B5C;\n",
       "      box-shadow: 0px 1px 3px 1px rgba(0, 0, 0, 0.15);\n",
       "      filter: drop-shadow(0px 1px 2px rgba(0, 0, 0, 0.3));\n",
       "      fill: #FFFFFF;\n",
       "    }\n",
       "  </style>\n",
       "\n",
       "      <script>\n",
       "        const buttonEl =\n",
       "          document.querySelector('#df-25a5efe3-1244-4eff-af77-2745a0f70d27 button.colab-df-convert');\n",
       "        buttonEl.style.display =\n",
       "          google.colab.kernel.accessAllowed ? 'block' : 'none';\n",
       "\n",
       "        async function convertToInteractive(key) {\n",
       "          const element = document.querySelector('#df-25a5efe3-1244-4eff-af77-2745a0f70d27');\n",
       "          const dataTable =\n",
       "            await google.colab.kernel.invokeFunction('convertToInteractive',\n",
       "                                                     [key], {});\n",
       "          if (!dataTable) return;\n",
       "\n",
       "          const docLinkHtml = 'Like what you see? Visit the ' +\n",
       "            '<a target=\"_blank\" href=https://colab.research.google.com/notebooks/data_table.ipynb>data table notebook</a>'\n",
       "            + ' to learn more about interactive tables.';\n",
       "          element.innerHTML = '';\n",
       "          dataTable['output_type'] = 'display_data';\n",
       "          await google.colab.output.renderOutput(dataTable, element);\n",
       "          const docLink = document.createElement('div');\n",
       "          docLink.innerHTML = docLinkHtml;\n",
       "          element.appendChild(docLink);\n",
       "        }\n",
       "      </script>\n",
       "    </div>\n",
       "  </div>\n",
       "  "
      ],
      "text/plain": [
       "        P  Confidence Level  u_bar    w*  w*-w_eq/(1+r)\n",
       "AU    0.0               0.0    4.4   1.5           -0.0\n",
       "CA    0.0             100.0    8.7  41.8           39.7\n",
       "FR  -29.5               0.0    9.5  -3.4           -8.4\n",
       "DE  100.0               0.0   11.2  33.6           28.4\n",
       "JP    0.0               0.0    4.6  11.0            0.0\n",
       "UK  -70.5               0.0    7.0  -8.2          -20.0\n",
       "US    0.0            -100.0    7.5  18.9          -39.7"
      ]
     },
     "execution_count": 38,
     "metadata": {},
     "output_type": "execute_result"
    }
   ],
   "source": [
    "table5"
   ]
  },
  {
   "cell_type": "markdown",
   "id": "d74f7c3a",
   "metadata": {
    "id": "d74f7c3a"
   },
   "source": [
    "Once again, the weights for assets that do not involve the view(AU,JP) remain unchanged.  \n",
    "The two underperforming countries(FR, UK, US, according to the view) are underweighted,    \n",
    "while the overperforming countries(CA, DE) are overweighted,    \n",
    "but not to the extreme extent that a naive porfolio optimizer would have produced."
   ]
  },
  {
   "cell_type": "markdown",
   "id": "b3c3a14d",
   "metadata": {
    "id": "b3c3a14d"
   },
   "source": [
    "![Ex5.jpeg](attachment:Ex5.jpeg)"
   ]
  },
  {
   "cell_type": "markdown",
   "id": "88eb5441",
   "metadata": {
    "id": "88eb5441"
   },
   "source": [
    "## View 3: More Bullish Canada vs US\n",
    "\n",
    "For their third case, He and Litterman alter the second view that Canadian Equities will outperform US Equities by increasing the expected outperformance from the previously stated 3% to 4%.  "
   ]
  },
  {
   "cell_type": "code",
   "execution_count": 39,
   "id": "6fb40fa9",
   "metadata": {
    "colab": {
     "base_uri": "https://localhost:8080/"
    },
    "executionInfo": {
     "elapsed": 7,
     "status": "ok",
     "timestamp": 1649186859632,
     "user": {
      "displayName": "Yi-Siou Feng",
      "userId": "04750312349484942434"
     },
     "user_tz": 240
    },
    "id": "6fb40fa9",
    "outputId": "a2c6c8d0-d545-4048-e26f-a56e27db0945"
   },
   "outputs": [
    {
     "data": {
      "text/plain": [
       "0    0.05\n",
       "1    0.04\n",
       "dtype: float64"
      ]
     },
     "execution_count": 39,
     "metadata": {},
     "output_type": "execute_result"
    }
   ],
   "source": [
    "q[1]=0.04\n",
    "q"
   ]
  },
  {
   "cell_type": "markdown",
   "id": "d88e1372",
   "metadata": {
    "id": "d88e1372"
   },
   "source": [
    "Note that P remains unchanged since we have only altered Q, not P"
   ]
  },
  {
   "cell_type": "code",
   "execution_count": 40,
   "id": "2c58e97b",
   "metadata": {
    "colab": {
     "base_uri": "https://localhost:8080/",
     "height": 0
    },
    "executionInfo": {
     "elapsed": 6,
     "status": "ok",
     "timestamp": 1649186859632,
     "user": {
      "displayName": "Yi-Siou Feng",
      "userId": "04750312349484942434"
     },
     "user_tz": 240
    },
    "id": "2c58e97b",
    "outputId": "4e546f38-200a-4a2a-819e-d4531be6ed87"
   },
   "outputs": [
    {
     "data": {
      "text/html": [
       "\n",
       "  <div id=\"df-bf4c4df5-f770-4b48-84d3-9d114116e914\">\n",
       "    <div class=\"colab-df-container\">\n",
       "      <div>\n",
       "<style scoped>\n",
       "    .dataframe tbody tr th:only-of-type {\n",
       "        vertical-align: middle;\n",
       "    }\n",
       "\n",
       "    .dataframe tbody tr th {\n",
       "        vertical-align: top;\n",
       "    }\n",
       "\n",
       "    .dataframe thead th {\n",
       "        text-align: right;\n",
       "    }\n",
       "</style>\n",
       "<table border=\"1\" class=\"dataframe\">\n",
       "  <thead>\n",
       "    <tr style=\"text-align: right;\">\n",
       "      <th></th>\n",
       "      <th>0</th>\n",
       "      <th>1</th>\n",
       "    </tr>\n",
       "  </thead>\n",
       "  <tbody>\n",
       "    <tr>\n",
       "      <th>AU</th>\n",
       "      <td>0.0</td>\n",
       "      <td>0.0</td>\n",
       "    </tr>\n",
       "    <tr>\n",
       "      <th>CA</th>\n",
       "      <td>0.0</td>\n",
       "      <td>100.0</td>\n",
       "    </tr>\n",
       "    <tr>\n",
       "      <th>FR</th>\n",
       "      <td>-29.5</td>\n",
       "      <td>0.0</td>\n",
       "    </tr>\n",
       "    <tr>\n",
       "      <th>DE</th>\n",
       "      <td>100.0</td>\n",
       "      <td>0.0</td>\n",
       "    </tr>\n",
       "    <tr>\n",
       "      <th>JP</th>\n",
       "      <td>0.0</td>\n",
       "      <td>0.0</td>\n",
       "    </tr>\n",
       "    <tr>\n",
       "      <th>UK</th>\n",
       "      <td>-70.5</td>\n",
       "      <td>0.0</td>\n",
       "    </tr>\n",
       "    <tr>\n",
       "      <th>US</th>\n",
       "      <td>0.0</td>\n",
       "      <td>-100.0</td>\n",
       "    </tr>\n",
       "  </tbody>\n",
       "</table>\n",
       "</div>\n",
       "      <button class=\"colab-df-convert\" onclick=\"convertToInteractive('df-bf4c4df5-f770-4b48-84d3-9d114116e914')\"\n",
       "              title=\"Convert this dataframe to an interactive table.\"\n",
       "              style=\"display:none;\">\n",
       "        \n",
       "  <svg xmlns=\"http://www.w3.org/2000/svg\" height=\"24px\"viewBox=\"0 0 24 24\"\n",
       "       width=\"24px\">\n",
       "    <path d=\"M0 0h24v24H0V0z\" fill=\"none\"/>\n",
       "    <path d=\"M18.56 5.44l.94 2.06.94-2.06 2.06-.94-2.06-.94-.94-2.06-.94 2.06-2.06.94zm-11 1L8.5 8.5l.94-2.06 2.06-.94-2.06-.94L8.5 2.5l-.94 2.06-2.06.94zm10 10l.94 2.06.94-2.06 2.06-.94-2.06-.94-.94-2.06-.94 2.06-2.06.94z\"/><path d=\"M17.41 7.96l-1.37-1.37c-.4-.4-.92-.59-1.43-.59-.52 0-1.04.2-1.43.59L10.3 9.45l-7.72 7.72c-.78.78-.78 2.05 0 2.83L4 21.41c.39.39.9.59 1.41.59.51 0 1.02-.2 1.41-.59l7.78-7.78 2.81-2.81c.8-.78.8-2.07 0-2.86zM5.41 20L4 18.59l7.72-7.72 1.47 1.35L5.41 20z\"/>\n",
       "  </svg>\n",
       "      </button>\n",
       "      \n",
       "  <style>\n",
       "    .colab-df-container {\n",
       "      display:flex;\n",
       "      flex-wrap:wrap;\n",
       "      gap: 12px;\n",
       "    }\n",
       "\n",
       "    .colab-df-convert {\n",
       "      background-color: #E8F0FE;\n",
       "      border: none;\n",
       "      border-radius: 50%;\n",
       "      cursor: pointer;\n",
       "      display: none;\n",
       "      fill: #1967D2;\n",
       "      height: 32px;\n",
       "      padding: 0 0 0 0;\n",
       "      width: 32px;\n",
       "    }\n",
       "\n",
       "    .colab-df-convert:hover {\n",
       "      background-color: #E2EBFA;\n",
       "      box-shadow: 0px 1px 2px rgba(60, 64, 67, 0.3), 0px 1px 3px 1px rgba(60, 64, 67, 0.15);\n",
       "      fill: #174EA6;\n",
       "    }\n",
       "\n",
       "    [theme=dark] .colab-df-convert {\n",
       "      background-color: #3B4455;\n",
       "      fill: #D2E3FC;\n",
       "    }\n",
       "\n",
       "    [theme=dark] .colab-df-convert:hover {\n",
       "      background-color: #434B5C;\n",
       "      box-shadow: 0px 1px 3px 1px rgba(0, 0, 0, 0.15);\n",
       "      filter: drop-shadow(0px 1px 2px rgba(0, 0, 0, 0.3));\n",
       "      fill: #FFFFFF;\n",
       "    }\n",
       "  </style>\n",
       "\n",
       "      <script>\n",
       "        const buttonEl =\n",
       "          document.querySelector('#df-bf4c4df5-f770-4b48-84d3-9d114116e914 button.colab-df-convert');\n",
       "        buttonEl.style.display =\n",
       "          google.colab.kernel.accessAllowed ? 'block' : 'none';\n",
       "\n",
       "        async function convertToInteractive(key) {\n",
       "          const element = document.querySelector('#df-bf4c4df5-f770-4b48-84d3-9d114116e914');\n",
       "          const dataTable =\n",
       "            await google.colab.kernel.invokeFunction('convertToInteractive',\n",
       "                                                     [key], {});\n",
       "          if (!dataTable) return;\n",
       "\n",
       "          const docLinkHtml = 'Like what you see? Visit the ' +\n",
       "            '<a target=\"_blank\" href=https://colab.research.google.com/notebooks/data_table.ipynb>data table notebook</a>'\n",
       "            + ' to learn more about interactive tables.';\n",
       "          element.innerHTML = '';\n",
       "          dataTable['output_type'] = 'display_data';\n",
       "          await google.colab.output.renderOutput(dataTable, element);\n",
       "          const docLink = document.createElement('div');\n",
       "          docLink.innerHTML = docLinkHtml;\n",
       "          element.appendChild(docLink);\n",
       "        }\n",
       "      </script>\n",
       "    </div>\n",
       "  </div>\n",
       "  "
      ],
      "text/plain": [
       "        0      1\n",
       "AU    0.0    0.0\n",
       "CA    0.0  100.0\n",
       "FR  -29.5    0.0\n",
       "DE  100.0    0.0\n",
       "JP    0.0    0.0\n",
       "UK  -70.5    0.0\n",
       "US    0.0 -100.0"
      ]
     },
     "execution_count": 40,
     "metadata": {},
     "output_type": "execute_result"
    }
   ],
   "source": [
    "np.round(p.T*100,1)"
   ]
  },
  {
   "cell_type": "code",
   "execution_count": 41,
   "id": "ef35256f",
   "metadata": {
    "colab": {
     "base_uri": "https://localhost:8080/"
    },
    "executionInfo": {
     "elapsed": 190,
     "status": "ok",
     "timestamp": 1649186859816,
     "user": {
      "displayName": "Yi-Siou Feng",
      "userId": "04750312349484942434"
     },
     "user_tz": 240
    },
    "id": "ef35256f",
    "outputId": "1e79803a-47bd-4e4c-d404-fb28887ddd0a"
   },
   "outputs": [
    {
     "data": {
      "text/plain": [
       "AU     4.4\n",
       "CA     9.1\n",
       "FR     9.5\n",
       "DE    11.3\n",
       "JP     4.6\n",
       "UK     7.0\n",
       "US     7.3\n",
       "dtype: float64"
      ]
     },
     "execution_count": 41,
     "metadata": {},
     "output_type": "execute_result"
    }
   ],
   "source": [
    "# Let examine the black litterman expected returns first\n",
    "bl_mu , bl_sigma = bl(w_eq, sigma_prior, p, q, tau=tau)\n",
    "np.round(bl_mu,3)*100"
   ]
  },
  {
   "cell_type": "code",
   "execution_count": 42,
   "id": "967a861f",
   "metadata": {
    "colab": {
     "base_uri": "https://localhost:8080/"
    },
    "executionInfo": {
     "elapsed": 7,
     "status": "ok",
     "timestamp": 1649186859817,
     "user": {
      "displayName": "Yi-Siou Feng",
      "userId": "04750312349484942434"
     },
     "user_tz": 240
    },
    "id": "967a861f",
    "outputId": "1e00d657-8c7e-43d2-876d-deddb26024a6",
    "scrolled": true
   },
   "outputs": [
    {
     "data": {
      "text/plain": [
       "AU     1.5\n",
       "CA    53.3\n",
       "FR    -3.3\n",
       "DE    33.1\n",
       "JP    11.0\n",
       "UK    -7.8\n",
       "US     7.4\n",
       "dtype: float64"
      ]
     },
     "execution_count": 42,
     "metadata": {},
     "output_type": "execute_result"
    }
   ],
   "source": [
    "# We can now compute the Black Litterman weights \n",
    "wstar = w_star(delta=2.5,sigma=bl_sigma, mu=bl_mu)\n",
    "# display w*\n",
    "(wstar*100).round(1)"
   ]
  },
  {
   "cell_type": "markdown",
   "id": "89f94686",
   "metadata": {
    "id": "89f94686"
   },
   "source": [
    "![Ex6.jpeg](attachment:Ex6.jpeg)"
   ]
  },
  {
   "cell_type": "markdown",
   "id": "44973b47",
   "metadata": {
    "id": "44973b47"
   },
   "source": [
    "## View 4: Increasing View Uncertainty\n",
    "\n",
    "As a final step, He and Litterman demonstrate the effect of $\\Omega$.    \n",
    "They increase the uncertainty associated with the first of the two views    \n",
    "(i.e. the one that Germany will outperform the rest of Europe).   \n",
    "First we coumpute the default value of $\\Omega$ and then increase the uncertainty associated with the first view alone."
   ]
  },
  {
   "cell_type": "code",
   "execution_count": 43,
   "id": "b4559f44",
   "metadata": {
    "colab": {
     "base_uri": "https://localhost:8080/",
     "height": 269
    },
    "executionInfo": {
     "elapsed": 6,
     "status": "ok",
     "timestamp": 1649186859817,
     "user": {
      "displayName": "Yi-Siou Feng",
      "userId": "04750312349484942434"
     },
     "user_tz": 240
    },
    "id": "b4559f44",
    "outputId": "87ef8cfb-fb4a-4d51-d2f4-2963a0216eb7"
   },
   "outputs": [
    {
     "data": {
      "text/html": [
       "\n",
       "  <div id=\"df-db60ea81-9f06-45d9-a1b6-ec826238e067\">\n",
       "    <div class=\"colab-df-container\">\n",
       "      <div>\n",
       "<style scoped>\n",
       "    .dataframe tbody tr th:only-of-type {\n",
       "        vertical-align: middle;\n",
       "    }\n",
       "\n",
       "    .dataframe tbody tr th {\n",
       "        vertical-align: top;\n",
       "    }\n",
       "\n",
       "    .dataframe thead th {\n",
       "        text-align: right;\n",
       "    }\n",
       "</style>\n",
       "<table border=\"1\" class=\"dataframe\">\n",
       "  <thead>\n",
       "    <tr style=\"text-align: right;\">\n",
       "      <th></th>\n",
       "      <th>0</th>\n",
       "      <th>1</th>\n",
       "    </tr>\n",
       "  </thead>\n",
       "  <tbody>\n",
       "    <tr>\n",
       "      <th>AU</th>\n",
       "      <td>0.0</td>\n",
       "      <td>0.0</td>\n",
       "    </tr>\n",
       "    <tr>\n",
       "      <th>CA</th>\n",
       "      <td>0.0</td>\n",
       "      <td>100.0</td>\n",
       "    </tr>\n",
       "    <tr>\n",
       "      <th>FR</th>\n",
       "      <td>-29.5</td>\n",
       "      <td>0.0</td>\n",
       "    </tr>\n",
       "    <tr>\n",
       "      <th>DE</th>\n",
       "      <td>100.0</td>\n",
       "      <td>0.0</td>\n",
       "    </tr>\n",
       "    <tr>\n",
       "      <th>JP</th>\n",
       "      <td>0.0</td>\n",
       "      <td>0.0</td>\n",
       "    </tr>\n",
       "    <tr>\n",
       "      <th>UK</th>\n",
       "      <td>-70.5</td>\n",
       "      <td>0.0</td>\n",
       "    </tr>\n",
       "    <tr>\n",
       "      <th>US</th>\n",
       "      <td>0.0</td>\n",
       "      <td>-100.0</td>\n",
       "    </tr>\n",
       "  </tbody>\n",
       "</table>\n",
       "</div>\n",
       "      <button class=\"colab-df-convert\" onclick=\"convertToInteractive('df-db60ea81-9f06-45d9-a1b6-ec826238e067')\"\n",
       "              title=\"Convert this dataframe to an interactive table.\"\n",
       "              style=\"display:none;\">\n",
       "        \n",
       "  <svg xmlns=\"http://www.w3.org/2000/svg\" height=\"24px\"viewBox=\"0 0 24 24\"\n",
       "       width=\"24px\">\n",
       "    <path d=\"M0 0h24v24H0V0z\" fill=\"none\"/>\n",
       "    <path d=\"M18.56 5.44l.94 2.06.94-2.06 2.06-.94-2.06-.94-.94-2.06-.94 2.06-2.06.94zm-11 1L8.5 8.5l.94-2.06 2.06-.94-2.06-.94L8.5 2.5l-.94 2.06-2.06.94zm10 10l.94 2.06.94-2.06 2.06-.94-2.06-.94-.94-2.06-.94 2.06-2.06.94z\"/><path d=\"M17.41 7.96l-1.37-1.37c-.4-.4-.92-.59-1.43-.59-.52 0-1.04.2-1.43.59L10.3 9.45l-7.72 7.72c-.78.78-.78 2.05 0 2.83L4 21.41c.39.39.9.59 1.41.59.51 0 1.02-.2 1.41-.59l7.78-7.78 2.81-2.81c.8-.78.8-2.07 0-2.86zM5.41 20L4 18.59l7.72-7.72 1.47 1.35L5.41 20z\"/>\n",
       "  </svg>\n",
       "      </button>\n",
       "      \n",
       "  <style>\n",
       "    .colab-df-container {\n",
       "      display:flex;\n",
       "      flex-wrap:wrap;\n",
       "      gap: 12px;\n",
       "    }\n",
       "\n",
       "    .colab-df-convert {\n",
       "      background-color: #E8F0FE;\n",
       "      border: none;\n",
       "      border-radius: 50%;\n",
       "      cursor: pointer;\n",
       "      display: none;\n",
       "      fill: #1967D2;\n",
       "      height: 32px;\n",
       "      padding: 0 0 0 0;\n",
       "      width: 32px;\n",
       "    }\n",
       "\n",
       "    .colab-df-convert:hover {\n",
       "      background-color: #E2EBFA;\n",
       "      box-shadow: 0px 1px 2px rgba(60, 64, 67, 0.3), 0px 1px 3px 1px rgba(60, 64, 67, 0.15);\n",
       "      fill: #174EA6;\n",
       "    }\n",
       "\n",
       "    [theme=dark] .colab-df-convert {\n",
       "      background-color: #3B4455;\n",
       "      fill: #D2E3FC;\n",
       "    }\n",
       "\n",
       "    [theme=dark] .colab-df-convert:hover {\n",
       "      background-color: #434B5C;\n",
       "      box-shadow: 0px 1px 3px 1px rgba(0, 0, 0, 0.15);\n",
       "      filter: drop-shadow(0px 1px 2px rgba(0, 0, 0, 0.3));\n",
       "      fill: #FFFFFF;\n",
       "    }\n",
       "  </style>\n",
       "\n",
       "      <script>\n",
       "        const buttonEl =\n",
       "          document.querySelector('#df-db60ea81-9f06-45d9-a1b6-ec826238e067 button.colab-df-convert');\n",
       "        buttonEl.style.display =\n",
       "          google.colab.kernel.accessAllowed ? 'block' : 'none';\n",
       "\n",
       "        async function convertToInteractive(key) {\n",
       "          const element = document.querySelector('#df-db60ea81-9f06-45d9-a1b6-ec826238e067');\n",
       "          const dataTable =\n",
       "            await google.colab.kernel.invokeFunction('convertToInteractive',\n",
       "                                                     [key], {});\n",
       "          if (!dataTable) return;\n",
       "\n",
       "          const docLinkHtml = 'Like what you see? Visit the ' +\n",
       "            '<a target=\"_blank\" href=https://colab.research.google.com/notebooks/data_table.ipynb>data table notebook</a>'\n",
       "            + ' to learn more about interactive tables.';\n",
       "          element.innerHTML = '';\n",
       "          dataTable['output_type'] = 'display_data';\n",
       "          await google.colab.output.renderOutput(dataTable, element);\n",
       "          const docLink = document.createElement('div');\n",
       "          docLink.innerHTML = docLinkHtml;\n",
       "          element.appendChild(docLink);\n",
       "        }\n",
       "      </script>\n",
       "    </div>\n",
       "  </div>\n",
       "  "
      ],
      "text/plain": [
       "        0      1\n",
       "AU    0.0    0.0\n",
       "CA    0.0  100.0\n",
       "FR  -29.5    0.0\n",
       "DE  100.0    0.0\n",
       "JP    0.0    0.0\n",
       "UK  -70.5    0.0\n",
       "US    0.0 -100.0"
      ]
     },
     "execution_count": 43,
     "metadata": {},
     "output_type": "execute_result"
    }
   ],
   "source": [
    "# This is the default 'Proportional to Prior' assumption\n",
    "omega= proportional_prior(sigma_prior, tau, p)\n",
    "\n",
    "# Now double the uncertainty associated with View 1\n",
    "omega.iloc[0,0] = 2*omega.iloc[0,0]\n",
    "np.round(p.T*100,1)"
   ]
  },
  {
   "cell_type": "code",
   "execution_count": 46,
   "id": "ieoLkOGLUW_5",
   "metadata": {
    "colab": {
     "base_uri": "https://localhost:8080/",
     "height": 112
    },
    "executionInfo": {
     "elapsed": 4,
     "status": "ok",
     "timestamp": 1649188896133,
     "user": {
      "displayName": "Yi-Siou Feng",
      "userId": "04750312349484942434"
     },
     "user_tz": 240
    },
    "id": "ieoLkOGLUW_5",
    "outputId": "4ef02729-5218-40f6-b665-2fcfcf1ab888"
   },
   "outputs": [
    {
     "data": {
      "text/html": [
       "\n",
       "  <div id=\"df-182766e7-823d-4e3d-ac48-238e0429f933\">\n",
       "    <div class=\"colab-df-container\">\n",
       "      <div>\n",
       "<style scoped>\n",
       "    .dataframe tbody tr th:only-of-type {\n",
       "        vertical-align: middle;\n",
       "    }\n",
       "\n",
       "    .dataframe tbody tr th {\n",
       "        vertical-align: top;\n",
       "    }\n",
       "\n",
       "    .dataframe thead th {\n",
       "        text-align: right;\n",
       "    }\n",
       "</style>\n",
       "<table border=\"1\" class=\"dataframe\">\n",
       "  <thead>\n",
       "    <tr style=\"text-align: right;\">\n",
       "      <th></th>\n",
       "      <th>0</th>\n",
       "      <th>1</th>\n",
       "    </tr>\n",
       "  </thead>\n",
       "  <tbody>\n",
       "    <tr>\n",
       "      <th>0</th>\n",
       "      <td>0.00213</td>\n",
       "      <td>0.000000</td>\n",
       "    </tr>\n",
       "    <tr>\n",
       "      <th>1</th>\n",
       "      <td>0.00000</td>\n",
       "      <td>0.000852</td>\n",
       "    </tr>\n",
       "  </tbody>\n",
       "</table>\n",
       "</div>\n",
       "      <button class=\"colab-df-convert\" onclick=\"convertToInteractive('df-182766e7-823d-4e3d-ac48-238e0429f933')\"\n",
       "              title=\"Convert this dataframe to an interactive table.\"\n",
       "              style=\"display:none;\">\n",
       "        \n",
       "  <svg xmlns=\"http://www.w3.org/2000/svg\" height=\"24px\"viewBox=\"0 0 24 24\"\n",
       "       width=\"24px\">\n",
       "    <path d=\"M0 0h24v24H0V0z\" fill=\"none\"/>\n",
       "    <path d=\"M18.56 5.44l.94 2.06.94-2.06 2.06-.94-2.06-.94-.94-2.06-.94 2.06-2.06.94zm-11 1L8.5 8.5l.94-2.06 2.06-.94-2.06-.94L8.5 2.5l-.94 2.06-2.06.94zm10 10l.94 2.06.94-2.06 2.06-.94-2.06-.94-.94-2.06-.94 2.06-2.06.94z\"/><path d=\"M17.41 7.96l-1.37-1.37c-.4-.4-.92-.59-1.43-.59-.52 0-1.04.2-1.43.59L10.3 9.45l-7.72 7.72c-.78.78-.78 2.05 0 2.83L4 21.41c.39.39.9.59 1.41.59.51 0 1.02-.2 1.41-.59l7.78-7.78 2.81-2.81c.8-.78.8-2.07 0-2.86zM5.41 20L4 18.59l7.72-7.72 1.47 1.35L5.41 20z\"/>\n",
       "  </svg>\n",
       "      </button>\n",
       "      \n",
       "  <style>\n",
       "    .colab-df-container {\n",
       "      display:flex;\n",
       "      flex-wrap:wrap;\n",
       "      gap: 12px;\n",
       "    }\n",
       "\n",
       "    .colab-df-convert {\n",
       "      background-color: #E8F0FE;\n",
       "      border: none;\n",
       "      border-radius: 50%;\n",
       "      cursor: pointer;\n",
       "      display: none;\n",
       "      fill: #1967D2;\n",
       "      height: 32px;\n",
       "      padding: 0 0 0 0;\n",
       "      width: 32px;\n",
       "    }\n",
       "\n",
       "    .colab-df-convert:hover {\n",
       "      background-color: #E2EBFA;\n",
       "      box-shadow: 0px 1px 2px rgba(60, 64, 67, 0.3), 0px 1px 3px 1px rgba(60, 64, 67, 0.15);\n",
       "      fill: #174EA6;\n",
       "    }\n",
       "\n",
       "    [theme=dark] .colab-df-convert {\n",
       "      background-color: #3B4455;\n",
       "      fill: #D2E3FC;\n",
       "    }\n",
       "\n",
       "    [theme=dark] .colab-df-convert:hover {\n",
       "      background-color: #434B5C;\n",
       "      box-shadow: 0px 1px 3px 1px rgba(0, 0, 0, 0.15);\n",
       "      filter: drop-shadow(0px 1px 2px rgba(0, 0, 0, 0.3));\n",
       "      fill: #FFFFFF;\n",
       "    }\n",
       "  </style>\n",
       "\n",
       "      <script>\n",
       "        const buttonEl =\n",
       "          document.querySelector('#df-182766e7-823d-4e3d-ac48-238e0429f933 button.colab-df-convert');\n",
       "        buttonEl.style.display =\n",
       "          google.colab.kernel.accessAllowed ? 'block' : 'none';\n",
       "\n",
       "        async function convertToInteractive(key) {\n",
       "          const element = document.querySelector('#df-182766e7-823d-4e3d-ac48-238e0429f933');\n",
       "          const dataTable =\n",
       "            await google.colab.kernel.invokeFunction('convertToInteractive',\n",
       "                                                     [key], {});\n",
       "          if (!dataTable) return;\n",
       "\n",
       "          const docLinkHtml = 'Like what you see? Visit the ' +\n",
       "            '<a target=\"_blank\" href=https://colab.research.google.com/notebooks/data_table.ipynb>data table notebook</a>'\n",
       "            + ' to learn more about interactive tables.';\n",
       "          element.innerHTML = '';\n",
       "          dataTable['output_type'] = 'display_data';\n",
       "          await google.colab.output.renderOutput(dataTable, element);\n",
       "          const docLink = document.createElement('div');\n",
       "          docLink.innerHTML = docLinkHtml;\n",
       "          element.appendChild(docLink);\n",
       "        }\n",
       "      </script>\n",
       "    </div>\n",
       "  </div>\n",
       "  "
      ],
      "text/plain": [
       "         0         1\n",
       "0  0.00213  0.000000\n",
       "1  0.00000  0.000852"
      ]
     },
     "execution_count": 46,
     "metadata": {},
     "output_type": "execute_result"
    }
   ],
   "source": [
    "omega"
   ]
  },
  {
   "cell_type": "code",
   "execution_count": 44,
   "id": "ece7344a",
   "metadata": {
    "colab": {
     "base_uri": "https://localhost:8080/"
    },
    "executionInfo": {
     "elapsed": 5,
     "status": "ok",
     "timestamp": 1649186859817,
     "user": {
      "displayName": "Yi-Siou Feng",
      "userId": "04750312349484942434"
     },
     "user_tz": 240
    },
    "id": "ece7344a",
    "outputId": "94a810a5-e142-478a-9ef2-e749cb893474"
   },
   "outputs": [
    {
     "data": {
      "text/plain": [
       "AU     4.3\n",
       "CA     8.9\n",
       "FR     9.3\n",
       "DE    10.6\n",
       "JP     4.6\n",
       "UK     6.9\n",
       "US     7.2\n",
       "dtype: float64"
      ]
     },
     "execution_count": 44,
     "metadata": {},
     "output_type": "execute_result"
    }
   ],
   "source": [
    "bl_mu, bl_sigma = bl(w_eq, sigma_prior, p, q, tau=tau, omega=omega)\n",
    "\n",
    "# the black litterman expected returns\n",
    "np.round(bl_mu,3)*100"
   ]
  },
  {
   "cell_type": "code",
   "execution_count": 45,
   "id": "daa361c4",
   "metadata": {
    "colab": {
     "base_uri": "https://localhost:8080/"
    },
    "executionInfo": {
     "elapsed": 5,
     "status": "ok",
     "timestamp": 1649186859818,
     "user": {
      "displayName": "Yi-Siou Feng",
      "userId": "04750312349484942434"
     },
     "user_tz": 240
    },
    "id": "daa361c4",
    "outputId": "d141ce6c-a32b-4acb-b296-a2ce429b5301",
    "scrolled": true
   },
   "outputs": [
    {
     "data": {
      "text/plain": [
       "AU     1.5\n",
       "CA    53.9\n",
       "FR    -0.5\n",
       "DE    23.6\n",
       "JP    11.0\n",
       "UK    -1.1\n",
       "US     6.8\n",
       "dtype: float64"
      ]
     },
     "execution_count": 45,
     "metadata": {},
     "output_type": "execute_result"
    }
   ],
   "source": [
    "wstar = w_star(delta=2.5, sigma=bl_sigma, mu=bl_mu)\n",
    "#display w*\n",
    "(wstar*100).round(1)"
   ]
  },
  {
   "cell_type": "markdown",
   "id": "63a9c707",
   "metadata": {
    "id": "63a9c707"
   },
   "source": [
    "Again, we see how the weights increase allocations consistent with the view, but keep allocation from getting extreme"
   ]
  },
  {
   "cell_type": "markdown",
   "id": "ae53bdc2",
   "metadata": {
    "id": "ae53bdc2"
   },
   "source": [
    "![Ex7.jpeg](attachment:Ex7.jpeg)"
   ]
  }
 ],
 "metadata": {
  "colab": {
   "name": "Black-Litterman.ipynb",
   "provenance": []
  },
  "kernelspec": {
   "display_name": "Python 3",
   "language": "python",
   "name": "python3"
  },
  "language_info": {
   "codemirror_mode": {
    "name": "ipython",
    "version": 3
   },
   "file_extension": ".py",
   "mimetype": "text/x-python",
   "name": "python",
   "nbconvert_exporter": "python",
   "pygments_lexer": "ipython3",
   "version": "3.8.8"
  }
 },
 "nbformat": 4,
 "nbformat_minor": 5
}
